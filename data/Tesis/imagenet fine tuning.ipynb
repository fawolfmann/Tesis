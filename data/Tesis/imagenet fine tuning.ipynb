{
 "cells": [
  {
   "cell_type": "markdown",
   "metadata": {},
   "source": [
    "# full fine tuning"
   ]
  },
  {
   "cell_type": "code",
   "execution_count": 1,
   "metadata": {},
   "outputs": [],
   "source": [
    "%matplotlib inline"
   ]
  },
  {
   "cell_type": "code",
   "execution_count": 2,
   "metadata": {},
   "outputs": [
    {
     "name": "stdout",
     "output_type": "stream",
     "text": [
      "Requirement already satisfied: Pillow in /usr/local/lib/python3.6/dist-packages (6.2.1)\n",
      "\u001b[33mWARNING: You are using pip version 19.2.3, however version 19.3.1 is available.\n",
      "You should consider upgrading via the 'pip install --upgrade pip' command.\u001b[0m\n",
      "Requirement already satisfied: scipy in /usr/local/lib/python3.6/dist-packages (1.3.1)\n",
      "Requirement already satisfied: numpy>=1.13.3 in /usr/local/lib/python3.6/dist-packages (from scipy) (1.17.2)\n",
      "\u001b[33mWARNING: You are using pip version 19.2.3, however version 19.3.1 is available.\n",
      "You should consider upgrading via the 'pip install --upgrade pip' command.\u001b[0m\n"
     ]
    }
   ],
   "source": [
    "!pip install Pillow\n",
    "!pip install scipy"
   ]
  },
  {
   "cell_type": "code",
   "execution_count": 3,
   "metadata": {},
   "outputs": [
    {
     "name": "stdout",
     "output_type": "stream",
     "text": [
      "2.0.0\n"
     ]
    }
   ],
   "source": [
    "from __future__ import absolute_import, division, print_function, unicode_literals\n",
    "\n",
    "import os\n",
    "import numpy as np\n",
    "import scipy \n",
    "import pathlib\n",
    "import matplotlib.pyplot as plt\n",
    "import tensorflow as tf\n",
    "from PIL import Image\n",
    "import IPython.display as display\n",
    "import time\n",
    "\n",
    "keras = tf.keras\n",
    "print(tf.__version__)"
   ]
  },
  {
   "cell_type": "markdown",
   "metadata": {},
   "source": [
    "## Get tha data"
   ]
  },
  {
   "cell_type": "code",
   "execution_count": 4,
   "metadata": {},
   "outputs": [],
   "source": [
    "data_dir = './dataset/trigo/croped/'\n",
    "data_dir = pathlib.Path(data_dir)"
   ]
  },
  {
   "cell_type": "code",
   "execution_count": 5,
   "metadata": {},
   "outputs": [
    {
     "data": {
      "text/plain": [
       "840"
      ]
     },
     "execution_count": 5,
     "metadata": {},
     "output_type": "execute_result"
    }
   ],
   "source": [
    "image_count = len(list(data_dir.glob('*/*.jpg'))) + len(list(data_dir.glob('*/*.png')))\n",
    "image_count"
   ]
  },
  {
   "cell_type": "code",
   "execution_count": 6,
   "metadata": {},
   "outputs": [
    {
     "name": "stdout",
     "output_type": "stream",
     "text": [
      "croped: -> 0\n",
      "roya: -> 265\n",
      "mancha_foliar: -> 189\n",
      "oidio: -> 194\n",
      "sano: -> 192\n",
      "Total Files 840\n"
     ]
    }
   ],
   "source": [
    "N = 0  # total files\n",
    "for dirpath, dirnames, filenames in os.walk(data_dir):    \n",
    "    dirpath = dirpath.split(\"/\")[-1]\n",
    "    if dirpath != \".ipynb_checkpoints\":\n",
    "        N_c = len(filenames)\n",
    "        N += N_c\n",
    "        print( dirpath+ \": -> \" + str(N_c))\n",
    "print( \"Total Files \" + str(N) )"
   ]
  },
  {
   "cell_type": "code",
   "execution_count": 7,
   "metadata": {},
   "outputs": [
    {
     "data": {
      "text/plain": [
       "array(['roya', 'mancha_foliar', 'oidio', 'sano'], dtype='<U13')"
      ]
     },
     "execution_count": 7,
     "metadata": {},
     "output_type": "execute_result"
    }
   ],
   "source": [
    "CLASS_NAMES = np.array([item.name for item in data_dir.glob('*') if item.name != \".ipynb_checkpoints\"])\n",
    "CLASS_NAMES"
   ]
  },
  {
   "cell_type": "code",
   "execution_count": 8,
   "metadata": {},
   "outputs": [],
   "source": [
    "# The 1./255 is to convert from uint8 to float32 in range [0,1].\n",
    "image_generator = tf.keras.preprocessing.image.ImageDataGenerator(rescale=1./255,\n",
    "                                                                  validation_split=0.15,                            \n",
    "                                                                  zoom_range=0.4,\n",
    "                                                                  horizontal_flip=True,\n",
    "                                                                  rotation_range=90\n",
    "                                                                 )"
   ]
  },
  {
   "cell_type": "code",
   "execution_count": 15,
   "metadata": {},
   "outputs": [
    {
     "data": {
      "text/plain": [
       "23"
      ]
     },
     "execution_count": 15,
     "metadata": {},
     "output_type": "execute_result"
    }
   ],
   "source": [
    "BATCH_SIZE = 32\n",
    "IMG_HEIGHT = 224\n",
    "IMG_WIDTH = 224\n",
    "IMG_SHAPE = (IMG_HEIGHT, IMG_WIDTH, 3)\n",
    "STEPS_PER_EPOCH = np.ceil((image_count*0.85)/BATCH_SIZE)\n",
    "int(STEPS_PER_EPOCH)"
   ]
  },
  {
   "cell_type": "code",
   "execution_count": 16,
   "metadata": {},
   "outputs": [
    {
     "name": "stdout",
     "output_type": "stream",
     "text": [
      "Found 716 images belonging to 4 classes.\n"
     ]
    }
   ],
   "source": [
    "train_data_gen = image_generator.flow_from_directory(directory= str(data_dir),\n",
    "                                                     batch_size= BATCH_SIZE,\n",
    "                                                     shuffle= True,\n",
    "                                                     target_size= (IMG_HEIGHT, IMG_WIDTH),\n",
    "                                                     subset = \"training\",\n",
    "                                                     classes = list(CLASS_NAMES))"
   ]
  },
  {
   "cell_type": "code",
   "execution_count": 17,
   "metadata": {},
   "outputs": [
    {
     "name": "stdout",
     "output_type": "stream",
     "text": [
      "Found 124 images belonging to 4 classes.\n"
     ]
    }
   ],
   "source": [
    "valid_data_gen = image_generator.flow_from_directory(directory= str(data_dir),\n",
    "                                                     batch_size= BATCH_SIZE,\n",
    "                                                     shuffle= True,\n",
    "                                                     target_size= (IMG_HEIGHT, IMG_WIDTH),\n",
    "                                                     subset = \"validation\",\n",
    "                                                     classes = list(CLASS_NAMES))"
   ]
  },
  {
   "cell_type": "markdown",
   "metadata": {},
   "source": [
    "## Get the model"
   ]
  },
  {
   "cell_type": "code",
   "execution_count": 38,
   "metadata": {},
   "outputs": [],
   "source": [
    "base_model = tf.keras.applications.xception.Xception(include_top=False, \n",
    "                                                     weights='imagenet', \n",
    "                                                     input_shape=IMG_SHAPE\n",
    "                                                    )"
   ]
  },
  {
   "cell_type": "code",
   "execution_count": 39,
   "metadata": {},
   "outputs": [],
   "source": [
    "base_model.trainable = False"
   ]
  },
  {
   "cell_type": "code",
   "execution_count": 40,
   "metadata": {},
   "outputs": [],
   "source": [
    "global_average_layer = tf.keras.layers.GlobalAveragePooling2D()\n",
    "prediction_layer = keras.layers.Dense(len(CLASS_NAMES), activation=\"softmax\")"
   ]
  },
  {
   "cell_type": "code",
   "execution_count": 41,
   "metadata": {},
   "outputs": [],
   "source": [
    "model_x = tf.keras.Sequential([\n",
    "  base_model,\n",
    "  global_average_layer,\n",
    "  prediction_layer\n",
    "])"
   ]
  },
  {
   "cell_type": "code",
   "execution_count": 42,
   "metadata": {},
   "outputs": [],
   "source": [
    "reduce_lr = tf.keras.callbacks.ReduceLROnPlateau(monitor='val_loss', factor=0.4,\n",
    "                              patience=2, min_lr=0.0001, verbose = 1, min_delta = 0.005)\n",
    "early = tf.keras.callbacks.EarlyStopping(monitor='val_loss', patience=6 ,restore_best_weights=True)\n",
    "filepath_x = \"models/imagenet_trigo_Xception.{epoch:02d}-{val_accuracy:.2f}.h5\"\n",
    "checkpoint = tf.keras.callbacks.ModelCheckpoint(filepath = filepath_x, \n",
    "                                                          save_best_only=True , monitor='val_accuracy', mode='max')"
   ]
  },
  {
   "cell_type": "code",
   "execution_count": 43,
   "metadata": {},
   "outputs": [],
   "source": [
    "base_learning_rate = 0.03\n",
    "model_x.compile(optimizer=tf.keras.optimizers.Adam(lr=base_learning_rate),\n",
    "              loss='categorical_crossentropy',\n",
    "              metrics=['accuracy'])"
   ]
  },
  {
   "cell_type": "code",
   "execution_count": 44,
   "metadata": {},
   "outputs": [
    {
     "name": "stdout",
     "output_type": "stream",
     "text": [
      "Model: \"sequential_3\"\n",
      "_________________________________________________________________\n",
      "Layer (type)                 Output Shape              Param #   \n",
      "=================================================================\n",
      "xception (Model)             (None, 7, 7, 2048)        20861480  \n",
      "_________________________________________________________________\n",
      "global_average_pooling2d_1 ( (None, 2048)              0         \n",
      "_________________________________________________________________\n",
      "dense_1 (Dense)              (None, 4)                 8196      \n",
      "=================================================================\n",
      "Total params: 20,869,676\n",
      "Trainable params: 8,196\n",
      "Non-trainable params: 20,861,480\n",
      "_________________________________________________________________\n"
     ]
    }
   ],
   "source": [
    "model_x.summary()"
   ]
  },
  {
   "cell_type": "code",
   "execution_count": 45,
   "metadata": {},
   "outputs": [
    {
     "name": "stdout",
     "output_type": "stream",
     "text": [
      "Epoch 1/150\n",
      "23/23 [==============================] - 61s 3s/step - loss: 2.2681 - accuracy: 0.4078 - val_loss: 3.1327 - val_accuracy: 0.5323\n",
      "Epoch 2/150\n",
      "23/23 [==============================] - 53s 2s/step - loss: 1.3818 - accuracy: 0.5628 - val_loss: 3.1617 - val_accuracy: 0.3952\n",
      "Epoch 3/150\n",
      "23/23 [==============================] - 54s 2s/step - loss: 1.2406 - accuracy: 0.6285 - val_loss: 3.6841 - val_accuracy: 0.3952\n",
      "Epoch 4/150\n",
      "23/23 [==============================] - 54s 2s/step - loss: 1.0918 - accuracy: 0.6480 - val_loss: 2.7631 - val_accuracy: 0.3871\n",
      "Epoch 5/150\n",
      "23/23 [==============================] - 54s 2s/step - loss: 1.0838 - accuracy: 0.6536 - val_loss: 2.6320 - val_accuracy: 0.5081\n",
      "Epoch 6/150\n",
      "23/23 [==============================] - 54s 2s/step - loss: 0.8720 - accuracy: 0.6732 - val_loss: 2.1896 - val_accuracy: 0.5000\n",
      "Epoch 7/150\n",
      "23/23 [==============================] - 54s 2s/step - loss: 0.7856 - accuracy: 0.6983 - val_loss: 2.5356 - val_accuracy: 0.4919\n",
      "Epoch 8/150\n",
      "23/23 [==============================] - 53s 2s/step - loss: 1.1451 - accuracy: 0.6411 - val_loss: 3.3798 - val_accuracy: 0.4677\n",
      "Epoch 9/150\n",
      "23/23 [==============================] - 55s 2s/step - loss: 1.0016 - accuracy: 0.6899 - val_loss: 2.4343 - val_accuracy: 0.5484\n",
      "Epoch 10/150\n",
      "23/23 [==============================] - 53s 2s/step - loss: 0.8854 - accuracy: 0.7067 - val_loss: 2.2770 - val_accuracy: 0.4919\n",
      "Epoch 11/150\n",
      "23/23 [==============================] - 53s 2s/step - loss: 0.9458 - accuracy: 0.6927 - val_loss: 2.2152 - val_accuracy: 0.5081\n",
      "Epoch 12/150\n",
      "23/23 [==============================] - 54s 2s/step - loss: 0.8811 - accuracy: 0.7081 - val_loss: 2.6265 - val_accuracy: 0.5726\n",
      "Epoch 13/150\n",
      "23/23 [==============================] - 54s 2s/step - loss: 0.8556 - accuracy: 0.6997 - val_loss: 3.0847 - val_accuracy: 0.4194\n",
      "Epoch 14/150\n",
      "23/23 [==============================] - 52s 2s/step - loss: 0.9764 - accuracy: 0.6872 - val_loss: 4.0496 - val_accuracy: 0.3790\n",
      "Epoch 15/150\n",
      "23/23 [==============================] - 54s 2s/step - loss: 0.9250 - accuracy: 0.7039 - val_loss: 2.6168 - val_accuracy: 0.4758\n",
      "Epoch 16/150\n",
      "23/23 [==============================] - 52s 2s/step - loss: 1.1970 - accuracy: 0.6746 - val_loss: 2.3963 - val_accuracy: 0.4758\n",
      "Epoch 17/150\n",
      "23/23 [==============================] - 55s 2s/step - loss: 1.0582 - accuracy: 0.6955 - val_loss: 2.9654 - val_accuracy: 0.4355\n",
      "Epoch 18/150\n",
      "23/23 [==============================] - 54s 2s/step - loss: 0.9481 - accuracy: 0.6899 - val_loss: 3.3754 - val_accuracy: 0.4435\n",
      "Epoch 19/150\n",
      "23/23 [==============================] - 53s 2s/step - loss: 1.1433 - accuracy: 0.6816 - val_loss: 4.2718 - val_accuracy: 0.4597\n",
      "Epoch 20/150\n",
      "23/23 [==============================] - 54s 2s/step - loss: 0.8442 - accuracy: 0.7263 - val_loss: 3.5610 - val_accuracy: 0.4194\n",
      "Epoch 21/150\n",
      "23/23 [==============================] - 54s 2s/step - loss: 0.7857 - accuracy: 0.7291 - val_loss: 5.4069 - val_accuracy: 0.3629\n",
      "Epoch 22/150\n",
      "23/23 [==============================] - 53s 2s/step - loss: 1.1598 - accuracy: 0.6718 - val_loss: 4.5444 - val_accuracy: 0.3468\n",
      "Epoch 23/150\n",
      "23/23 [==============================] - 54s 2s/step - loss: 0.8056 - accuracy: 0.7528 - val_loss: 2.8030 - val_accuracy: 0.5161\n",
      "Epoch 24/150\n",
      "23/23 [==============================] - 54s 2s/step - loss: 0.7602 - accuracy: 0.7570 - val_loss: 3.2216 - val_accuracy: 0.4274\n",
      "Epoch 25/150\n",
      "23/23 [==============================] - 53s 2s/step - loss: 1.0100 - accuracy: 0.7179 - val_loss: 4.5259 - val_accuracy: 0.3871\n",
      "Epoch 26/150\n",
      "23/23 [==============================] - 54s 2s/step - loss: 1.0920 - accuracy: 0.7095 - val_loss: 2.4749 - val_accuracy: 0.5161\n",
      "Epoch 27/150\n",
      "23/23 [==============================] - 54s 2s/step - loss: 0.9408 - accuracy: 0.6941 - val_loss: 2.6742 - val_accuracy: 0.4677\n",
      "Epoch 28/150\n",
      "23/23 [==============================] - 53s 2s/step - loss: 1.1345 - accuracy: 0.7067 - val_loss: 4.8361 - val_accuracy: 0.4194\n",
      "Epoch 29/150\n",
      "23/23 [==============================] - 54s 2s/step - loss: 0.8626 - accuracy: 0.7402 - val_loss: 2.9583 - val_accuracy: 0.4677\n",
      "Epoch 30/150\n",
      "23/23 [==============================] - 52s 2s/step - loss: 0.9778 - accuracy: 0.7165 - val_loss: 4.4782 - val_accuracy: 0.4516\n",
      "Epoch 31/150\n",
      "23/23 [==============================] - 54s 2s/step - loss: 1.0707 - accuracy: 0.7039 - val_loss: 3.4949 - val_accuracy: 0.4194\n",
      "Epoch 32/150\n",
      "23/23 [==============================] - 53s 2s/step - loss: 1.1374 - accuracy: 0.6774 - val_loss: 2.6258 - val_accuracy: 0.5403\n",
      "Epoch 33/150\n",
      "23/23 [==============================] - 54s 2s/step - loss: 1.3021 - accuracy: 0.6592 - val_loss: 4.5761 - val_accuracy: 0.4597\n",
      "Epoch 34/150\n",
      "23/23 [==============================] - 55s 2s/step - loss: 0.9972 - accuracy: 0.7374 - val_loss: 4.7929 - val_accuracy: 0.4435\n",
      "Epoch 35/150\n",
      "23/23 [==============================] - 54s 2s/step - loss: 1.2591 - accuracy: 0.6899 - val_loss: 3.7823 - val_accuracy: 0.5161\n",
      "Epoch 36/150\n",
      "23/23 [==============================] - 54s 2s/step - loss: 1.3823 - accuracy: 0.6480 - val_loss: 4.6655 - val_accuracy: 0.3952\n",
      "Epoch 37/150\n",
      "23/23 [==============================] - 53s 2s/step - loss: 1.1490 - accuracy: 0.7249 - val_loss: 4.0553 - val_accuracy: 0.4032\n",
      "Epoch 38/150\n",
      "23/23 [==============================] - 53s 2s/step - loss: 1.2117 - accuracy: 0.7304 - val_loss: 4.7563 - val_accuracy: 0.4032\n",
      "Epoch 39/150\n",
      "23/23 [==============================] - 54s 2s/step - loss: 0.9521 - accuracy: 0.7318 - val_loss: 3.4001 - val_accuracy: 0.5484\n",
      "Epoch 40/150\n",
      "23/23 [==============================] - 54s 2s/step - loss: 1.0365 - accuracy: 0.7235 - val_loss: 2.8686 - val_accuracy: 0.5645\n",
      "Epoch 41/150\n",
      "23/23 [==============================] - 54s 2s/step - loss: 1.1580 - accuracy: 0.7123 - val_loss: 3.4035 - val_accuracy: 0.4355\n",
      "Epoch 42/150\n",
      "23/23 [==============================] - 53s 2s/step - loss: 0.9465 - accuracy: 0.7444 - val_loss: 3.3165 - val_accuracy: 0.5161\n",
      "Epoch 43/150\n",
      "23/23 [==============================] - 54s 2s/step - loss: 1.0557 - accuracy: 0.6927 - val_loss: 2.3375 - val_accuracy: 0.5887\n",
      "Epoch 44/150\n",
      "23/23 [==============================] - 53s 2s/step - loss: 1.4735 - accuracy: 0.6788 - val_loss: 4.0301 - val_accuracy: 0.4435\n",
      "Epoch 45/150\n",
      "23/23 [==============================] - 53s 2s/step - loss: 1.2021 - accuracy: 0.7263 - val_loss: 2.9406 - val_accuracy: 0.5726\n",
      "Epoch 46/150\n",
      "23/23 [==============================] - 54s 2s/step - loss: 1.4324 - accuracy: 0.6620 - val_loss: 3.3638 - val_accuracy: 0.5081\n",
      "Epoch 47/150\n",
      "23/23 [==============================] - 54s 2s/step - loss: 0.9352 - accuracy: 0.7528 - val_loss: 3.2243 - val_accuracy: 0.5242\n",
      "Epoch 48/150\n",
      "23/23 [==============================] - 53s 2s/step - loss: 0.8359 - accuracy: 0.7640 - val_loss: 4.5095 - val_accuracy: 0.5081\n",
      "Epoch 49/150\n",
      "23/23 [==============================] - 53s 2s/step - loss: 0.9852 - accuracy: 0.7514 - val_loss: 4.8134 - val_accuracy: 0.4113\n",
      "Epoch 50/150\n",
      "23/23 [==============================] - 54s 2s/step - loss: 0.9306 - accuracy: 0.7332 - val_loss: 4.0033 - val_accuracy: 0.5242\n",
      "Epoch 51/150\n",
      "23/23 [==============================] - 54s 2s/step - loss: 0.9534 - accuracy: 0.7416 - val_loss: 3.5438 - val_accuracy: 0.5242\n",
      "Epoch 52/150\n",
      "23/23 [==============================] - 54s 2s/step - loss: 1.0260 - accuracy: 0.7221 - val_loss: 2.8827 - val_accuracy: 0.6048\n",
      "Epoch 53/150\n",
      "23/23 [==============================] - 54s 2s/step - loss: 1.2076 - accuracy: 0.6844 - val_loss: 3.6038 - val_accuracy: 0.5323\n",
      "Epoch 54/150\n",
      "23/23 [==============================] - 53s 2s/step - loss: 1.0379 - accuracy: 0.7374 - val_loss: 4.2887 - val_accuracy: 0.4516\n",
      "Epoch 55/150\n",
      "23/23 [==============================] - 54s 2s/step - loss: 0.9517 - accuracy: 0.7304 - val_loss: 5.8624 - val_accuracy: 0.3226\n",
      "Epoch 56/150\n",
      "23/23 [==============================] - 54s 2s/step - loss: 0.9119 - accuracy: 0.7360 - val_loss: 4.9866 - val_accuracy: 0.4113\n",
      "Epoch 57/150\n",
      "23/23 [==============================] - 54s 2s/step - loss: 1.0006 - accuracy: 0.7444 - val_loss: 3.7333 - val_accuracy: 0.5161\n",
      "Epoch 58/150\n",
      "23/23 [==============================] - 53s 2s/step - loss: 1.1086 - accuracy: 0.7318 - val_loss: 5.3567 - val_accuracy: 0.3871\n"
     ]
    },
    {
     "name": "stdout",
     "output_type": "stream",
     "text": [
      "Epoch 59/150\n",
      "23/23 [==============================] - 54s 2s/step - loss: 1.1466 - accuracy: 0.7025 - val_loss: 3.7750 - val_accuracy: 0.4677\n",
      "Epoch 60/150\n",
      "23/23 [==============================] - 52s 2s/step - loss: 1.0345 - accuracy: 0.7332 - val_loss: 4.5468 - val_accuracy: 0.4435\n",
      "Epoch 61/150\n",
      "23/23 [==============================] - 53s 2s/step - loss: 1.0176 - accuracy: 0.7346 - val_loss: 3.2087 - val_accuracy: 0.4435\n",
      "Epoch 62/150\n",
      "23/23 [==============================] - 52s 2s/step - loss: 0.9803 - accuracy: 0.7374 - val_loss: 4.2997 - val_accuracy: 0.4355\n",
      "Epoch 63/150\n",
      "23/23 [==============================] - 53s 2s/step - loss: 0.9014 - accuracy: 0.7542 - val_loss: 4.7605 - val_accuracy: 0.3790\n",
      "Epoch 64/150\n",
      "23/23 [==============================] - 52s 2s/step - loss: 1.1648 - accuracy: 0.7095 - val_loss: 4.9627 - val_accuracy: 0.4113\n",
      "Epoch 65/150\n",
      "23/23 [==============================] - 53s 2s/step - loss: 1.4784 - accuracy: 0.6830 - val_loss: 3.3545 - val_accuracy: 0.5081\n",
      "Epoch 66/150\n",
      "23/23 [==============================] - 54s 2s/step - loss: 1.5144 - accuracy: 0.6718 - val_loss: 4.4910 - val_accuracy: 0.4677\n",
      "Epoch 67/150\n",
      "23/23 [==============================] - 53s 2s/step - loss: 1.0765 - accuracy: 0.7402 - val_loss: 3.0754 - val_accuracy: 0.5565\n",
      "Epoch 68/150\n",
      "23/23 [==============================] - 54s 2s/step - loss: 1.0890 - accuracy: 0.7528 - val_loss: 3.6618 - val_accuracy: 0.4677\n",
      "Epoch 69/150\n",
      "23/23 [==============================] - 54s 2s/step - loss: 0.9995 - accuracy: 0.7486 - val_loss: 4.0532 - val_accuracy: 0.5000\n",
      "Epoch 70/150\n",
      "23/23 [==============================] - 54s 2s/step - loss: 1.5020 - accuracy: 0.6760 - val_loss: 6.6796 - val_accuracy: 0.3952\n",
      "Epoch 71/150\n",
      "23/23 [==============================] - 54s 2s/step - loss: 1.3621 - accuracy: 0.6997 - val_loss: 6.2752 - val_accuracy: 0.3548\n",
      "Epoch 72/150\n",
      "23/23 [==============================] - 53s 2s/step - loss: 1.2482 - accuracy: 0.7360 - val_loss: 4.3900 - val_accuracy: 0.4919\n",
      "Epoch 73/150\n",
      "23/23 [==============================] - 53s 2s/step - loss: 1.3138 - accuracy: 0.6997 - val_loss: 4.6360 - val_accuracy: 0.4355\n",
      "Epoch 74/150\n",
      "23/23 [==============================] - 53s 2s/step - loss: 1.0433 - accuracy: 0.7402 - val_loss: 4.2105 - val_accuracy: 0.4839\n",
      "Epoch 75/150\n",
      "23/23 [==============================] - 54s 2s/step - loss: 1.1213 - accuracy: 0.7360 - val_loss: 3.9554 - val_accuracy: 0.4597\n",
      "Epoch 76/150\n",
      "23/23 [==============================] - 53s 2s/step - loss: 1.2971 - accuracy: 0.7123 - val_loss: 4.0576 - val_accuracy: 0.5726\n",
      "Epoch 77/150\n",
      "23/23 [==============================] - 54s 2s/step - loss: 1.1540 - accuracy: 0.7123 - val_loss: 3.6968 - val_accuracy: 0.4758\n",
      "Epoch 78/150\n",
      "23/23 [==============================] - 54s 2s/step - loss: 1.3079 - accuracy: 0.7123 - val_loss: 4.3661 - val_accuracy: 0.3952\n",
      "Epoch 79/150\n",
      "23/23 [==============================] - 53s 2s/step - loss: 1.4191 - accuracy: 0.6802 - val_loss: 3.9289 - val_accuracy: 0.4839\n",
      "Epoch 80/150\n",
      "23/23 [==============================] - 53s 2s/step - loss: 1.0529 - accuracy: 0.7458 - val_loss: 3.3962 - val_accuracy: 0.5081\n",
      "Epoch 81/150\n",
      "23/23 [==============================] - 52s 2s/step - loss: 1.0537 - accuracy: 0.7263 - val_loss: 3.2842 - val_accuracy: 0.5484\n",
      "Epoch 82/150\n",
      "23/23 [==============================] - 54s 2s/step - loss: 0.9698 - accuracy: 0.7472 - val_loss: 3.1666 - val_accuracy: 0.5565\n",
      "Epoch 83/150\n",
      "23/23 [==============================] - 53s 2s/step - loss: 1.5438 - accuracy: 0.6844 - val_loss: 3.8651 - val_accuracy: 0.4839\n",
      "Epoch 84/150\n",
      "23/23 [==============================] - 53s 2s/step - loss: 1.1393 - accuracy: 0.7318 - val_loss: 4.1494 - val_accuracy: 0.5000\n",
      "Epoch 85/150\n",
      "23/23 [==============================] - 53s 2s/step - loss: 1.1289 - accuracy: 0.7500 - val_loss: 4.5850 - val_accuracy: 0.4677\n",
      "Epoch 86/150\n",
      "23/23 [==============================] - 54s 2s/step - loss: 0.9029 - accuracy: 0.7640 - val_loss: 3.3935 - val_accuracy: 0.5806\n",
      "Epoch 87/150\n",
      "23/23 [==============================] - 54s 2s/step - loss: 0.9876 - accuracy: 0.7598 - val_loss: 4.2032 - val_accuracy: 0.5323\n",
      "Epoch 88/150\n",
      "23/23 [==============================] - 54s 2s/step - loss: 1.1446 - accuracy: 0.7346 - val_loss: 4.9944 - val_accuracy: 0.3871\n",
      "Epoch 89/150\n",
      "23/23 [==============================] - 54s 2s/step - loss: 1.2689 - accuracy: 0.7095 - val_loss: 4.3135 - val_accuracy: 0.4758\n",
      "Epoch 90/150\n",
      "23/23 [==============================] - 53s 2s/step - loss: 1.0032 - accuracy: 0.7360 - val_loss: 6.0601 - val_accuracy: 0.3871\n",
      "Epoch 91/150\n",
      "23/23 [==============================] - 54s 2s/step - loss: 1.1879 - accuracy: 0.7291 - val_loss: 3.9921 - val_accuracy: 0.5000\n",
      "Epoch 92/150\n",
      "23/23 [==============================] - 52s 2s/step - loss: 1.1086 - accuracy: 0.7500 - val_loss: 3.3796 - val_accuracy: 0.5645\n",
      "Epoch 93/150\n",
      "23/23 [==============================] - 53s 2s/step - loss: 0.9466 - accuracy: 0.7598 - val_loss: 4.4455 - val_accuracy: 0.4677\n",
      "Epoch 94/150\n",
      "23/23 [==============================] - 53s 2s/step - loss: 1.1061 - accuracy: 0.7360 - val_loss: 3.7235 - val_accuracy: 0.4597\n",
      "Epoch 95/150\n",
      "23/23 [==============================] - 54s 2s/step - loss: 0.9619 - accuracy: 0.7668 - val_loss: 4.4593 - val_accuracy: 0.4919\n",
      "Epoch 96/150\n",
      "23/23 [==============================] - 54s 2s/step - loss: 1.0509 - accuracy: 0.7332 - val_loss: 4.7061 - val_accuracy: 0.4919\n",
      "Epoch 97/150\n",
      "23/23 [==============================] - 54s 2s/step - loss: 0.9803 - accuracy: 0.7486 - val_loss: 4.2275 - val_accuracy: 0.4113\n",
      "Epoch 98/150\n",
      "23/23 [==============================] - 53s 2s/step - loss: 0.9870 - accuracy: 0.7500 - val_loss: 5.2603 - val_accuracy: 0.3548\n",
      "Epoch 99/150\n",
      "23/23 [==============================] - 53s 2s/step - loss: 0.8070 - accuracy: 0.7654 - val_loss: 5.0782 - val_accuracy: 0.3548\n",
      "Epoch 100/150\n",
      "23/23 [==============================] - 54s 2s/step - loss: 0.9415 - accuracy: 0.7542 - val_loss: 5.7943 - val_accuracy: 0.3306\n",
      "Epoch 101/150\n",
      "23/23 [==============================] - 54s 2s/step - loss: 0.7190 - accuracy: 0.7877 - val_loss: 4.1470 - val_accuracy: 0.4274\n",
      "Epoch 102/150\n",
      "23/23 [==============================] - 54s 2s/step - loss: 0.9932 - accuracy: 0.7556 - val_loss: 6.2248 - val_accuracy: 0.3548\n",
      "Epoch 103/150\n",
      "23/23 [==============================] - 54s 2s/step - loss: 1.0381 - accuracy: 0.7388 - val_loss: 6.3491 - val_accuracy: 0.3468\n",
      "Epoch 104/150\n",
      "23/23 [==============================] - 52s 2s/step - loss: 0.9141 - accuracy: 0.7584 - val_loss: 6.0866 - val_accuracy: 0.3871\n",
      "Epoch 105/150\n",
      "23/23 [==============================] - 52s 2s/step - loss: 1.1224 - accuracy: 0.7221 - val_loss: 3.6387 - val_accuracy: 0.4758\n",
      "Epoch 106/150\n",
      "23/23 [==============================] - 53s 2s/step - loss: 0.9767 - accuracy: 0.7654 - val_loss: 5.3738 - val_accuracy: 0.3629\n",
      "Epoch 107/150\n",
      "23/23 [==============================] - 53s 2s/step - loss: 0.7561 - accuracy: 0.7570 - val_loss: 5.1265 - val_accuracy: 0.3952\n",
      "Epoch 108/150\n",
      "23/23 [==============================] - 54s 2s/step - loss: 0.9730 - accuracy: 0.7598 - val_loss: 5.1587 - val_accuracy: 0.3548\n",
      "Epoch 109/150\n",
      "23/23 [==============================] - 53s 2s/step - loss: 1.6058 - accuracy: 0.6913 - val_loss: 4.7983 - val_accuracy: 0.3871\n",
      "Epoch 110/150\n",
      "23/23 [==============================] - 53s 2s/step - loss: 0.9749 - accuracy: 0.7584 - val_loss: 5.0005 - val_accuracy: 0.4194\n",
      "Epoch 111/150\n",
      "23/23 [==============================] - 54s 2s/step - loss: 0.9490 - accuracy: 0.7472 - val_loss: 4.3147 - val_accuracy: 0.4435\n",
      "Epoch 112/150\n",
      "23/23 [==============================] - 53s 2s/step - loss: 0.8944 - accuracy: 0.7514 - val_loss: 3.1914 - val_accuracy: 0.5403\n",
      "Epoch 113/150\n",
      "23/23 [==============================] - 54s 2s/step - loss: 0.9590 - accuracy: 0.7696 - val_loss: 6.2786 - val_accuracy: 0.4274\n",
      "Epoch 114/150\n",
      "23/23 [==============================] - 53s 2s/step - loss: 1.2729 - accuracy: 0.6858 - val_loss: 4.9787 - val_accuracy: 0.4355\n",
      "Epoch 115/150\n",
      "23/23 [==============================] - 52s 2s/step - loss: 1.1660 - accuracy: 0.7109 - val_loss: 4.4570 - val_accuracy: 0.4113\n",
      "Epoch 116/150\n"
     ]
    },
    {
     "name": "stdout",
     "output_type": "stream",
     "text": [
      "23/23 [==============================] - 53s 2s/step - loss: 0.9077 - accuracy: 0.7584 - val_loss: 3.6936 - val_accuracy: 0.5403\n",
      "Epoch 117/150\n",
      "23/23 [==============================] - 53s 2s/step - loss: 0.8786 - accuracy: 0.7556 - val_loss: 4.3934 - val_accuracy: 0.4597\n",
      "Epoch 118/150\n",
      "23/23 [==============================] - 53s 2s/step - loss: 1.1375 - accuracy: 0.7095 - val_loss: 5.7465 - val_accuracy: 0.3952\n",
      "Epoch 119/150\n",
      "23/23 [==============================] - 53s 2s/step - loss: 1.3138 - accuracy: 0.6746 - val_loss: 4.2670 - val_accuracy: 0.4597\n",
      "Epoch 120/150\n",
      "23/23 [==============================] - 52s 2s/step - loss: 1.1343 - accuracy: 0.7291 - val_loss: 4.8759 - val_accuracy: 0.4355\n",
      "Epoch 121/150\n",
      "23/23 [==============================] - 54s 2s/step - loss: 1.0770 - accuracy: 0.7472 - val_loss: 5.4132 - val_accuracy: 0.4274\n",
      "Epoch 122/150\n",
      "23/23 [==============================] - 53s 2s/step - loss: 0.9967 - accuracy: 0.7388 - val_loss: 5.5307 - val_accuracy: 0.4435\n",
      "Epoch 123/150\n",
      "23/23 [==============================] - 53s 2s/step - loss: 1.0009 - accuracy: 0.7528 - val_loss: 5.5550 - val_accuracy: 0.4032\n",
      "Epoch 124/150\n",
      "23/23 [==============================] - 54s 2s/step - loss: 0.9418 - accuracy: 0.7654 - val_loss: 3.3133 - val_accuracy: 0.5484\n",
      "Epoch 125/150\n",
      "23/23 [==============================] - 54s 2s/step - loss: 0.9845 - accuracy: 0.7584 - val_loss: 3.5576 - val_accuracy: 0.5081\n",
      "Epoch 126/150\n",
      "23/23 [==============================] - 53s 2s/step - loss: 1.1306 - accuracy: 0.7332 - val_loss: 4.3222 - val_accuracy: 0.4435\n",
      "Epoch 127/150\n",
      "23/23 [==============================] - 53s 2s/step - loss: 0.8938 - accuracy: 0.7542 - val_loss: 4.9259 - val_accuracy: 0.4597\n",
      "Epoch 128/150\n",
      "23/23 [==============================] - 53s 2s/step - loss: 1.1184 - accuracy: 0.7235 - val_loss: 5.3053 - val_accuracy: 0.3871\n",
      "Epoch 129/150\n",
      "23/23 [==============================] - 54s 2s/step - loss: 0.9862 - accuracy: 0.7765 - val_loss: 4.2945 - val_accuracy: 0.5000\n",
      "Epoch 130/150\n",
      "23/23 [==============================] - 53s 2s/step - loss: 0.7935 - accuracy: 0.7849 - val_loss: 3.9213 - val_accuracy: 0.4516\n",
      "Epoch 131/150\n",
      "23/23 [==============================] - 54s 2s/step - loss: 1.2016 - accuracy: 0.7249 - val_loss: 3.2069 - val_accuracy: 0.4597\n",
      "Epoch 132/150\n",
      "23/23 [==============================] - 53s 2s/step - loss: 1.1127 - accuracy: 0.7486 - val_loss: 5.0105 - val_accuracy: 0.4516\n",
      "Epoch 133/150\n",
      "23/23 [==============================] - 53s 2s/step - loss: 1.0132 - accuracy: 0.7277 - val_loss: 4.4038 - val_accuracy: 0.4758\n",
      "Epoch 134/150\n",
      "23/23 [==============================] - 54s 2s/step - loss: 0.7739 - accuracy: 0.7919 - val_loss: 4.1248 - val_accuracy: 0.4758\n",
      "Epoch 135/150\n",
      "23/23 [==============================] - 53s 2s/step - loss: 0.9193 - accuracy: 0.7416 - val_loss: 4.8958 - val_accuracy: 0.4597\n",
      "Epoch 136/150\n",
      "23/23 [==============================] - 52s 2s/step - loss: 0.9961 - accuracy: 0.7584 - val_loss: 4.8447 - val_accuracy: 0.3790\n",
      "Epoch 137/150\n",
      "23/23 [==============================] - 53s 2s/step - loss: 1.0511 - accuracy: 0.7374 - val_loss: 4.3658 - val_accuracy: 0.4516\n",
      "Epoch 138/150\n",
      "23/23 [==============================] - 53s 2s/step - loss: 0.8461 - accuracy: 0.7626 - val_loss: 5.4046 - val_accuracy: 0.3952\n",
      "Epoch 139/150\n",
      "23/23 [==============================] - 52s 2s/step - loss: 1.0690 - accuracy: 0.7249 - val_loss: 4.1855 - val_accuracy: 0.4919\n",
      "Epoch 140/150\n",
      "23/23 [==============================] - 54s 2s/step - loss: 1.0062 - accuracy: 0.7430 - val_loss: 4.9159 - val_accuracy: 0.4274\n",
      "Epoch 141/150\n",
      "23/23 [==============================] - 54s 2s/step - loss: 0.8803 - accuracy: 0.7779 - val_loss: 4.1131 - val_accuracy: 0.4919\n",
      "Epoch 142/150\n",
      "23/23 [==============================] - 53s 2s/step - loss: 0.8910 - accuracy: 0.7612 - val_loss: 4.7480 - val_accuracy: 0.4435\n",
      "Epoch 143/150\n",
      "23/23 [==============================] - 54s 2s/step - loss: 1.0418 - accuracy: 0.7207 - val_loss: 4.3372 - val_accuracy: 0.5484\n",
      "Epoch 144/150\n",
      "23/23 [==============================] - 52s 2s/step - loss: 0.7617 - accuracy: 0.7821 - val_loss: 5.6950 - val_accuracy: 0.4677\n",
      "Epoch 145/150\n",
      "23/23 [==============================] - 52s 2s/step - loss: 1.0477 - accuracy: 0.7472 - val_loss: 3.8384 - val_accuracy: 0.5323\n",
      "Epoch 146/150\n",
      "23/23 [==============================] - 53s 2s/step - loss: 1.0017 - accuracy: 0.7542 - val_loss: 3.7988 - val_accuracy: 0.5726\n",
      "Epoch 147/150\n",
      "23/23 [==============================] - 52s 2s/step - loss: 1.2950 - accuracy: 0.7221 - val_loss: 3.4835 - val_accuracy: 0.5161\n",
      "Epoch 148/150\n",
      "23/23 [==============================] - 52s 2s/step - loss: 1.1072 - accuracy: 0.7332 - val_loss: 3.5736 - val_accuracy: 0.5161\n",
      "Epoch 149/150\n",
      "23/23 [==============================] - 54s 2s/step - loss: 1.1865 - accuracy: 0.7235 - val_loss: 4.9234 - val_accuracy: 0.4758\n",
      "Epoch 150/150\n",
      "23/23 [==============================] - 54s 2s/step - loss: 1.1639 - accuracy: 0.7095 - val_loss: 4.0057 - val_accuracy: 0.4839\n",
      "took: 133.64099885622662\n"
     ]
    }
   ],
   "source": [
    "total_epochs = 150\n",
    "start_time = time.time()\n",
    "history_x = model_x.fit_generator(train_data_gen,\n",
    "                         epochs=total_epochs,\n",
    "                         steps_per_epoch=train_data_gen.__len__(),\n",
    "                         validation_data=valid_data_gen,\n",
    "                         validation_steps= valid_data_gen.__len__(),\n",
    "                         callbacks = [checkpoint]\n",
    "                        )\n",
    "duration = time.time() - start_time\n",
    "print('took: ' + str(duration/60))"
   ]
  },
  {
   "cell_type": "code",
   "execution_count": null,
   "metadata": {},
   "outputs": [],
   "source": []
  }
 ],
 "metadata": {
  "kernelspec": {
   "display_name": "Python 3",
   "language": "python",
   "name": "python3"
  },
  "language_info": {
   "codemirror_mode": {
    "name": "ipython",
    "version": 3
   },
   "file_extension": ".py",
   "mimetype": "text/x-python",
   "name": "python",
   "nbconvert_exporter": "python",
   "pygments_lexer": "ipython3",
   "version": "3.6.8"
  }
 },
 "nbformat": 4,
 "nbformat_minor": 2
}
