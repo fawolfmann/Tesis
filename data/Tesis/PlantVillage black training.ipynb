{
 "cells": [
  {
   "cell_type": "markdown",
   "metadata": {},
   "source": [
    "# PlantVillage + Trigo"
   ]
  },
  {
   "cell_type": "markdown",
   "metadata": {},
   "source": [
    "Train booth with balack background and same augmentation"
   ]
  },
  {
   "cell_type": "code",
   "execution_count": 2,
   "metadata": {},
   "outputs": [],
   "source": [
    "%matplotlib inline"
   ]
  },
  {
   "cell_type": "code",
   "execution_count": 3,
   "metadata": {},
   "outputs": [
    {
     "name": "stdout",
     "output_type": "stream",
     "text": [
      "Requirement already satisfied: Pillow in /usr/local/lib/python3.6/dist-packages (6.2.1)\n",
      "\u001b[33mWARNING: You are using pip version 19.2.3, however version 19.3.1 is available.\n",
      "You should consider upgrading via the 'pip install --upgrade pip' command.\u001b[0m\n",
      "Requirement already satisfied: scipy in /usr/local/lib/python3.6/dist-packages (1.3.2)\n",
      "Requirement already satisfied: numpy>=1.13.3 in /usr/local/lib/python3.6/dist-packages (from scipy) (1.17.2)\n",
      "\u001b[33mWARNING: You are using pip version 19.2.3, however version 19.3.1 is available.\n",
      "You should consider upgrading via the 'pip install --upgrade pip' command.\u001b[0m\n"
     ]
    }
   ],
   "source": [
    "!pip install Pillow\n",
    "!pip install scipy"
   ]
  },
  {
   "cell_type": "code",
   "execution_count": 4,
   "metadata": {},
   "outputs": [
    {
     "name": "stdout",
     "output_type": "stream",
     "text": [
      "2.0.0\n"
     ]
    }
   ],
   "source": [
    "from __future__ import absolute_import, division, print_function, unicode_literals\n",
    "\n",
    "import os\n",
    "import numpy as np\n",
    "import scipy \n",
    "import pathlib\n",
    "import matplotlib.pyplot as plt\n",
    "import tensorflow as tf\n",
    "from PIL import Image\n",
    "import IPython.display as display\n",
    "import time\n",
    "\n",
    "keras = tf.keras\n",
    "print(tf.__version__)\n"
   ]
  },
  {
   "cell_type": "code",
   "execution_count": 5,
   "metadata": {},
   "outputs": [
    {
     "name": "stdout",
     "output_type": "stream",
     "text": [
      "Num GPUs Available:  [PhysicalDevice(name='/physical_device:GPU:0', device_type='GPU')]\n"
     ]
    }
   ],
   "source": [
    "print(\"Num GPUs Available: \", tf.config.experimental.list_physical_devices('GPU'))"
   ]
  },
  {
   "cell_type": "markdown",
   "metadata": {},
   "source": [
    "## Train model on plantvillage with black background"
   ]
  },
  {
   "cell_type": "markdown",
   "metadata": {},
   "source": [
    "## Get the Data"
   ]
  },
  {
   "cell_type": "code",
   "execution_count": 6,
   "metadata": {},
   "outputs": [],
   "source": [
    "data_dir = './dataset/PlantVillage/PlantVillage-Dataset/raw/segmented/'\n",
    "data_dir = pathlib.Path(data_dir)"
   ]
  },
  {
   "cell_type": "code",
   "execution_count": 7,
   "metadata": {},
   "outputs": [
    {
     "name": "stdout",
     "output_type": "stream",
     "text": [
      "segmented & 0 \\\\ \n",
      "Apple___Apple_scab & 630 \\\\ \n",
      "Grape___Black_rot & 1180 \\\\ \n",
      "Pepper,_bell___Bacterial_spot & 997 \\\\ \n",
      "Tomato___Tomato_Yellow_Leaf_Curl_Virus & 5357 \\\\ \n",
      "Potato___Early_blight & 1000 \\\\ \n",
      "Tomato___Spider_mites Two-spotted_spider_mite & 1676 \\\\ \n",
      "Tomato___Target_Spot & 1404 \\\\ \n",
      "Apple___healthy & 1645 \\\\ \n",
      "Apple___Cedar_apple_rust & 275 \\\\ \n",
      "Tomato___Septoria_leaf_spot & 1771 \\\\ \n",
      "Raspberry___healthy & 371 \\\\ \n",
      "Cherry_(including_sour)___Powdery_mildew & 1052 \\\\ \n",
      "Strawberry___Leaf_scorch & 1109 \\\\ \n",
      "Peach___Bacterial_spot & 2297 \\\\ \n",
      "Blueberry___healthy & 1502 \\\\ \n",
      "Grape___healthy & 423 \\\\ \n",
      "Peach___healthy & 360 \\\\ \n",
      "Corn_(maize)___Northern_Leaf_Blight & 985 \\\\ \n",
      "Strawberry___healthy & 456 \\\\ \n",
      "Grape___Leaf_blight_(Isariopsis_Leaf_Spot) & 1076 \\\\ \n",
      "Tomato___Late_blight & 1909 \\\\ \n",
      "Potato___healthy & 152 \\\\ \n",
      "Orange___Haunglongbing_(Citrus_greening) & 5507 \\\\ \n",
      "Cherry_(including_sour)___healthy & 854 \\\\ \n",
      "Apple___Black_rot & 621 \\\\ \n",
      "Tomato___Tomato_mosaic_virus & 373 \\\\ \n",
      "Tomato___Bacterial_spot & 2127 \\\\ \n",
      "Squash___Powdery_mildew & 1835 \\\\ \n",
      "Pepper,_bell___healthy & 1478 \\\\ \n",
      "Corn_(maize)___Cercospora_leaf_spot Gray_leaf_spot & 513 \\\\ \n",
      "Corn_(maize)___healthy & 1162 \\\\ \n",
      "Potato___Late_blight & 1000 \\\\ \n",
      "Tomato___healthy & 1591 \\\\ \n",
      "Soybean___healthy & 5090 \\\\ \n",
      "Tomato___Leaf_Mold & 952 \\\\ \n",
      "Tomato___Early_blight & 1000 \\\\ \n",
      "Grape___Esca_(Black_Measles) & 1384 \\\\ \n",
      "Corn_(maize)___Common_rust_ & 1192 \\\\ \n",
      "Total Files 54306\n"
     ]
    }
   ],
   "source": [
    "files = {}\n",
    "N = 0  # total files\n",
    "for dirpath, dirnames, filenames in os.walk(data_dir):\n",
    "    dirpath = dirpath.split(\"/\")[-1]\n",
    "    N_c = len(filenames)\n",
    "    N += N_c\n",
    "    files[dirpath] = N_c\n",
    "    print( dirpath + \" & \" + str(N_c) +\" \\\\\\ \" )\n",
    "print( \"Total Files \" + str(N) )"
   ]
  },
  {
   "cell_type": "code",
   "execution_count": 8,
   "metadata": {},
   "outputs": [
    {
     "data": {
      "text/plain": [
       "38"
      ]
     },
     "execution_count": 8,
     "metadata": {},
     "output_type": "execute_result"
    }
   ],
   "source": [
    "CLASS_NAMES = np.array([item.name for item in data_dir.glob('*') if item.name != \"LICENSE.txt\"])\n",
    "len(CLASS_NAMES)"
   ]
  },
  {
   "cell_type": "code",
   "execution_count": 9,
   "metadata": {},
   "outputs": [],
   "source": [
    "# The 1./255 is to convert from uint8 to float32 in range [0,1].\n",
    "image_generator = tf.keras.preprocessing.image.ImageDataGenerator(rescale=1./255,\n",
    "                                                                  validation_split=0.2,\n",
    "                                                                  zoom_range=0.2,\n",
    "                                                                  horizontal_flip = True,\n",
    "                                                                  rotation_range = 45,\n",
    "                                                                  vertical_flip = True,\n",
    "                                                                  brightness_range= [0.5, 1.5]\n",
    "                                                                 )"
   ]
  },
  {
   "cell_type": "code",
   "execution_count": 10,
   "metadata": {},
   "outputs": [],
   "source": [
    "BATCH_SIZE = 32\n",
    "IMG_HEIGHT = 224\n",
    "IMG_WIDTH = 224"
   ]
  },
  {
   "cell_type": "code",
   "execution_count": 11,
   "metadata": {},
   "outputs": [
    {
     "name": "stdout",
     "output_type": "stream",
     "text": [
      "Found 43457 images belonging to 38 classes.\n"
     ]
    }
   ],
   "source": [
    "train_data_gen = image_generator.flow_from_directory(directory= str(data_dir),\n",
    "                                                     batch_size= BATCH_SIZE,\n",
    "                                                     shuffle= True,\n",
    "                                                     target_size= (IMG_HEIGHT, IMG_WIDTH),\n",
    "                                                     subset = \"training\",\n",
    "                                                     classes = list(CLASS_NAMES))"
   ]
  },
  {
   "cell_type": "code",
   "execution_count": 12,
   "metadata": {},
   "outputs": [
    {
     "name": "stdout",
     "output_type": "stream",
     "text": [
      "Found 10849 images belonging to 38 classes.\n"
     ]
    }
   ],
   "source": [
    "valid_data_gen = image_generator.flow_from_directory(directory= str(data_dir),\n",
    "                                                     batch_size= BATCH_SIZE,\n",
    "                                                     shuffle= True,\n",
    "                                                     target_size= (IMG_HEIGHT, IMG_WIDTH),\n",
    "                                                     subset = \"validation\",\n",
    "                                                     classes = list(CLASS_NAMES))"
   ]
  },
  {
   "cell_type": "code",
   "execution_count": 13,
   "metadata": {},
   "outputs": [],
   "source": [
    "image_count = train_data_gen.__len__()\n",
    "STEPS_PER_EPOCH = np.ceil((image_count*0.9)/BATCH_SIZE)\n",
    "int(STEPS_PER_EPOCH)\n",
    "IMG_SHAPE = (IMG_HEIGHT, IMG_WIDTH, 3)"
   ]
  },
  {
   "cell_type": "markdown",
   "metadata": {},
   "source": [
    "## Bring Xception model"
   ]
  },
  {
   "cell_type": "code",
   "execution_count": 15,
   "metadata": {},
   "outputs": [],
   "source": [
    "reduce_lr = tf.keras.callbacks.ReduceLROnPlateau(monitor='val_loss', factor=0.2,\n",
    "                              patience=2, min_lr=0.0001)\n",
    "early = tf.keras.callbacks.EarlyStopping(monitor='val_loss', patience=3, min_delta=0.05)\n",
    "\n",
    "filepathM = \"models/plant_village_black_Xception.{epoch:02d}-{val_accuracy:.2f}.h5\"\n",
    "checkpoint = tf.keras.callbacks.ModelCheckpoint(filepath = filepathM, \n",
    "                                                          save_best_only=True , monitor='val_accuracy', mode='max')"
   ]
  },
  {
   "cell_type": "code",
   "execution_count": 16,
   "metadata": {},
   "outputs": [],
   "source": [
    "base_model_x = tf.keras.applications.xception.Xception(input_shape=IMG_SHAPE,\n",
    "                                               include_top=False,\n",
    "                                               weights=None)"
   ]
  },
  {
   "cell_type": "code",
   "execution_count": 18,
   "metadata": {},
   "outputs": [],
   "source": [
    "global_average_layer_x = tf.keras.layers.GlobalAveragePooling2D()\n",
    "prediction_layer_x = keras.layers.Dense(len(CLASS_NAMES), activation=\"softmax\")\n",
    "model_x = tf.keras.Sequential([\n",
    "  base_model_x,\n",
    "  global_average_layer_x,\n",
    "  prediction_layer_x\n",
    "])\n",
    "base_learning_rate = 0.003\n",
    "model_x.compile(optimizer=tf.keras.optimizers.Adam(lr=base_learning_rate),\n",
    "              loss='categorical_crossentropy',\n",
    "              metrics=['accuracy'])"
   ]
  },
  {
   "cell_type": "code",
   "execution_count": 20,
   "metadata": {},
   "outputs": [
    {
     "name": "stdout",
     "output_type": "stream",
     "text": [
      "Epoch 1/30\n",
      "1359/1359 [==============================] - 1818s 1s/step - loss: 2.7501 - accuracy: 0.2805 - val_loss: 3.3766 - val_accuracy: 0.2850\n",
      "Epoch 2/30\n",
      "1359/1359 [==============================] - 1465s 1s/step - loss: 1.1404 - accuracy: 0.6462 - val_loss: 1.6539 - val_accuracy: 0.5738\n",
      "Epoch 3/30\n",
      "1359/1359 [==============================] - 1462s 1s/step - loss: 0.5580 - accuracy: 0.8225 - val_loss: 0.6485 - val_accuracy: 0.8042\n",
      "Epoch 4/30\n",
      "1359/1359 [==============================] - 1465s 1s/step - loss: 0.3788 - accuracy: 0.8796 - val_loss: 0.4195 - val_accuracy: 0.8710\n",
      "Epoch 5/30\n",
      "1359/1359 [==============================] - 1463s 1s/step - loss: 0.2960 - accuracy: 0.9035 - val_loss: 0.4686 - val_accuracy: 0.8838\n",
      "Epoch 6/30\n",
      "1359/1359 [==============================] - 1469s 1s/step - loss: 0.2436 - accuracy: 0.9195 - val_loss: 4.9397 - val_accuracy: 0.5614\n",
      "Epoch 7/30\n",
      "1359/1359 [==============================] - 1463s 1s/step - loss: 0.1218 - accuracy: 0.9606 - val_loss: 0.1086 - val_accuracy: 0.9652\n",
      "Epoch 8/30\n",
      "1359/1359 [==============================] - 1465s 1s/step - loss: 0.1013 - accuracy: 0.9672 - val_loss: 0.1137 - val_accuracy: 0.9615\n",
      "Epoch 9/30\n",
      "1359/1359 [==============================] - 1464s 1s/step - loss: 0.0938 - accuracy: 0.9699 - val_loss: 0.0934 - val_accuracy: 0.9689\n",
      "Epoch 10/30\n",
      "1359/1359 [==============================] - 1467s 1s/step - loss: 0.0862 - accuracy: 0.9725 - val_loss: 0.0828 - val_accuracy: 0.9722\n",
      "took: 250.02867366870245\n"
     ]
    }
   ],
   "source": [
    "total_epochs = 30\n",
    "start_time = time.time()\n",
    "history_x = model_x.fit_generator(train_data_gen,\n",
    "                         epochs=total_epochs,\n",
    "                         steps_per_epoch=train_data_gen.__len__(),\n",
    "                         validation_data=valid_data_gen,\n",
    "                         validation_steps= valid_data_gen.__len__(),\n",
    "                         callbacks = [early, reduce_lr]\n",
    "                        )\n",
    "duration = time.time() - start_time\n",
    "print('took: ' + str(duration/60))"
   ]
  },
  {
   "cell_type": "code",
   "execution_count": 21,
   "metadata": {},
   "outputs": [],
   "source": [
    "model_x.save('models/plant_village_black_Xception_trained.h5')"
   ]
  },
  {
   "cell_type": "code",
   "execution_count": 23,
   "metadata": {},
   "outputs": [
    {
     "data": {
      "image/png": "[encoded data removed]",
      "text/plain": [
       "<Figure size 576x576 with 2 Axes>"
      ]
     },
     "metadata": {
      "needs_background": "light"
     },
     "output_type": "display_data"
    }
   ],
   "source": [
    "acc = history_x.history['accuracy']\n",
    "val_acc = history_x.history['val_accuracy']\n",
    "\n",
    "loss = history_x.history['loss']\n",
    "val_loss = history_x.history['val_loss']\n",
    "\n",
    "plt.figure(figsize=(8, 8))\n",
    "plt.subplot(2, 1, 1)\n",
    "plt.plot(acc, label='Precisión de entrenamiento')\n",
    "plt.plot(val_acc, label='Precisión de validación')\n",
    "plt.legend(loc='lower right')\n",
    "plt.ylabel('Precisión')\n",
    "plt.ylim([min(plt.ylim()),1])\n",
    "plt.title('Precisión de entrenamiento y validación')\n",
    "\n",
    "plt.subplot(2, 1, 2)\n",
    "plt.plot(loss, label='Pérdida de entrenamiento')\n",
    "plt.plot(val_loss, label='Pérdida de validación')\n",
    "plt.legend(loc='upper right')\n",
    "plt.ylabel('Entropia cruzada')\n",
    "plt.ylim([0,5])\n",
    "plt.title('Precisión de entrenamiento y validación')\n",
    "plt.xlabel('epoch')\n",
    "plt.show()"
   ]
  },
  {
   "cell_type": "markdown",
   "metadata": {},
   "source": [
    "## DenseNet"
   ]
  },
  {
   "cell_type": "code",
   "execution_count": 13,
   "metadata": {},
   "outputs": [],
   "source": [
    "reduce_lr = tf.keras.callbacks.ReduceLROnPlateau(monitor='val_loss', factor=0.2,\n",
    "                              patience=2, min_lr=0.0001, min_delta=0.05)\n",
    "early = tf.keras.callbacks.EarlyStopping(monitor='val_loss', patience=3, min_delta=0.05)\n",
    "\n",
    "filepathM = \"models/plant_village_black_DenseNet.{epoch:02d}-{val_accuracy:.2f}.h5\"\n",
    "checkpoint = tf.keras.callbacks.ModelCheckpoint(filepath = filepathM, \n",
    "                                                          save_best_only=True , monitor='val_accuracy', mode='max')"
   ]
  },
  {
   "cell_type": "code",
   "execution_count": 14,
   "metadata": {},
   "outputs": [],
   "source": [
    "base_model_d = tf.keras.applications.densenet.DenseNet121(input_shape=IMG_SHAPE,\n",
    "                                               include_top=False,\n",
    "                                               weights=None)"
   ]
  },
  {
   "cell_type": "code",
   "execution_count": 15,
   "metadata": {},
   "outputs": [],
   "source": [
    "global_average_layer_d = tf.keras.layers.GlobalAveragePooling2D()\n",
    "prediction_layer_d = keras.layers.Dense(len(CLASS_NAMES), activation=\"softmax\")\n",
    "model_d = tf.keras.Sequential([\n",
    "  base_model_d,\n",
    "  global_average_layer_d,\n",
    "  prediction_layer_d\n",
    "])\n",
    "base_learning_rate = 0.003\n",
    "model_d.compile(optimizer=tf.keras.optimizers.Adam(lr=base_learning_rate),\n",
    "              loss='categorical_crossentropy',\n",
    "              metrics=['accuracy'])"
   ]
  },
  {
   "cell_type": "code",
   "execution_count": 16,
   "metadata": {},
   "outputs": [
    {
     "name": "stdout",
     "output_type": "stream",
     "text": [
      "Epoch 1/30\n",
      "1359/1359 [==============================] - 1867s 1s/step - loss: 1.9399 - accuracy: 0.4530 - val_loss: 1.5320 - val_accuracy: 0.5637\n",
      "Epoch 2/30\n",
      "1359/1359 [==============================] - 1850s 1s/step - loss: 0.7992 - accuracy: 0.7543 - val_loss: 0.8612 - val_accuracy: 0.7277\n",
      "Epoch 3/30\n",
      "1359/1359 [==============================] - 1843s 1s/step - loss: 0.4729 - accuracy: 0.8505 - val_loss: 0.5583 - val_accuracy: 0.8263\n",
      "Epoch 4/30\n",
      "1359/1359 [==============================] - 1839s 1s/step - loss: 0.3536 - accuracy: 0.8864 - val_loss: 0.4596 - val_accuracy: 0.8540\n",
      "Epoch 5/30\n",
      "1359/1359 [==============================] - 1840s 1s/step - loss: 0.2877 - accuracy: 0.9071 - val_loss: 0.8802 - val_accuracy: 0.7627\n",
      "Epoch 6/30\n",
      "1359/1359 [==============================] - 1857s 1s/step - loss: 0.2418 - accuracy: 0.9225 - val_loss: 0.4338 - val_accuracy: 0.8613\n",
      "Epoch 7/30\n",
      "1359/1359 [==============================] - 1842s 1s/step - loss: 0.1290 - accuracy: 0.9591 - val_loss: 0.1005 - val_accuracy: 0.9685\n",
      "Epoch 8/30\n",
      "1359/1359 [==============================] - 1858s 1s/step - loss: 0.1041 - accuracy: 0.9658 - val_loss: 0.1152 - val_accuracy: 0.9647\n",
      "Epoch 9/30\n",
      "1359/1359 [==============================] - 1850s 1s/step - loss: 0.1001 - accuracy: 0.9689 - val_loss: 0.1229 - val_accuracy: 0.9588\n",
      "Epoch 10/30\n",
      "1359/1359 [==============================] - 1855s 1s/step - loss: 0.0762 - accuracy: 0.9757 - val_loss: 0.0696 - val_accuracy: 0.9786\n",
      "took: 308.35915975173316\n"
     ]
    }
   ],
   "source": [
    "total_epochs = 30\n",
    "start_time = time.time()\n",
    "history_d = model_d.fit_generator(train_data_gen,\n",
    "                         epochs=total_epochs,\n",
    "                         steps_per_epoch=train_data_gen.__len__(),\n",
    "                         validation_data=valid_data_gen,\n",
    "                         validation_steps= valid_data_gen.__len__(),\n",
    "                         callbacks = [early, reduce_lr]\n",
    "                        )\n",
    "duration = time.time() - start_time\n",
    "print('took: ' + str(duration/60))"
   ]
  },
  {
   "cell_type": "code",
   "execution_count": 17,
   "metadata": {},
   "outputs": [],
   "source": [
    "model_d.save('models/plant_village_black_DenseNet_trained.h5')"
   ]
  },
  {
   "cell_type": "code",
   "execution_count": 18,
   "metadata": {},
   "outputs": [
    {
     "data": {
      "image/png": "[encoded data removed]",
      "text/plain": [
       "<Figure size 576x576 with 2 Axes>"
      ]
     },
     "metadata": {
      "needs_background": "light"
     },
     "output_type": "display_data"
    }
   ],
   "source": [
    "acc = history_d.history['accuracy']\n",
    "val_acc = history_d.history['val_accuracy']\n",
    "\n",
    "loss = history_d.history['loss']\n",
    "val_loss = history_d.history['val_loss']\n",
    "\n",
    "plt.figure(figsize=(8, 8))\n",
    "plt.subplot(2, 1, 1)\n",
    "plt.plot(acc, label='Precisión de entrenamiento')\n",
    "plt.plot(val_acc, label='Precisión de validación')\n",
    "plt.legend(loc='lower right')\n",
    "plt.ylabel('Precisión')\n",
    "plt.ylim([min(plt.ylim()),1])\n",
    "plt.title('Precisión de entrenamiento y validación')\n",
    "\n",
    "plt.subplot(2, 1, 2)\n",
    "plt.plot(loss, label='Pérdida de entrenamiento')\n",
    "plt.plot(val_loss, label='Pérdida de validación')\n",
    "plt.legend(loc='upper right')\n",
    "plt.ylabel('Entropia cruzada')\n",
    "plt.ylim([0,5])\n",
    "plt.title('Precisión de entrenamiento y validación')\n",
    "plt.xlabel('epoch')\n",
    "plt.show()"
   ]
  },
  {
   "cell_type": "markdown",
   "metadata": {},
   "source": [
    "## ResNet"
   ]
  },
  {
   "cell_type": "code",
   "execution_count": 19,
   "metadata": {},
   "outputs": [],
   "source": [
    "reduce_lr = tf.keras.callbacks.ReduceLROnPlateau(monitor='val_loss', factor=0.2,\n",
    "                              patience=2, min_lr=0.0001, min_delta=0.05)\n",
    "early = tf.keras.callbacks.EarlyStopping(monitor='val_loss', patience=3, min_delta=0.05)"
   ]
  },
  {
   "cell_type": "code",
   "execution_count": 20,
   "metadata": {},
   "outputs": [],
   "source": [
    "base_model_r = tf.keras.applications.resnet.ResNet50(input_shape=IMG_SHAPE,\n",
    "                                               include_top=False,\n",
    "                                               weights=None)"
   ]
  },
  {
   "cell_type": "code",
   "execution_count": 21,
   "metadata": {},
   "outputs": [],
   "source": [
    "global_average_layer_r = tf.keras.layers.GlobalAveragePooling2D()\n",
    "prediction_layer_r = keras.layers.Dense(len(CLASS_NAMES), activation=\"softmax\")\n",
    "model_r = tf.keras.Sequential([\n",
    "  base_model_r,\n",
    "  global_average_layer_r,\n",
    "  prediction_layer_r\n",
    "])\n",
    "base_learning_rate = 0.03\n",
    "model_r.compile(optimizer=tf.keras.optimizers.Adam(lr=base_learning_rate),\n",
    "              loss='categorical_crossentropy',\n",
    "              metrics=['accuracy'])"
   ]
  },
  {
   "cell_type": "code",
   "execution_count": null,
   "metadata": {},
   "outputs": [
    {
     "name": "stdout",
     "output_type": "stream",
     "text": [
      "Epoch 1/30\n",
      " 783/1359 [================>.............] - ETA: 7:59 - loss: 1.6824 - accuracy: 0.5001"
     ]
    }
   ],
   "source": [
    "total_epochs = 30\n",
    "start_time = time.time()\n",
    "history_r = model_r.fit_generator(train_data_gen,\n",
    "                         epochs=total_epochs,\n",
    "                         steps_per_epoch=train_data_gen.__len__(),\n",
    "                         validation_data=valid_data_gen,\n",
    "                         validation_steps= valid_data_gen.__len__(),\n",
    "                         callbacks = [early, reduce_lr]\n",
    "                        )\n",
    "duration = time.time() - start_time\n",
    "print('took: ' + str(duration/60))"
   ]
  },
  {
   "cell_type": "code",
   "execution_count": 29,
   "metadata": {},
   "outputs": [],
   "source": [
    "model_r.save('models/plant_village_black_ResNet_trained.h5')"
   ]
  },
  {
   "cell_type": "code",
   "execution_count": 27,
   "metadata": {},
   "outputs": [
    {
     "data": {
      "image/png": "[encoded data removed]",
      "text/plain": [
       "<Figure size 576x576 with 2 Axes>"
      ]
     },
     "metadata": {
      "needs_background": "light"
     },
     "output_type": "display_data"
    }
   ],
   "source": [
    "acc = history_r.history['accuracy']\n",
    "val_acc = history_r.history['val_accuracy']\n",
    "\n",
    "loss = history_d.history['loss']\n",
    "val_loss = history_d.history['val_loss']\n",
    "\n",
    "plt.figure(figsize=(8, 8))\n",
    "plt.subplot(2, 1, 1)\n",
    "plt.plot(acc, label='Precisión de entrenamiento')\n",
    "plt.plot(val_acc, label='Precisión de validación')\n",
    "plt.legend(loc='lower right')\n",
    "plt.ylabel('Precisión')\n",
    "plt.ylim([min(plt.ylim()),1])\n",
    "plt.title('Precisión de entrenamiento y validación')\n",
    "\n",
    "plt.subplot(2, 1, 2)\n",
    "plt.plot(loss, label='Pérdida de entrenamiento')\n",
    "plt.plot(val_loss, label='Pérdida de validación')\n",
    "plt.legend(loc='upper right')\n",
    "plt.ylabel('Entropia cruzada')\n",
    "plt.ylim([0,5])\n",
    "plt.title('Precisión de entrenamiento y validación')\n",
    "plt.xlabel('epoch')\n",
    "plt.show()"
   ]
  },
  {
   "cell_type": "markdown",
   "metadata": {},
   "source": [
    "## MobileNet V2"
   ]
  },
  {
   "cell_type": "code",
   "execution_count": 15,
   "metadata": {},
   "outputs": [],
   "source": [
    "base_model_m = tf.keras.applications.mobilenet_v2.MobileNetV2(input_shape=IMG_SHAPE,\n",
    "                                                            include_top=False,\n",
    "                                                            weights=None)"
   ]
  },
  {
   "cell_type": "code",
   "execution_count": 16,
   "metadata": {},
   "outputs": [],
   "source": [
    "global_average_layer_m = tf.keras.layers.GlobalAveragePooling2D()\n",
    "prediction_layer_m = keras.layers.Dense(len(CLASS_NAMES), activation=\"softmax\")"
   ]
  },
  {
   "cell_type": "code",
   "execution_count": 17,
   "metadata": {},
   "outputs": [],
   "source": [
    "model_m = tf.keras.Sequential([\n",
    "  base_model_m,\n",
    "  global_average_layer_m,\n",
    "  prediction_layer_m\n",
    "])"
   ]
  },
  {
   "cell_type": "code",
   "execution_count": 18,
   "metadata": {},
   "outputs": [],
   "source": [
    "base_learning_rate = 0.001\n",
    "model_m.compile(optimizer=tf.keras.optimizers.Adam(lr=base_learning_rate),\n",
    "              loss='categorical_crossentropy',\n",
    "              metrics=['accuracy'])"
   ]
  },
  {
   "cell_type": "code",
   "execution_count": 19,
   "metadata": {},
   "outputs": [],
   "source": [
    "early = tf.keras.callbacks.EarlyStopping(monitor='val_loss', patience=4)\n",
    "filepath_r = \"models/plant_village_black_mobilnet.{epoch:02d}-{val_accuracy:.2f}.h5\"\n",
    "checkpoint = tf.keras.callbacks.ModelCheckpoint(filepath = filepath_r, \n",
    "                                                          save_best_only=True , monitor='val_accuracy', mode='max')"
   ]
  },
  {
   "cell_type": "code",
   "execution_count": 20,
   "metadata": {},
   "outputs": [
    {
     "name": "stdout",
     "output_type": "stream",
     "text": [
      "Epoch 1/20\n",
      "1359/1359 [==============================] - 1152s 848ms/step - loss: 1.5022 - accuracy: 0.5541 - val_loss: 10.4015 - val_accuracy: 0.0272\n",
      "Epoch 2/20\n",
      "1359/1359 [==============================] - 1144s 842ms/step - loss: 0.7488 - accuracy: 0.7654 - val_loss: 10.5331 - val_accuracy: 0.0938\n",
      "Epoch 3/20\n",
      "1359/1359 [==============================] - 1141s 839ms/step - loss: 0.5122 - accuracy: 0.8373 - val_loss: 12.2475 - val_accuracy: 0.0277\n",
      "Epoch 4/20\n",
      "1359/1359 [==============================] - 1146s 843ms/step - loss: 0.3942 - accuracy: 0.8744 - val_loss: 7.5236 - val_accuracy: 0.2947\n",
      "Epoch 5/20\n",
      "1359/1359 [==============================] - 1147s 844ms/step - loss: 0.3330 - accuracy: 0.8928 - val_loss: 12.8050 - val_accuracy: 0.1068\n",
      "Epoch 6/20\n",
      "1359/1359 [==============================] - 1157s 852ms/step - loss: 0.2827 - accuracy: 0.9076 - val_loss: 11.0041 - val_accuracy: 0.1662\n",
      "Epoch 7/20\n",
      "1358/1359 [============================>.] - ETA: 0s - loss: 0.2510 - accuracy: 0.9192"
     ]
    },
    {
     "ename": "KeyboardInterrupt",
     "evalue": "",
     "output_type": "error",
     "traceback": [
      "\u001b[0;31m\u001b[0m",
      "\u001b[0;31mKeyboardInterrupt\u001b[0mTraceback (most recent call last)",
      "\u001b[0;32m<ipython-input-20-449d1d1fd1e5>\u001b[0m in \u001b[0;36m<module>\u001b[0;34m\u001b[0m\n\u001b[1;32m      6\u001b[0m                          \u001b[0mvalidation_data\u001b[0m\u001b[0;34m=\u001b[0m\u001b[0mvalid_data_gen\u001b[0m\u001b[0;34m,\u001b[0m\u001b[0;34m\u001b[0m\u001b[0;34m\u001b[0m\u001b[0m\n\u001b[1;32m      7\u001b[0m                          \u001b[0mvalidation_steps\u001b[0m\u001b[0;34m=\u001b[0m \u001b[0mvalid_data_gen\u001b[0m\u001b[0;34m.\u001b[0m\u001b[0m__len__\u001b[0m\u001b[0;34m(\u001b[0m\u001b[0;34m)\u001b[0m\u001b[0;34m,\u001b[0m\u001b[0;34m\u001b[0m\u001b[0;34m\u001b[0m\u001b[0m\n\u001b[0;32m----> 8\u001b[0;31m                          \u001b[0mcallbacks\u001b[0m \u001b[0;34m=\u001b[0m \u001b[0;34m[\u001b[0m\u001b[0mcheckpoint\u001b[0m\u001b[0;34m]\u001b[0m\u001b[0;34m\u001b[0m\u001b[0;34m\u001b[0m\u001b[0m\n\u001b[0m\u001b[1;32m      9\u001b[0m                         )\n\u001b[1;32m     10\u001b[0m \u001b[0mduration\u001b[0m \u001b[0;34m=\u001b[0m \u001b[0mtime\u001b[0m\u001b[0;34m.\u001b[0m\u001b[0mtime\u001b[0m\u001b[0;34m(\u001b[0m\u001b[0;34m)\u001b[0m \u001b[0;34m-\u001b[0m \u001b[0mstart_time\u001b[0m\u001b[0;34m\u001b[0m\u001b[0;34m\u001b[0m\u001b[0m\n",
      "\u001b[0;32m/usr/local/lib/python3.6/dist-packages/tensorflow_core/python/keras/engine/training.py\u001b[0m in \u001b[0;36mfit_generator\u001b[0;34m(self, generator, steps_per_epoch, epochs, verbose, callbacks, validation_data, validation_steps, validation_freq, class_weight, max_queue_size, workers, use_multiprocessing, shuffle, initial_epoch)\u001b[0m\n\u001b[1;32m   1295\u001b[0m         \u001b[0mshuffle\u001b[0m\u001b[0;34m=\u001b[0m\u001b[0mshuffle\u001b[0m\u001b[0;34m,\u001b[0m\u001b[0;34m\u001b[0m\u001b[0;34m\u001b[0m\u001b[0m\n\u001b[1;32m   1296\u001b[0m         \u001b[0minitial_epoch\u001b[0m\u001b[0;34m=\u001b[0m\u001b[0minitial_epoch\u001b[0m\u001b[0;34m,\u001b[0m\u001b[0;34m\u001b[0m\u001b[0;34m\u001b[0m\u001b[0m\n\u001b[0;32m-> 1297\u001b[0;31m         steps_name='steps_per_epoch')\n\u001b[0m\u001b[1;32m   1298\u001b[0m \u001b[0;34m\u001b[0m\u001b[0m\n\u001b[1;32m   1299\u001b[0m   def evaluate_generator(self,\n",
      "\u001b[0;32m/usr/local/lib/python3.6/dist-packages/tensorflow_core/python/keras/engine/training_generator.py\u001b[0m in \u001b[0;36mmodel_iteration\u001b[0;34m(model, data, steps_per_epoch, epochs, verbose, callbacks, validation_data, validation_steps, validation_freq, class_weight, max_queue_size, workers, use_multiprocessing, shuffle, initial_epoch, mode, batch_size, steps_name, **kwargs)\u001b[0m\n\u001b[1;32m    321\u001b[0m           \u001b[0mverbose\u001b[0m\u001b[0;34m=\u001b[0m\u001b[0;36m0\u001b[0m\u001b[0;34m,\u001b[0m\u001b[0;34m\u001b[0m\u001b[0;34m\u001b[0m\u001b[0m\n\u001b[1;32m    322\u001b[0m           \u001b[0mmode\u001b[0m\u001b[0;34m=\u001b[0m\u001b[0mModeKeys\u001b[0m\u001b[0;34m.\u001b[0m\u001b[0mTEST\u001b[0m\u001b[0;34m,\u001b[0m\u001b[0;34m\u001b[0m\u001b[0;34m\u001b[0m\u001b[0m\n\u001b[0;32m--> 323\u001b[0;31m           steps_name='validation_steps')\n\u001b[0m\u001b[1;32m    324\u001b[0m \u001b[0;34m\u001b[0m\u001b[0m\n\u001b[1;32m    325\u001b[0m       \u001b[0;32mif\u001b[0m \u001b[0;32mnot\u001b[0m \u001b[0misinstance\u001b[0m\u001b[0;34m(\u001b[0m\u001b[0mval_results\u001b[0m\u001b[0;34m,\u001b[0m \u001b[0mlist\u001b[0m\u001b[0;34m)\u001b[0m\u001b[0;34m:\u001b[0m\u001b[0;34m\u001b[0m\u001b[0;34m\u001b[0m\u001b[0m\n",
      "\u001b[0;32m/usr/local/lib/python3.6/dist-packages/tensorflow_core/python/keras/engine/training_generator.py\u001b[0m in \u001b[0;36mmodel_iteration\u001b[0;34m(model, data, steps_per_epoch, epochs, verbose, callbacks, validation_data, validation_steps, validation_freq, class_weight, max_queue_size, workers, use_multiprocessing, shuffle, initial_epoch, mode, batch_size, steps_name, **kwargs)\u001b[0m\n\u001b[1;32m    219\u001b[0m     \u001b[0mstep\u001b[0m \u001b[0;34m=\u001b[0m \u001b[0;36m0\u001b[0m\u001b[0;34m\u001b[0m\u001b[0;34m\u001b[0m\u001b[0m\n\u001b[1;32m    220\u001b[0m     \u001b[0;32mwhile\u001b[0m \u001b[0mstep\u001b[0m \u001b[0;34m<\u001b[0m \u001b[0mtarget_steps\u001b[0m\u001b[0;34m:\u001b[0m\u001b[0;34m\u001b[0m\u001b[0;34m\u001b[0m\u001b[0m\n\u001b[0;32m--> 221\u001b[0;31m       \u001b[0mbatch_data\u001b[0m \u001b[0;34m=\u001b[0m \u001b[0m_get_next_batch\u001b[0m\u001b[0;34m(\u001b[0m\u001b[0mgenerator\u001b[0m\u001b[0;34m)\u001b[0m\u001b[0;34m\u001b[0m\u001b[0;34m\u001b[0m\u001b[0m\n\u001b[0m\u001b[1;32m    222\u001b[0m       \u001b[0;32mif\u001b[0m \u001b[0mbatch_data\u001b[0m \u001b[0;32mis\u001b[0m \u001b[0;32mNone\u001b[0m\u001b[0;34m:\u001b[0m\u001b[0;34m\u001b[0m\u001b[0;34m\u001b[0m\u001b[0m\n\u001b[1;32m    223\u001b[0m         \u001b[0;32mif\u001b[0m \u001b[0mis_dataset\u001b[0m\u001b[0;34m:\u001b[0m\u001b[0;34m\u001b[0m\u001b[0;34m\u001b[0m\u001b[0m\n",
      "\u001b[0;32m/usr/local/lib/python3.6/dist-packages/tensorflow_core/python/keras/engine/training_generator.py\u001b[0m in \u001b[0;36m_get_next_batch\u001b[0;34m(generator)\u001b[0m\n\u001b[1;32m    361\u001b[0m   \u001b[0;34m\"\"\"Retrieves the next batch of input data.\"\"\"\u001b[0m\u001b[0;34m\u001b[0m\u001b[0;34m\u001b[0m\u001b[0m\n\u001b[1;32m    362\u001b[0m   \u001b[0;32mtry\u001b[0m\u001b[0;34m:\u001b[0m\u001b[0;34m\u001b[0m\u001b[0;34m\u001b[0m\u001b[0m\n\u001b[0;32m--> 363\u001b[0;31m     \u001b[0mgenerator_output\u001b[0m \u001b[0;34m=\u001b[0m \u001b[0mnext\u001b[0m\u001b[0;34m(\u001b[0m\u001b[0mgenerator\u001b[0m\u001b[0;34m)\u001b[0m\u001b[0;34m\u001b[0m\u001b[0;34m\u001b[0m\u001b[0m\n\u001b[0m\u001b[1;32m    364\u001b[0m   \u001b[0;32mexcept\u001b[0m \u001b[0;34m(\u001b[0m\u001b[0mStopIteration\u001b[0m\u001b[0;34m,\u001b[0m \u001b[0merrors\u001b[0m\u001b[0;34m.\u001b[0m\u001b[0mOutOfRangeError\u001b[0m\u001b[0;34m)\u001b[0m\u001b[0;34m:\u001b[0m\u001b[0;34m\u001b[0m\u001b[0;34m\u001b[0m\u001b[0m\n\u001b[1;32m    365\u001b[0m     \u001b[0;32mreturn\u001b[0m \u001b[0;32mNone\u001b[0m\u001b[0;34m\u001b[0m\u001b[0;34m\u001b[0m\u001b[0m\n",
      "\u001b[0;32m/usr/local/lib/python3.6/dist-packages/tensorflow_core/python/keras/utils/data_utils.py\u001b[0m in \u001b[0;36mget\u001b[0;34m(self)\u001b[0m\n\u001b[1;32m    777\u001b[0m     \u001b[0;32mtry\u001b[0m\u001b[0;34m:\u001b[0m\u001b[0;34m\u001b[0m\u001b[0;34m\u001b[0m\u001b[0m\n\u001b[1;32m    778\u001b[0m       \u001b[0;32mwhile\u001b[0m \u001b[0mself\u001b[0m\u001b[0;34m.\u001b[0m\u001b[0mis_running\u001b[0m\u001b[0;34m(\u001b[0m\u001b[0;34m)\u001b[0m\u001b[0;34m:\u001b[0m\u001b[0;34m\u001b[0m\u001b[0;34m\u001b[0m\u001b[0m\n\u001b[0;32m--> 779\u001b[0;31m         \u001b[0minputs\u001b[0m \u001b[0;34m=\u001b[0m \u001b[0mself\u001b[0m\u001b[0;34m.\u001b[0m\u001b[0mqueue\u001b[0m\u001b[0;34m.\u001b[0m\u001b[0mget\u001b[0m\u001b[0;34m(\u001b[0m\u001b[0mblock\u001b[0m\u001b[0;34m=\u001b[0m\u001b[0;32mTrue\u001b[0m\u001b[0;34m)\u001b[0m\u001b[0;34m.\u001b[0m\u001b[0mget\u001b[0m\u001b[0;34m(\u001b[0m\u001b[0;34m)\u001b[0m\u001b[0;34m\u001b[0m\u001b[0;34m\u001b[0m\u001b[0m\n\u001b[0m\u001b[1;32m    780\u001b[0m         \u001b[0mself\u001b[0m\u001b[0;34m.\u001b[0m\u001b[0mqueue\u001b[0m\u001b[0;34m.\u001b[0m\u001b[0mtask_done\u001b[0m\u001b[0;34m(\u001b[0m\u001b[0;34m)\u001b[0m\u001b[0;34m\u001b[0m\u001b[0;34m\u001b[0m\u001b[0m\n\u001b[1;32m    781\u001b[0m         \u001b[0;32mif\u001b[0m \u001b[0minputs\u001b[0m \u001b[0;32mis\u001b[0m \u001b[0;32mnot\u001b[0m \u001b[0;32mNone\u001b[0m\u001b[0;34m:\u001b[0m\u001b[0;34m\u001b[0m\u001b[0;34m\u001b[0m\u001b[0m\n",
      "\u001b[0;32m/usr/lib/python3.6/multiprocessing/pool.py\u001b[0m in \u001b[0;36mget\u001b[0;34m(self, timeout)\u001b[0m\n\u001b[1;32m    636\u001b[0m \u001b[0;34m\u001b[0m\u001b[0m\n\u001b[1;32m    637\u001b[0m     \u001b[0;32mdef\u001b[0m \u001b[0mget\u001b[0m\u001b[0;34m(\u001b[0m\u001b[0mself\u001b[0m\u001b[0;34m,\u001b[0m \u001b[0mtimeout\u001b[0m\u001b[0;34m=\u001b[0m\u001b[0;32mNone\u001b[0m\u001b[0;34m)\u001b[0m\u001b[0;34m:\u001b[0m\u001b[0;34m\u001b[0m\u001b[0;34m\u001b[0m\u001b[0m\n\u001b[0;32m--> 638\u001b[0;31m         \u001b[0mself\u001b[0m\u001b[0;34m.\u001b[0m\u001b[0mwait\u001b[0m\u001b[0;34m(\u001b[0m\u001b[0mtimeout\u001b[0m\u001b[0;34m)\u001b[0m\u001b[0;34m\u001b[0m\u001b[0;34m\u001b[0m\u001b[0m\n\u001b[0m\u001b[1;32m    639\u001b[0m         \u001b[0;32mif\u001b[0m \u001b[0;32mnot\u001b[0m \u001b[0mself\u001b[0m\u001b[0;34m.\u001b[0m\u001b[0mready\u001b[0m\u001b[0;34m(\u001b[0m\u001b[0;34m)\u001b[0m\u001b[0;34m:\u001b[0m\u001b[0;34m\u001b[0m\u001b[0;34m\u001b[0m\u001b[0m\n\u001b[1;32m    640\u001b[0m             \u001b[0;32mraise\u001b[0m \u001b[0mTimeoutError\u001b[0m\u001b[0;34m\u001b[0m\u001b[0;34m\u001b[0m\u001b[0m\n",
      "\u001b[0;32m/usr/lib/python3.6/multiprocessing/pool.py\u001b[0m in \u001b[0;36mwait\u001b[0;34m(self, timeout)\u001b[0m\n\u001b[1;32m    633\u001b[0m \u001b[0;34m\u001b[0m\u001b[0m\n\u001b[1;32m    634\u001b[0m     \u001b[0;32mdef\u001b[0m \u001b[0mwait\u001b[0m\u001b[0;34m(\u001b[0m\u001b[0mself\u001b[0m\u001b[0;34m,\u001b[0m \u001b[0mtimeout\u001b[0m\u001b[0;34m=\u001b[0m\u001b[0;32mNone\u001b[0m\u001b[0;34m)\u001b[0m\u001b[0;34m:\u001b[0m\u001b[0;34m\u001b[0m\u001b[0;34m\u001b[0m\u001b[0m\n\u001b[0;32m--> 635\u001b[0;31m         \u001b[0mself\u001b[0m\u001b[0;34m.\u001b[0m\u001b[0m_event\u001b[0m\u001b[0;34m.\u001b[0m\u001b[0mwait\u001b[0m\u001b[0;34m(\u001b[0m\u001b[0mtimeout\u001b[0m\u001b[0;34m)\u001b[0m\u001b[0;34m\u001b[0m\u001b[0;34m\u001b[0m\u001b[0m\n\u001b[0m\u001b[1;32m    636\u001b[0m \u001b[0;34m\u001b[0m\u001b[0m\n\u001b[1;32m    637\u001b[0m     \u001b[0;32mdef\u001b[0m \u001b[0mget\u001b[0m\u001b[0;34m(\u001b[0m\u001b[0mself\u001b[0m\u001b[0;34m,\u001b[0m \u001b[0mtimeout\u001b[0m\u001b[0;34m=\u001b[0m\u001b[0;32mNone\u001b[0m\u001b[0;34m)\u001b[0m\u001b[0;34m:\u001b[0m\u001b[0;34m\u001b[0m\u001b[0;34m\u001b[0m\u001b[0m\n",
      "\u001b[0;32m/usr/lib/python3.6/threading.py\u001b[0m in \u001b[0;36mwait\u001b[0;34m(self, timeout)\u001b[0m\n\u001b[1;32m    549\u001b[0m             \u001b[0msignaled\u001b[0m \u001b[0;34m=\u001b[0m \u001b[0mself\u001b[0m\u001b[0;34m.\u001b[0m\u001b[0m_flag\u001b[0m\u001b[0;34m\u001b[0m\u001b[0;34m\u001b[0m\u001b[0m\n\u001b[1;32m    550\u001b[0m             \u001b[0;32mif\u001b[0m \u001b[0;32mnot\u001b[0m \u001b[0msignaled\u001b[0m\u001b[0;34m:\u001b[0m\u001b[0;34m\u001b[0m\u001b[0;34m\u001b[0m\u001b[0m\n\u001b[0;32m--> 551\u001b[0;31m                 \u001b[0msignaled\u001b[0m \u001b[0;34m=\u001b[0m \u001b[0mself\u001b[0m\u001b[0;34m.\u001b[0m\u001b[0m_cond\u001b[0m\u001b[0;34m.\u001b[0m\u001b[0mwait\u001b[0m\u001b[0;34m(\u001b[0m\u001b[0mtimeout\u001b[0m\u001b[0;34m)\u001b[0m\u001b[0;34m\u001b[0m\u001b[0;34m\u001b[0m\u001b[0m\n\u001b[0m\u001b[1;32m    552\u001b[0m             \u001b[0;32mreturn\u001b[0m \u001b[0msignaled\u001b[0m\u001b[0;34m\u001b[0m\u001b[0;34m\u001b[0m\u001b[0m\n\u001b[1;32m    553\u001b[0m \u001b[0;34m\u001b[0m\u001b[0m\n",
      "\u001b[0;32m/usr/lib/python3.6/threading.py\u001b[0m in \u001b[0;36mwait\u001b[0;34m(self, timeout)\u001b[0m\n\u001b[1;32m    293\u001b[0m         \u001b[0;32mtry\u001b[0m\u001b[0;34m:\u001b[0m    \u001b[0;31m# restore state no matter what (e.g., KeyboardInterrupt)\u001b[0m\u001b[0;34m\u001b[0m\u001b[0;34m\u001b[0m\u001b[0m\n\u001b[1;32m    294\u001b[0m             \u001b[0;32mif\u001b[0m \u001b[0mtimeout\u001b[0m \u001b[0;32mis\u001b[0m \u001b[0;32mNone\u001b[0m\u001b[0;34m:\u001b[0m\u001b[0;34m\u001b[0m\u001b[0;34m\u001b[0m\u001b[0m\n\u001b[0;32m--> 295\u001b[0;31m                 \u001b[0mwaiter\u001b[0m\u001b[0;34m.\u001b[0m\u001b[0macquire\u001b[0m\u001b[0;34m(\u001b[0m\u001b[0;34m)\u001b[0m\u001b[0;34m\u001b[0m\u001b[0;34m\u001b[0m\u001b[0m\n\u001b[0m\u001b[1;32m    296\u001b[0m                 \u001b[0mgotit\u001b[0m \u001b[0;34m=\u001b[0m \u001b[0;32mTrue\u001b[0m\u001b[0;34m\u001b[0m\u001b[0;34m\u001b[0m\u001b[0m\n\u001b[1;32m    297\u001b[0m             \u001b[0;32melse\u001b[0m\u001b[0;34m:\u001b[0m\u001b[0;34m\u001b[0m\u001b[0;34m\u001b[0m\u001b[0m\n",
      "\u001b[0;31mKeyboardInterrupt\u001b[0m: "
     ]
    }
   ],
   "source": [
    "total_epochs = 20\n",
    "start_time = time.time()\n",
    "history_m = model_m.fit_generator(train_data_gen,\n",
    "                         epochs=total_epochs,\n",
    "                         steps_per_epoch=train_data_gen.__len__(),\n",
    "                         validation_data=valid_data_gen,\n",
    "                         validation_steps= valid_data_gen.__len__(),\n",
    "                         callbacks = [checkpoint]\n",
    "                        )\n",
    "duration = time.time() - start_time\n",
    "print('took: ' + str(duration/60))"
   ]
  },
  {
   "cell_type": "code",
   "execution_count": 25,
   "metadata": {},
   "outputs": [],
   "source": [
    "model_m.save('models/plant_village_black_MobileNet_trained.h5')"
   ]
  },
  {
   "cell_type": "code",
   "execution_count": 26,
   "metadata": {},
   "outputs": [
    {
     "data": {
      "image/png": "[encoded data removed]",
      "text/plain": [
       "<Figure size 576x576 with 2 Axes>"
      ]
     },
     "metadata": {
      "needs_background": "light"
     },
     "output_type": "display_data"
    }
   ],
   "source": [
    "acc = history_m.history['accuracy']\n",
    "val_acc = history_m.history['val_accuracy']\n",
    "\n",
    "loss = history_m.history['loss']\n",
    "val_loss = history_m.history['val_loss']\n",
    "\n",
    "plt.figure(figsize=(8, 8))\n",
    "plt.subplot(2, 1, 1)\n",
    "plt.plot(acc, label='Precisión de entrenamiento')\n",
    "plt.plot(val_acc, label='Precisión de validación')\n",
    "plt.legend(loc='lower right')\n",
    "plt.ylabel('Precisión')\n",
    "plt.ylim([min(plt.ylim()),1])\n",
    "plt.title('Precisión de entrenamiento y validación')\n",
    "\n",
    "plt.subplot(2, 1, 2)\n",
    "plt.plot(loss, label='Pérdida de entrenamiento')\n",
    "plt.plot(val_loss, label='Pérdida de validación')\n",
    "plt.legend(loc='upper right')\n",
    "plt.ylabel('Entropia cruzada')\n",
    "plt.ylim([0,5])\n",
    "plt.title('Precisión de entrenamiento y validación')\n",
    "plt.xlabel('epoch')\n",
    "plt.show()"
   ]
  },
  {
   "cell_type": "markdown",
   "metadata": {},
   "source": [
    "## VGG19"
   ]
  },
  {
   "cell_type": "code",
   "execution_count": 14,
   "metadata": {},
   "outputs": [],
   "source": [
    "base_model_v = tf.keras.applications.vgg19.VGG19(input_shape=IMG_SHAPE,\n",
    "                                                            include_top=False,\n",
    "                                                            weights=None)"
   ]
  },
  {
   "cell_type": "code",
   "execution_count": 15,
   "metadata": {},
   "outputs": [],
   "source": [
    "global_average_layer_v = tf.keras.layers.GlobalAveragePooling2D()\n",
    "prediction_layer_v= keras.layers.Dense(len(CLASS_NAMES), activation=\"softmax\")\n",
    "model_v = tf.keras.Sequential([\n",
    "  base_model_v,\n",
    "  global_average_layer_v,\n",
    "  prediction_layer_v\n",
    "])"
   ]
  },
  {
   "cell_type": "code",
   "execution_count": 16,
   "metadata": {},
   "outputs": [],
   "source": [
    "base_learning_rate = 0.03\n",
    "model_v.compile(optimizer=tf.keras.optimizers.Adam(lr=base_learning_rate),\n",
    "              loss='categorical_crossentropy',\n",
    "              metrics=['accuracy'])"
   ]
  },
  {
   "cell_type": "code",
   "execution_count": 17,
   "metadata": {},
   "outputs": [
    {
     "name": "stdout",
     "output_type": "stream",
     "text": [
      "Model: \"sequential\"\n",
      "_________________________________________________________________\n",
      "Layer (type)                 Output Shape              Param #   \n",
      "=================================================================\n",
      "vgg19 (Model)                (None, 7, 7, 512)         20024384  \n",
      "_________________________________________________________________\n",
      "global_average_pooling2d (Gl (None, 512)               0         \n",
      "_________________________________________________________________\n",
      "dense (Dense)                (None, 38)                19494     \n",
      "=================================================================\n",
      "Total params: 20,043,878\n",
      "Trainable params: 20,043,878\n",
      "Non-trainable params: 0\n",
      "_________________________________________________________________\n"
     ]
    }
   ],
   "source": [
    "model_v.summary()"
   ]
  },
  {
   "cell_type": "code",
   "execution_count": 19,
   "metadata": {},
   "outputs": [],
   "source": [
    "early = tf.keras.callbacks.EarlyStopping(monitor='val_loss', patience=4)\n",
    "filepath_r = \"models/plant_village_black_vgg.{epoch:02d}-{val_accuracy:.2f}.h5\"\n",
    "checkpoint = tf.keras.callbacks.ModelCheckpoint(filepath = filepath_r, \n",
    "                                                          save_best_only=True , monitor='val_accuracy', mode='max')\n",
    "reduce_lr = tf.keras.callbacks.ReduceLROnPlateau(monitor='val_loss', factor=0.2,\n",
    "                              patience=2, min_lr=0.0001, min_delta=0.05) "
   ]
  },
  {
   "cell_type": "code",
   "execution_count": 21,
   "metadata": {},
   "outputs": [
    {
     "name": "stdout",
     "output_type": "stream",
     "text": [
      "Epoch 1/150\n",
      "1359/1359 [==============================] - 1660s 1s/step - loss: 14.6015 - accuracy: 0.0936 - val_loss: 14.6100 - val_accuracy: 0.0938\n",
      "Epoch 2/150\n",
      "1359/1359 [==============================] - 1125s 828ms/step - loss: 14.6089 - accuracy: 0.0937 - val_loss: 14.6100 - val_accuracy: 0.0938\n",
      "Epoch 3/150\n",
      "1359/1359 [==============================] - 1117s 822ms/step - loss: 14.6089 - accuracy: 0.0937 - val_loss: 14.6100 - val_accuracy: 0.0938\n",
      "Epoch 4/150\n",
      "1359/1359 [==============================] - 1113s 819ms/step - loss: 14.6089 - accuracy: 0.0937 - val_loss: 14.6100 - val_accuracy: 0.0938\n",
      "Epoch 5/150\n",
      "1359/1359 [==============================] - 1118s 822ms/step - loss: 14.6089 - accuracy: 0.0937 - val_loss: 14.6100 - val_accuracy: 0.0938\n",
      "Epoch 6/150\n",
      "1359/1359 [==============================] - 1121s 825ms/step - loss: 14.6089 - accuracy: 0.0937 - val_loss: 14.6100 - val_accuracy: 0.0938\n",
      "Epoch 7/150\n",
      "1359/1359 [==============================] - 1120s 824ms/step - loss: 14.6089 - accuracy: 0.0937 - val_loss: 14.6100 - val_accuracy: 0.0938\n",
      "Epoch 8/150\n",
      "1359/1359 [==============================] - 1127s 829ms/step - loss: 14.6089 - accuracy: 0.0937 - val_loss: 14.6100 - val_accuracy: 0.0938\n",
      "Epoch 9/150\n",
      "1359/1359 [==============================] - 1123s 826ms/step - loss: 14.6089 - accuracy: 0.0937 - val_loss: 14.6100 - val_accuracy: 0.0938\n",
      "Epoch 10/150\n",
      "1359/1359 [==============================] - 1124s 827ms/step - loss: 14.6089 - accuracy: 0.0937 - val_loss: 14.6100 - val_accuracy: 0.0938\n",
      "Epoch 11/150\n",
      "1359/1359 [==============================] - 1117s 822ms/step - loss: 14.6089 - accuracy: 0.0937 - val_loss: 14.6100 - val_accuracy: 0.0938\n",
      "Epoch 12/150\n",
      "1359/1359 [==============================] - 1124s 827ms/step - loss: 14.6089 - accuracy: 0.0937 - val_loss: 14.6100 - val_accuracy: 0.0938\n",
      "Epoch 13/150\n",
      "1359/1359 [==============================] - 1113s 819ms/step - loss: 14.6089 - accuracy: 0.0937 - val_loss: 14.6100 - val_accuracy: 0.0938\n",
      "Epoch 14/150\n",
      "1359/1359 [==============================] - 1116s 821ms/step - loss: 14.6089 - accuracy: 0.0937 - val_loss: 14.6100 - val_accuracy: 0.0938\n",
      "Epoch 15/150\n",
      "1359/1359 [==============================] - 1118s 823ms/step - loss: 14.6089 - accuracy: 0.0937 - val_loss: 14.6100 - val_accuracy: 0.0938\n",
      "Epoch 16/150\n",
      "1359/1359 [==============================] - 1127s 829ms/step - loss: 14.6089 - accuracy: 0.0937 - val_loss: 14.6100 - val_accuracy: 0.0938\n",
      "Epoch 17/150\n",
      "1359/1359 [==============================] - 1125s 828ms/step - loss: 14.6089 - accuracy: 0.0937 - val_loss: 14.6100 - val_accuracy: 0.0938\n",
      "Epoch 18/150\n",
      "1359/1359 [==============================] - 1119s 823ms/step - loss: 14.6089 - accuracy: 0.0937 - val_loss: 14.6100 - val_accuracy: 0.0938\n",
      "Epoch 19/150\n",
      "1359/1359 [==============================] - 1123s 826ms/step - loss: 14.6089 - accuracy: 0.0937 - val_loss: 14.6100 - val_accuracy: 0.0938\n",
      "Epoch 20/150\n",
      "1359/1359 [==============================] - 1122s 826ms/step - loss: 14.6089 - accuracy: 0.0937 - val_loss: 14.6100 - val_accuracy: 0.0938\n",
      "Epoch 21/150\n",
      "1359/1359 [==============================] - 1119s 823ms/step - loss: 14.5974 - accuracy: 0.0937 - val_loss: 14.6100 - val_accuracy: 0.0938\n",
      "Epoch 22/150\n",
      "1359/1359 [==============================] - 1118s 822ms/step - loss: 14.6089 - accuracy: 0.0937 - val_loss: 14.6100 - val_accuracy: 0.0938\n",
      "Epoch 23/150\n",
      "1359/1359 [==============================] - 1118s 823ms/step - loss: 14.6089 - accuracy: 0.0937 - val_loss: 14.6100 - val_accuracy: 0.0938\n",
      "Epoch 24/150\n",
      "1359/1359 [==============================] - 1125s 828ms/step - loss: 14.6089 - accuracy: 0.0937 - val_loss: 14.6100 - val_accuracy: 0.0938\n",
      "Epoch 25/150\n",
      "1359/1359 [==============================] - 1124s 827ms/step - loss: 14.6089 - accuracy: 0.0937 - val_loss: 14.6100 - val_accuracy: 0.0938\n",
      "Epoch 26/150\n",
      "1359/1359 [==============================] - 1110s 817ms/step - loss: 14.6089 - accuracy: 0.0937 - val_loss: 14.5641 - val_accuracy: 0.0938\n",
      "Epoch 27/150\n",
      "1359/1359 [==============================] - 1114s 820ms/step - loss: 14.5974 - accuracy: 0.0937 - val_loss: 14.5641 - val_accuracy: 0.0938\n",
      "Epoch 28/150\n",
      "1359/1359 [==============================] - 1119s 823ms/step - loss: 14.5974 - accuracy: 0.0937 - val_loss: 14.6100 - val_accuracy: 0.0938\n",
      "Epoch 29/150\n",
      "1359/1359 [==============================] - 1119s 823ms/step - loss: 14.6089 - accuracy: 0.0937 - val_loss: 14.6100 - val_accuracy: 0.0938\n",
      "Epoch 30/150\n",
      "1359/1359 [==============================] - 1115s 821ms/step - loss: 14.6089 - accuracy: 0.0937 - val_loss: 14.6100 - val_accuracy: 0.0938\n",
      "Epoch 31/150\n",
      "1359/1359 [==============================] - 1121s 825ms/step - loss: 14.6089 - accuracy: 0.0937 - val_loss: 14.6100 - val_accuracy: 0.0938\n",
      "Epoch 32/150\n",
      "1359/1359 [==============================] - 1118s 823ms/step - loss: 14.6089 - accuracy: 0.0937 - val_loss: 14.6100 - val_accuracy: 0.0938\n",
      "Epoch 33/150\n",
      "1359/1359 [==============================] - 1122s 825ms/step - loss: 14.6089 - accuracy: 0.0937 - val_loss: 14.6100 - val_accuracy: 0.0938\n",
      "Epoch 34/150\n",
      "1359/1359 [==============================] - 1117s 822ms/step - loss: 14.6089 - accuracy: 0.0937 - val_loss: 14.5641 - val_accuracy: 0.0938\n",
      "Epoch 35/150\n",
      "1359/1359 [==============================] - 1123s 826ms/step - loss: 14.6089 - accuracy: 0.0937 - val_loss: 14.5641 - val_accuracy: 0.0938\n",
      "Epoch 36/150\n",
      "1359/1359 [==============================] - 1120s 824ms/step - loss: 14.6089 - accuracy: 0.0937 - val_loss: 14.5641 - val_accuracy: 0.0938\n",
      "Epoch 37/150\n",
      "1359/1359 [==============================] - 1120s 824ms/step - loss: 14.6089 - accuracy: 0.0937 - val_loss: 14.5641 - val_accuracy: 0.0938\n",
      "Epoch 38/150\n",
      "1359/1359 [==============================] - 1124s 827ms/step - loss: 14.6089 - accuracy: 0.0937 - val_loss: 14.6100 - val_accuracy: 0.0938\n",
      "Epoch 39/150\n",
      "1359/1359 [==============================] - 1121s 825ms/step - loss: 14.6089 - accuracy: 0.0937 - val_loss: 14.6100 - val_accuracy: 0.0938\n",
      "Epoch 40/150\n",
      "1359/1359 [==============================] - 1118s 823ms/step - loss: 14.6089 - accuracy: 0.0937 - val_loss: 14.6100 - val_accuracy: 0.0938\n",
      "Epoch 41/150\n",
      "1359/1359 [==============================] - 1124s 827ms/step - loss: 14.6089 - accuracy: 0.0937 - val_loss: 14.6100 - val_accuracy: 0.0938\n",
      "Epoch 42/150\n",
      "1359/1359 [==============================] - 1121s 825ms/step - loss: 14.6089 - accuracy: 0.0937 - val_loss: 14.6100 - val_accuracy: 0.0938\n",
      "Epoch 43/150\n",
      "1359/1359 [==============================] - 1115s 821ms/step - loss: 14.6089 - accuracy: 0.0937 - val_loss: 14.6100 - val_accuracy: 0.0938\n",
      "Epoch 44/150\n",
      "1359/1359 [==============================] - 1122s 826ms/step - loss: 14.6089 - accuracy: 0.0937 - val_loss: 14.6100 - val_accuracy: 0.0938\n",
      "Epoch 45/150\n",
      "1359/1359 [==============================] - 1116s 821ms/step - loss: 14.6089 - accuracy: 0.0937 - val_loss: 14.6100 - val_accuracy: 0.0938\n",
      "Epoch 46/150\n",
      "1359/1359 [==============================] - 1119s 823ms/step - loss: 14.6089 - accuracy: 0.0937 - val_loss: 14.6100 - val_accuracy: 0.0938\n",
      "Epoch 47/150\n",
      "1359/1359 [==============================] - 1114s 820ms/step - loss: 14.6089 - accuracy: 0.0937 - val_loss: 14.6100 - val_accuracy: 0.0938\n",
      "Epoch 48/150\n",
      "1359/1359 [==============================] - 1119s 824ms/step - loss: 14.6089 - accuracy: 0.0937 - val_loss: 14.6100 - val_accuracy: 0.0938\n",
      "Epoch 49/150\n",
      "1359/1359 [==============================] - 1108s 815ms/step - loss: 14.6089 - accuracy: 0.0937 - val_loss: 14.6100 - val_accuracy: 0.0938\n",
      "Epoch 50/150\n",
      "1359/1359 [==============================] - 1129s 831ms/step - loss: 14.6089 - accuracy: 0.0937 - val_loss: 14.6100 - val_accuracy: 0.0938\n",
      "Epoch 51/150\n",
      "1359/1359 [==============================] - 1126s 829ms/step - loss: 14.6089 - accuracy: 0.0937 - val_loss: 14.6100 - val_accuracy: 0.0938\n",
      "Epoch 52/150\n",
      "1359/1359 [==============================] - 1124s 827ms/step - loss: 14.6089 - accuracy: 0.0937 - val_loss: 14.6100 - val_accuracy: 0.0938\n",
      "Epoch 53/150\n",
      "1359/1359 [==============================] - 1123s 826ms/step - loss: 14.6089 - accuracy: 0.0937 - val_loss: 14.6100 - val_accuracy: 0.0938\n",
      "Epoch 54/150\n"
     ]
    },
    {
     "name": "stdout",
     "output_type": "stream",
     "text": [
      "1359/1359 [==============================] - 1116s 821ms/step - loss: 14.6089 - accuracy: 0.0937 - val_loss: 14.6100 - val_accuracy: 0.0938\n",
      "Epoch 55/150\n",
      "1359/1359 [==============================] - 1121s 825ms/step - loss: 14.6089 - accuracy: 0.0937 - val_loss: 14.6100 - val_accuracy: 0.0938\n",
      "Epoch 56/150\n",
      "1359/1359 [==============================] - 1122s 826ms/step - loss: 14.5974 - accuracy: 0.0937 - val_loss: 14.6100 - val_accuracy: 0.0938\n",
      "Epoch 57/150\n",
      "1359/1359 [==============================] - 1126s 829ms/step - loss: 14.6089 - accuracy: 0.0937 - val_loss: 14.6100 - val_accuracy: 0.0938\n",
      "Epoch 58/150\n",
      "1359/1359 [==============================] - 1114s 820ms/step - loss: 14.6089 - accuracy: 0.0937 - val_loss: 14.6100 - val_accuracy: 0.0938\n",
      "Epoch 59/150\n",
      "1359/1359 [==============================] - 1126s 828ms/step - loss: 14.6089 - accuracy: 0.0937 - val_loss: 14.6100 - val_accuracy: 0.0938\n",
      "Epoch 60/150\n",
      "1359/1359 [==============================] - 1121s 825ms/step - loss: 14.6089 - accuracy: 0.0937 - val_loss: 14.6100 - val_accuracy: 0.0938\n",
      "Epoch 61/150\n",
      "1359/1359 [==============================] - 1121s 825ms/step - loss: 14.6089 - accuracy: 0.0937 - val_loss: 14.6100 - val_accuracy: 0.0938\n",
      "Epoch 62/150\n",
      "1359/1359 [==============================] - 1119s 823ms/step - loss: 14.6089 - accuracy: 0.0937 - val_loss: 14.6100 - val_accuracy: 0.0938\n",
      "Epoch 63/150\n",
      "1359/1359 [==============================] - 1124s 827ms/step - loss: 14.6089 - accuracy: 0.0937 - val_loss: 14.6100 - val_accuracy: 0.0938\n",
      "Epoch 64/150\n",
      "1359/1359 [==============================] - 1122s 825ms/step - loss: 14.6089 - accuracy: 0.0937 - val_loss: 14.6100 - val_accuracy: 0.0938\n",
      "Epoch 65/150\n",
      "1359/1359 [==============================] - 1127s 830ms/step - loss: 14.6089 - accuracy: 0.0937 - val_loss: 14.6100 - val_accuracy: 0.0938\n",
      "Epoch 66/150\n",
      "1359/1359 [==============================] - 1115s 821ms/step - loss: 14.6089 - accuracy: 0.0937 - val_loss: 14.6100 - val_accuracy: 0.0938\n",
      "Epoch 67/150\n",
      "1359/1359 [==============================] - 1124s 827ms/step - loss: 14.6089 - accuracy: 0.0937 - val_loss: 14.6100 - val_accuracy: 0.0938\n",
      "Epoch 68/150\n",
      "1359/1359 [==============================] - 1125s 827ms/step - loss: 14.6089 - accuracy: 0.0937 - val_loss: 14.6100 - val_accuracy: 0.0938\n",
      "Epoch 69/150\n",
      "1359/1359 [==============================] - 1115s 821ms/step - loss: 14.6089 - accuracy: 0.0937 - val_loss: 14.6100 - val_accuracy: 0.0938\n",
      "Epoch 70/150\n",
      "1359/1359 [==============================] - 1123s 826ms/step - loss: 14.6089 - accuracy: 0.0937 - val_loss: 14.6100 - val_accuracy: 0.0938\n",
      "Epoch 71/150\n",
      "1359/1359 [==============================] - 1123s 827ms/step - loss: 14.6089 - accuracy: 0.0937 - val_loss: 14.6100 - val_accuracy: 0.0938\n",
      "Epoch 72/150\n",
      "1359/1359 [==============================] - 1133s 834ms/step - loss: 14.5974 - accuracy: 0.0937 - val_loss: 14.6100 - val_accuracy: 0.0938\n",
      "Epoch 73/150\n",
      "1359/1359 [==============================] - 1126s 829ms/step - loss: 14.6089 - accuracy: 0.0937 - val_loss: 14.6100 - val_accuracy: 0.0938\n",
      "Epoch 74/150\n",
      "1359/1359 [==============================] - 1121s 825ms/step - loss: 14.6089 - accuracy: 0.0937 - val_loss: 14.6100 - val_accuracy: 0.0938\n",
      "Epoch 75/150\n",
      "1359/1359 [==============================] - 1117s 822ms/step - loss: 14.6089 - accuracy: 0.0937 - val_loss: 14.6100 - val_accuracy: 0.0938\n",
      "Epoch 76/150\n",
      "1359/1359 [==============================] - 1124s 827ms/step - loss: 14.6089 - accuracy: 0.0937 - val_loss: 14.6100 - val_accuracy: 0.0938\n",
      "Epoch 77/150\n",
      "1359/1359 [==============================] - 1119s 824ms/step - loss: 14.6089 - accuracy: 0.0937 - val_loss: 14.6100 - val_accuracy: 0.0938\n",
      "Epoch 78/150\n",
      "1359/1359 [==============================] - 1124s 827ms/step - loss: 14.6089 - accuracy: 0.0937 - val_loss: 14.6100 - val_accuracy: 0.0938\n",
      "Epoch 79/150\n",
      "1359/1359 [==============================] - 1119s 823ms/step - loss: 14.6089 - accuracy: 0.0937 - val_loss: 14.6100 - val_accuracy: 0.0938\n",
      "Epoch 80/150\n",
      "1359/1359 [==============================] - 1108s 815ms/step - loss: 14.6089 - accuracy: 0.0937 - val_loss: 14.5641 - val_accuracy: 0.0938\n",
      "Epoch 81/150\n",
      "1359/1359 [==============================] - 1119s 823ms/step - loss: 14.5974 - accuracy: 0.0937 - val_loss: 14.5641 - val_accuracy: 0.0938\n",
      "Epoch 82/150\n",
      "1359/1359 [==============================] - 1117s 822ms/step - loss: 14.6089 - accuracy: 0.0937 - val_loss: 14.5641 - val_accuracy: 0.0938\n",
      "Epoch 83/150\n",
      "1359/1359 [==============================] - 1124s 827ms/step - loss: 14.6089 - accuracy: 0.0937 - val_loss: 14.5641 - val_accuracy: 0.0938\n",
      "Epoch 84/150\n",
      "1359/1359 [==============================] - 1118s 823ms/step - loss: 14.6089 - accuracy: 0.0937 - val_loss: 14.5641 - val_accuracy: 0.0938\n",
      "Epoch 85/150\n",
      "1359/1359 [==============================] - 1129s 830ms/step - loss: 14.6089 - accuracy: 0.0937 - val_loss: 14.6100 - val_accuracy: 0.0938\n",
      "Epoch 86/150\n",
      "1359/1359 [==============================] - 1119s 823ms/step - loss: 14.6089 - accuracy: 0.0937 - val_loss: 14.6100 - val_accuracy: 0.0938\n",
      "Epoch 87/150\n",
      "1359/1359 [==============================] - 1125s 828ms/step - loss: 14.6089 - accuracy: 0.0937 - val_loss: 14.6100 - val_accuracy: 0.0938\n",
      "Epoch 88/150\n",
      "1359/1359 [==============================] - 1117s 822ms/step - loss: 14.6089 - accuracy: 0.0937 - val_loss: 14.6100 - val_accuracy: 0.0938\n",
      "Epoch 89/150\n",
      "1359/1359 [==============================] - 1124s 827ms/step - loss: 14.6089 - accuracy: 0.0937 - val_loss: 14.6100 - val_accuracy: 0.0938\n",
      "Epoch 90/150\n",
      "1359/1359 [==============================] - 1127s 829ms/step - loss: 14.6089 - accuracy: 0.0937 - val_loss: 14.6100 - val_accuracy: 0.0938\n",
      "Epoch 91/150\n",
      "1359/1359 [==============================] - 1130s 831ms/step - loss: 14.6089 - accuracy: 0.0937 - val_loss: 14.6100 - val_accuracy: 0.0938\n",
      "Epoch 92/150\n",
      "1359/1359 [==============================] - 1127s 829ms/step - loss: 14.6089 - accuracy: 0.0937 - val_loss: 14.6100 - val_accuracy: 0.0938\n",
      "Epoch 93/150\n",
      "1359/1359 [==============================] - 1123s 826ms/step - loss: 14.6089 - accuracy: 0.0937 - val_loss: 14.6100 - val_accuracy: 0.0938\n",
      "Epoch 94/150\n",
      "1359/1359 [==============================] - 1124s 827ms/step - loss: 14.6089 - accuracy: 0.0937 - val_loss: 14.6100 - val_accuracy: 0.0938\n",
      "Epoch 95/150\n",
      "1359/1359 [==============================] - 1124s 827ms/step - loss: 14.6089 - accuracy: 0.0937 - val_loss: 14.6100 - val_accuracy: 0.0938\n",
      "Epoch 96/150\n",
      "1359/1359 [==============================] - 1132s 833ms/step - loss: 14.6089 - accuracy: 0.0937 - val_loss: 14.6100 - val_accuracy: 0.0938\n",
      "Epoch 97/150\n",
      "1359/1359 [==============================] - 1114s 819ms/step - loss: 14.6089 - accuracy: 0.0937 - val_loss: 14.6100 - val_accuracy: 0.0938\n",
      "Epoch 98/150\n",
      "1359/1359 [==============================] - 1123s 826ms/step - loss: 14.6089 - accuracy: 0.0937 - val_loss: 14.6100 - val_accuracy: 0.0938\n",
      "Epoch 99/150\n",
      "1359/1359 [==============================] - 1126s 828ms/step - loss: 14.6089 - accuracy: 0.0937 - val_loss: 14.6100 - val_accuracy: 0.0938\n",
      "Epoch 100/150\n",
      "1359/1359 [==============================] - 1120s 824ms/step - loss: 14.6089 - accuracy: 0.0937 - val_loss: 14.6100 - val_accuracy: 0.0938\n",
      "Epoch 101/150\n",
      "1359/1359 [==============================] - 1128s 830ms/step - loss: 14.6089 - accuracy: 0.0937 - val_loss: 14.6100 - val_accuracy: 0.0938\n",
      "Epoch 102/150\n",
      "1359/1359 [==============================] - 1117s 822ms/step - loss: 14.6089 - accuracy: 0.0937 - val_loss: 14.6100 - val_accuracy: 0.0938\n",
      "Epoch 103/150\n",
      "1359/1359 [==============================] - 1118s 823ms/step - loss: 14.6089 - accuracy: 0.0937 - val_loss: 14.6100 - val_accuracy: 0.0938\n",
      "Epoch 104/150\n",
      "1359/1359 [==============================] - 1110s 817ms/step - loss: 14.6089 - accuracy: 0.0937 - val_loss: 14.6100 - val_accuracy: 0.0938\n",
      "Epoch 105/150\n",
      "1359/1359 [==============================] - 1128s 830ms/step - loss: 14.6089 - accuracy: 0.0937 - val_loss: 14.6100 - val_accuracy: 0.0938\n",
      "Epoch 106/150\n",
      "1359/1359 [==============================] - 1123s 826ms/step - loss: 14.6089 - accuracy: 0.0937 - val_loss: 14.6100 - val_accuracy: 0.0938\n",
      "Epoch 107/150\n"
     ]
    },
    {
     "name": "stdout",
     "output_type": "stream",
     "text": [
      "1359/1359 [==============================] - 1126s 829ms/step - loss: 14.6089 - accuracy: 0.0937 - val_loss: 14.6100 - val_accuracy: 0.0938\n",
      "Epoch 108/150\n",
      "1359/1359 [==============================] - 1125s 828ms/step - loss: 14.6089 - accuracy: 0.0937 - val_loss: 14.6100 - val_accuracy: 0.0938\n",
      "Epoch 109/150\n",
      "1359/1359 [==============================] - 1124s 827ms/step - loss: 14.6089 - accuracy: 0.0937 - val_loss: 14.6100 - val_accuracy: 0.0938\n",
      "Epoch 110/150\n",
      "1359/1359 [==============================] - 1119s 823ms/step - loss: 14.6089 - accuracy: 0.0937 - val_loss: 14.6100 - val_accuracy: 0.0938\n",
      "Epoch 111/150\n",
      "1359/1359 [==============================] - 1120s 824ms/step - loss: 14.6089 - accuracy: 0.0937 - val_loss: 14.6100 - val_accuracy: 0.0938\n",
      "Epoch 112/150\n",
      "1359/1359 [==============================] - 1123s 826ms/step - loss: 14.6089 - accuracy: 0.0937 - val_loss: 14.6100 - val_accuracy: 0.0938\n",
      "Epoch 113/150\n",
      "1359/1359 [==============================] - 1128s 830ms/step - loss: 14.6089 - accuracy: 0.0937 - val_loss: 14.6100 - val_accuracy: 0.0938\n",
      "Epoch 114/150\n",
      "1359/1359 [==============================] - 1122s 826ms/step - loss: 14.6089 - accuracy: 0.0937 - val_loss: 14.6100 - val_accuracy: 0.0938\n",
      "Epoch 115/150\n",
      "1359/1359 [==============================] - 1122s 826ms/step - loss: 14.6089 - accuracy: 0.0937 - val_loss: 14.6100 - val_accuracy: 0.0938\n",
      "Epoch 116/150\n",
      "1359/1359 [==============================] - 1132s 833ms/step - loss: 14.6089 - accuracy: 0.0937 - val_loss: 14.6100 - val_accuracy: 0.0938\n",
      "Epoch 117/150\n",
      "1359/1359 [==============================] - 1118s 823ms/step - loss: 14.5974 - accuracy: 0.0937 - val_loss: 14.6100 - val_accuracy: 0.0938\n",
      "Epoch 118/150\n",
      "1359/1359 [==============================] - 1127s 830ms/step - loss: 14.6089 - accuracy: 0.0937 - val_loss: 14.6100 - val_accuracy: 0.0938\n",
      "Epoch 119/150\n",
      "1359/1359 [==============================] - 1129s 831ms/step - loss: 14.6089 - accuracy: 0.0937 - val_loss: 14.6100 - val_accuracy: 0.0938\n",
      "Epoch 120/150\n",
      "1359/1359 [==============================] - 1125s 828ms/step - loss: 14.6089 - accuracy: 0.0937 - val_loss: 14.6100 - val_accuracy: 0.0938\n",
      "Epoch 121/150\n",
      "1359/1359 [==============================] - 1124s 827ms/step - loss: 14.6089 - accuracy: 0.0937 - val_loss: 14.6100 - val_accuracy: 0.0938\n",
      "Epoch 122/150\n",
      "1359/1359 [==============================] - 1121s 825ms/step - loss: 14.5974 - accuracy: 0.0937 - val_loss: 14.6100 - val_accuracy: 0.0938\n",
      "Epoch 123/150\n",
      "1359/1359 [==============================] - 1121s 825ms/step - loss: 14.6089 - accuracy: 0.0937 - val_loss: 14.6100 - val_accuracy: 0.0938\n",
      "Epoch 124/150\n",
      "1359/1359 [==============================] - 1128s 830ms/step - loss: 14.6089 - accuracy: 0.0937 - val_loss: 14.6100 - val_accuracy: 0.0938\n",
      "Epoch 125/150\n",
      "1359/1359 [==============================] - 1114s 819ms/step - loss: 14.5974 - accuracy: 0.0937 - val_loss: 14.6100 - val_accuracy: 0.0938\n",
      "Epoch 126/150\n",
      "1359/1359 [==============================] - 1115s 821ms/step - loss: 14.6089 - accuracy: 0.0937 - val_loss: 14.6100 - val_accuracy: 0.0938\n",
      "Epoch 127/150\n",
      "1359/1359 [==============================] - 1116s 821ms/step - loss: 14.6089 - accuracy: 0.0937 - val_loss: 14.6100 - val_accuracy: 0.0938\n",
      "Epoch 128/150\n",
      "1359/1359 [==============================] - 1125s 828ms/step - loss: 14.6089 - accuracy: 0.0937 - val_loss: 14.6100 - val_accuracy: 0.0938\n",
      "Epoch 129/150\n",
      "1359/1359 [==============================] - 1121s 825ms/step - loss: 14.6089 - accuracy: 0.0937 - val_loss: 14.6100 - val_accuracy: 0.0938\n",
      "Epoch 130/150\n",
      "1359/1359 [==============================] - 1122s 825ms/step - loss: 14.6089 - accuracy: 0.0937 - val_loss: 14.6100 - val_accuracy: 0.0938\n",
      "Epoch 131/150\n",
      "1359/1359 [==============================] - 1128s 830ms/step - loss: 14.6089 - accuracy: 0.0937 - val_loss: 14.6100 - val_accuracy: 0.0938\n",
      "Epoch 132/150\n",
      "1359/1359 [==============================] - 1113s 819ms/step - loss: 14.6089 - accuracy: 0.0937 - val_loss: 14.5641 - val_accuracy: 0.0938\n",
      "Epoch 133/150\n",
      "1359/1359 [==============================] - 1131s 832ms/step - loss: 14.6089 - accuracy: 0.0937 - val_loss: 14.5641 - val_accuracy: 0.0938\n",
      "Epoch 134/150\n",
      "1359/1359 [==============================] - 1121s 825ms/step - loss: 14.6089 - accuracy: 0.0937 - val_loss: 14.6100 - val_accuracy: 0.0938\n",
      "Epoch 135/150\n",
      "1359/1359 [==============================] - 1131s 832ms/step - loss: 14.6089 - accuracy: 0.0937 - val_loss: 14.6100 - val_accuracy: 0.0938\n",
      "Epoch 136/150\n",
      "1359/1359 [==============================] - 1126s 829ms/step - loss: 14.6089 - accuracy: 0.0937 - val_loss: 14.6100 - val_accuracy: 0.0938\n",
      "Epoch 137/150\n",
      "1359/1359 [==============================] - 1119s 823ms/step - loss: 14.6089 - accuracy: 0.0937 - val_loss: 14.6100 - val_accuracy: 0.0938\n",
      "Epoch 138/150\n",
      "1359/1359 [==============================] - 1112s 818ms/step - loss: 14.5974 - accuracy: 0.0937 - val_loss: 14.6100 - val_accuracy: 0.0938\n",
      "Epoch 139/150\n",
      "1359/1359 [==============================] - 1132s 833ms/step - loss: 14.5974 - accuracy: 0.0937 - val_loss: 14.6100 - val_accuracy: 0.0938\n",
      "Epoch 140/150\n",
      "1359/1359 [==============================] - 1115s 821ms/step - loss: 14.6089 - accuracy: 0.0937 - val_loss: 14.6100 - val_accuracy: 0.0938\n",
      "Epoch 141/150\n",
      "1359/1359 [==============================] - 1122s 826ms/step - loss: 14.6089 - accuracy: 0.0937 - val_loss: 14.6100 - val_accuracy: 0.0938\n",
      "Epoch 142/150\n",
      "1359/1359 [==============================] - 1120s 824ms/step - loss: 14.6089 - accuracy: 0.0937 - val_loss: 14.6100 - val_accuracy: 0.0938\n",
      "Epoch 143/150\n",
      "1359/1359 [==============================] - 1121s 825ms/step - loss: 14.6089 - accuracy: 0.0937 - val_loss: 14.6100 - val_accuracy: 0.0938\n",
      "Epoch 144/150\n",
      "1359/1359 [==============================] - 1121s 825ms/step - loss: 14.6089 - accuracy: 0.0937 - val_loss: 14.6100 - val_accuracy: 0.0938\n",
      "Epoch 145/150\n",
      "1359/1359 [==============================] - 1125s 828ms/step - loss: 14.6089 - accuracy: 0.0937 - val_loss: 14.6100 - val_accuracy: 0.0938\n",
      "Epoch 146/150\n",
      "1359/1359 [==============================] - 1120s 824ms/step - loss: 14.6089 - accuracy: 0.0937 - val_loss: 14.6100 - val_accuracy: 0.0938\n",
      "Epoch 147/150\n",
      "1359/1359 [==============================] - 1124s 827ms/step - loss: 14.5974 - accuracy: 0.0937 - val_loss: 14.6100 - val_accuracy: 0.0938\n",
      "Epoch 148/150\n",
      "1359/1359 [==============================] - 1122s 825ms/step - loss: 14.6089 - accuracy: 0.0937 - val_loss: 14.6100 - val_accuracy: 0.0938\n",
      "Epoch 149/150\n",
      "1359/1359 [==============================] - 1123s 826ms/step - loss: 14.6089 - accuracy: 0.0937 - val_loss: 14.6100 - val_accuracy: 0.0938\n",
      "Epoch 150/150\n",
      "1359/1359 [==============================] - 1124s 827ms/step - loss: 14.6089 - accuracy: 0.0937 - val_loss: 14.6100 - val_accuracy: 0.0938\n",
      "took: 2812.601589945952\n"
     ]
    }
   ],
   "source": [
    "total_epochs = 150\n",
    "start_time = time.time()\n",
    "history_v = model_v.fit_generator(train_data_gen,\n",
    "                         epochs=total_epochs,\n",
    "                         steps_per_epoch=train_data_gen.__len__(),\n",
    "                         validation_data=valid_data_gen,\n",
    "                         validation_steps= valid_data_gen.__len__(),\n",
    "                         callbacks = [checkpoint, reduce_lr]\n",
    "                        )\n",
    "duration = time.time() - start_time \n",
    "print('took: ' + str(duration/60))"
   ]
  },
  {
   "cell_type": "code",
   "execution_count": null,
   "metadata": {},
   "outputs": [],
   "source": [
    "model_v.save('models/plant_village_black_vgg16_trained.h5') "
   ]
  },
  {
   "cell_type": "code",
   "execution_count": null,
   "metadata": {},
   "outputs": [],
   "source": [
    "acc = history_v.history['accuracy']\n",
    "val_acc = history_v.history['val_accuracy']\n",
    "\n",
    "loss = history_v.history['loss']\n",
    "val_loss = history_v.history['val_loss']\n",
    "\n",
    "plt.figure(figsize=(8, 8))\n",
    "plt.subplot(2, 1, 1)\n",
    "plt.plot(acc, label='Precisión de entrenamiento')\n",
    "plt.plot(val_acc, label='Precisión de validación')\n",
    "plt.legend(loc='lower right')\n",
    "plt.ylabel('Precisión')\n",
    "plt.ylim([min(plt.ylim()),1])\n",
    "plt.title('Precisión de entrenamiento y validación')\n",
    "\n",
    "plt.subplot(2, 1, 2)\n",
    "plt.plot(loss, label='Pérdida de entrenamiento')\n",
    "plt.plot(val_loss, label='Pérdida de validación')\n",
    "plt.legend(loc='upper right')\n",
    "plt.ylabel('Entropia cruzada')\n",
    "plt.ylim([0,5])\n",
    "plt.title('Precisión de entrenamiento y validación')\n",
    "plt.xlabel('epoch')\n",
    "plt.show()"
   ]
  }
 ],
 "metadata": {
  "kernelspec": {
   "display_name": "Python 3",
   "language": "python",
   "name": "python3"
  },
  "language_info": {
   "codemirror_mode": {
    "name": "ipython",
    "version": 3
   },
   "file_extension": ".py",
   "mimetype": "text/x-python",
   "name": "python",
   "nbconvert_exporter": "python",
   "pygments_lexer": "ipython3",
   "version": "3.6.8"
  }
 },
 "nbformat": 4,
 "nbformat_minor": 2
}
