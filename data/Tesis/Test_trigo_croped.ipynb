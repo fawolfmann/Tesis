{
 "cells": [
  {
   "cell_type": "markdown",
   "metadata": {},
   "source": [
    "# Test Trigo croped"
   ]
  },
  {
   "cell_type": "code",
   "execution_count": 1,
   "metadata": {},
   "outputs": [],
   "source": [
    "%matplotlib inline"
   ]
  },
  {
   "cell_type": "code",
   "execution_count": 2,
   "metadata": {},
   "outputs": [
    {
     "name": "stdout",
     "output_type": "stream",
     "text": [
      "Requirement already satisfied: Pillow in /usr/local/lib/python3.6/dist-packages (6.2.1)\n",
      "\u001b[33mWARNING: You are using pip version 19.2.3, however version 19.3.1 is available.\n",
      "You should consider upgrading via the 'pip install --upgrade pip' command.\u001b[0m\n",
      "Requirement already satisfied: scipy in /usr/local/lib/python3.6/dist-packages (1.3.2)\n",
      "Requirement already satisfied: numpy>=1.13.3 in /usr/local/lib/python3.6/dist-packages (from scipy) (1.17.2)\n",
      "\u001b[33mWARNING: You are using pip version 19.2.3, however version 19.3.1 is available.\n",
      "You should consider upgrading via the 'pip install --upgrade pip' command.\u001b[0m\n",
      "Requirement already satisfied: sklearn in /usr/local/lib/python3.6/dist-packages (0.0)\n",
      "Requirement already satisfied: scikit-learn in /usr/local/lib/python3.6/dist-packages (from sklearn) (0.21.3)\n",
      "Requirement already satisfied: numpy>=1.11.0 in /usr/local/lib/python3.6/dist-packages (from scikit-learn->sklearn) (1.17.2)\n",
      "Requirement already satisfied: scipy>=0.17.0 in /usr/local/lib/python3.6/dist-packages (from scikit-learn->sklearn) (1.3.2)\n",
      "Requirement already satisfied: joblib>=0.11 in /usr/local/lib/python3.6/dist-packages (from scikit-learn->sklearn) (0.14.0)\n",
      "\u001b[33mWARNING: You are using pip version 19.2.3, however version 19.3.1 is available.\n",
      "You should consider upgrading via the 'pip install --upgrade pip' command.\u001b[0m\n"
     ]
    }
   ],
   "source": [
    "!pip install Pillow\n",
    "!pip install scipy\n",
    "!pip install sklearn"
   ]
  },
  {
   "cell_type": "code",
   "execution_count": 3,
   "metadata": {},
   "outputs": [
    {
     "name": "stdout",
     "output_type": "stream",
     "text": [
      "2.0.0\n"
     ]
    }
   ],
   "source": [
    "from __future__ import absolute_import, division, print_function, unicode_literals\n",
    "\n",
    "import os\n",
    "import numpy as np\n",
    "import scipy \n",
    "import pathlib\n",
    "import matplotlib.pyplot as plt\n",
    "import matplotlib.image as mpimg\n",
    "import tensorflow as tf\n",
    "from PIL import Image\n",
    "import IPython.display as display\n",
    "import time\n",
    "from sklearn.metrics import confusion_matrix\n",
    "\n",
    "keras = tf.keras\n",
    "print(tf.__version__)"
   ]
  },
  {
   "cell_type": "code",
   "execution_count": 4,
   "metadata": {},
   "outputs": [
    {
     "name": "stdout",
     "output_type": "stream",
     "text": [
      "Found 58 images belonging to 5 classes.\n"
     ]
    }
   ],
   "source": [
    "data_dir = './dataset/trigo/croped_test/'\n",
    "data_dir = pathlib.Path(data_dir)\n",
    "\n",
    "image_count = len(list(data_dir.glob('*/*.jpg'))) + len(list(data_dir.glob('*/*.png')))\n",
    "image_count\n",
    "\n",
    "CLASS_NAMES = np.array([item.name for item in data_dir.glob('*') if item.name != \".ipynb_checkpoints\"])\n",
    "CLASS_NAMES\n",
    "\n",
    "# The 1./255 is to convert from uint8 to float32 in range [0,1].\n",
    "test_image_generator = tf.keras.preprocessing.image.ImageDataGenerator(rescale=1./255)\n",
    "\n",
    "BATCH_SIZE = 1\n",
    "IMG_HEIGHT = 224\n",
    "IMG_WIDTH = 224\n",
    "STEPS_PER_EPOCH = np.ceil((image_count*0.85)/BATCH_SIZE)\n",
    "int(STEPS_PER_EPOCH)\n",
    "\n",
    "test_gen = test_image_generator.flow_from_directory(directory= str(data_dir),\n",
    "                                                     batch_size= BATCH_SIZE,\n",
    "                                                     target_size= (IMG_HEIGHT, IMG_WIDTH),\n",
    "                                                     class_mode=None,\n",
    "                                                     shuffle=False,\n",
    "                                                     seed=42\n",
    "                                                   )"
   ]
  },
  {
   "cell_type": "code",
   "execution_count": 5,
   "metadata": {},
   "outputs": [
    {
     "data": {
      "text/plain": [
       "array(['roya', 'mancha_foliar', 'oidio', 'sano'], dtype='<U13')"
      ]
     },
     "execution_count": 5,
     "metadata": {},
     "output_type": "execute_result"
    }
   ],
   "source": [
    "CLASS_NAMES"
   ]
  },
  {
   "cell_type": "code",
   "execution_count": 6,
   "metadata": {},
   "outputs": [],
   "source": [
    "def index_value(clas_file):\n",
    "    clas_file = clas_file.split('/')[0]\n",
    "    return list(CLASS_NAMES).index(clas_file)"
   ]
  },
  {
   "cell_type": "code",
   "execution_count": 7,
   "metadata": {},
   "outputs": [],
   "source": [
    "def plot_confusion_matrix(matrix):\n",
    "    \"\"\"If you prefer color and a colorbar\"\"\"\n",
    "    fig = plt. figure(figsize=(8,8))\n",
    "    ax = fig.add_subplot(111)\n",
    "    cax = ax.matshow(matrix)\n",
    "    fig.colorbar(cax)"
   ]
  },
  {
   "cell_type": "code",
   "execution_count": 12,
   "metadata": {},
   "outputs": [],
   "source": [
    "index_class = map(index_value, test_gen.filenames)\n",
    "index_class = list(index_class)"
   ]
  },
  {
   "cell_type": "markdown",
   "metadata": {},
   "source": [
    "### DenseNet"
   ]
  },
  {
   "cell_type": "code",
   "execution_count": 8,
   "metadata": {
    "scrolled": false
   },
   "outputs": [],
   "source": [
    "model = tf.keras.models.load_model('models/plant_village_trigo_croped_desnet.21-0.87.h5')"
   ]
  },
  {
   "cell_type": "code",
   "execution_count": 22,
   "metadata": {},
   "outputs": [
    {
     "name": "stdout",
     "output_type": "stream",
     "text": [
      "58/58 [==============================] - 14s 237ms/step\n"
     ]
    }
   ],
   "source": [
    "predicts = model.predict_generator(test_gen, steps=58, verbose=1)"
   ]
  },
  {
   "cell_type": "code",
   "execution_count": 23,
   "metadata": {},
   "outputs": [],
   "source": [
    "array_pred = []\n",
    "for i in range(len(predicts)):\n",
    "    array_pred.append(np.argmax(predicts[i]))\n",
    "tags_names = test_gen.filenames"
   ]
  },
  {
   "cell_type": "code",
   "execution_count": 25,
   "metadata": {},
   "outputs": [
    {
     "data": {
      "text/plain": [
       "[[1, 2, 'mancha_foliar/119_0.png'],\n",
       " [1, 0, 'mancha_foliar/19_0.png'],\n",
       " [1, 0, 'mancha_foliar/61_2.png'],\n",
       " [0, 1, 'roya/1_32_1.png'],\n",
       " [0, 2, 'roya/1_55_0.png'],\n",
       " [0, 3, 'roya/28_1.png']]"
      ]
     },
     "execution_count": 25,
     "metadata": {},
     "output_type": "execute_result"
    }
   ],
   "source": [
    "wrong_predictions = []\n",
    "for i in range(len(array_pred)):\n",
    "    if index_class[i] !=  array_pred[i] :\n",
    "        wrong_predictions.append([index_class[i], array_pred[i], test_gen.filenames[i] ])\n",
    "wrong_predictions"
   ]
  },
  {
   "cell_type": "code",
   "execution_count": null,
   "metadata": {},
   "outputs": [],
   "source": [
    "for i in range(len(wrong_predictions)):\n",
    "    true, predict, img = wrong_predictions[i]\n",
    "    plt.figure(figsize=(4, 4), dpi= 200)\n",
    "    path = os.path.join(data_dir ,img)\n",
    "    image = mpimg.imread(path)\n",
    "    plt.imshow(image)\n",
    "    plt.axes = False\n",
    "    title_str = 'veradera: ' + CLASS_NAMES[true] + '- predicho: ' + CLASS_NAMES[predict]\n",
    "    plt.title(title_str)\n",
    "    "
   ]
  },
  {
   "cell_type": "code",
   "execution_count": 23,
   "metadata": {},
   "outputs": [
    {
     "data": {
      "text/plain": [
       "array([[11,  1,  1,  1],\n",
       "       [ 2, 12,  1,  0],\n",
       "       [ 0,  0, 14,  0],\n",
       "       [ 0,  0,  0, 15]])"
      ]
     },
     "execution_count": 23,
     "metadata": {},
     "output_type": "execute_result"
    }
   ],
   "source": [
    "confusion =confusion_matrix(index_class,array_pred)\n",
    "confusion"
   ]
  },
  {
   "cell_type": "code",
   "execution_count": 25,
   "metadata": {},
   "outputs": [
    {
     "data": {
      "image/png": "[encoded data removed]",
      "text/plain": [
       "<Figure size 288x288 with 1 Axes>"
      ]
     },
     "metadata": {
      "needs_background": "light"
     },
     "output_type": "display_data"
    }
   ],
   "source": [
    "plt.matshow(confusion, cmap=plt.cm.gray)\n",
    "plt.show()"
   ]
  },
  {
   "cell_type": "code",
   "execution_count": 30,
   "metadata": {},
   "outputs": [],
   "source": [
    "with open('confusion_matrix_trigo.txt', 'w') as f:\n",
    "    f.write(np.array2string(confusion))"
   ]
  },
  {
   "cell_type": "markdown",
   "metadata": {},
   "source": [
    "### Xception"
   ]
  },
  {
   "cell_type": "code",
   "execution_count": 6,
   "metadata": {},
   "outputs": [],
   "source": [
    "model = tf.keras.models.load_model('models/plant_village_trigo_croped_Xception.30-0.88.h5')"
   ]
  },
  {
   "cell_type": "code",
   "execution_count": 7,
   "metadata": {},
   "outputs": [
    {
     "name": "stdout",
     "output_type": "stream",
     "text": [
      "58/58 [==============================] - 7s 123ms/step\n"
     ]
    }
   ],
   "source": [
    "predicts = model.predict_generator(test_gen, steps=58, verbose=1)"
   ]
  },
  {
   "cell_type": "code",
   "execution_count": 8,
   "metadata": {},
   "outputs": [],
   "source": [
    "array_pred = []\n",
    "for i in range(len(predicts)):\n",
    "    array_pred.append(np.argmax(predicts[i]))"
   ]
  },
  {
   "cell_type": "code",
   "execution_count": 12,
   "metadata": {},
   "outputs": [],
   "source": [
    "wrong_predictions = []\n",
    "for i in range(len(array_pred)):\n",
    "    if index_class[i] !=  array_pred[i] :\n",
    "        wrong_predictions.append([index_class[i], array_pred[i], test_gen.filenames[i] ])"
   ]
  },
  {
   "cell_type": "code",
   "execution_count": 13,
   "metadata": {},
   "outputs": [
    {
     "data": {
      "text/plain": [
       "[[1, 0, 'mancha_foliar/119_0.png'],\n",
       " [1, 2, 'mancha_foliar/15_1.png'],\n",
       " [1, 0, 'mancha_foliar/19_0.png'],\n",
       " [1, 0, 'mancha_foliar/42_0.png'],\n",
       " [1, 0, 'mancha_foliar/61_2.png'],\n",
       " [2, 1, 'oidio/66_0.png'],\n",
       " [2, 1, 'oidio/8_6.png'],\n",
       " [2, 1, 'oidio/96_3.png'],\n",
       " [0, 1, 'roya/1_55_0.png'],\n",
       " [0, 1, 'roya/30_1.png']]"
      ]
     },
     "execution_count": 13,
     "metadata": {},
     "output_type": "execute_result"
    }
   ],
   "source": [
    "wrong_predictions"
   ]
  },
  {
   "cell_type": "code",
   "execution_count": 14,
   "metadata": {},
   "outputs": [
    {
     "data": {
      "text/plain": [
       "array([[12,  2,  0,  0],\n",
       "       [ 4, 10,  1,  0],\n",
       "       [ 0,  3, 11,  0],\n",
       "       [ 0,  0,  0, 15]])"
      ]
     },
     "execution_count": 14,
     "metadata": {},
     "output_type": "execute_result"
    }
   ],
   "source": [
    "from sklearn.metrics import confusion_matrix\n",
    "confusion =confusion_matrix(index_class,array_pred)\n",
    "confusion"
   ]
  },
  {
   "cell_type": "code",
   "execution_count": 15,
   "metadata": {},
   "outputs": [
    {
     "data": {
      "image/png": "[encoded data removed]",
      "text/plain": [
       "<Figure size 288x288 with 1 Axes>"
      ]
     },
     "metadata": {
      "needs_background": "light"
     },
     "output_type": "display_data"
    }
   ],
   "source": [
    "plt.matshow(confusion, cmap=plt.cm.gray)\n",
    "plt.show()"
   ]
  },
  {
   "cell_type": "code",
   "execution_count": 16,
   "metadata": {},
   "outputs": [],
   "source": [
    "with open('confusion_matrix_trigo_xception.txt', 'w') as f:\n",
    "    f.write(np.array2string(confusion))"
   ]
  },
  {
   "cell_type": "markdown",
   "metadata": {},
   "source": [
    "### Resnet"
   ]
  },
  {
   "cell_type": "code",
   "execution_count": 9,
   "metadata": {},
   "outputs": [],
   "source": [
    "model1 = tf.keras.models.load_model('models/plant_village_trigo_croped_resnet.79-0.81.h5')\n",
    "model2 = tf.keras.models.load_model('models/plant_village_trigo_croped_resnet.35-0.80.h5')"
   ]
  },
  {
   "cell_type": "code",
   "execution_count": 10,
   "metadata": {},
   "outputs": [
    {
     "name": "stdout",
     "output_type": "stream",
     "text": [
      "58/58 [==============================] - 11s 187ms/step\n",
      "58/58 [==============================] - 6s 108ms/step\n"
     ]
    }
   ],
   "source": [
    "predicts1 = model1.predict_generator(test_gen, steps=58, verbose=1)\n",
    "predicts2 = model2.predict_generator(test_gen, steps=58, verbose=1)"
   ]
  },
  {
   "cell_type": "code",
   "execution_count": 18,
   "metadata": {},
   "outputs": [
    {
     "data": {
      "text/plain": [
       "[[1, 2, 'mancha_foliar/119_0.png'],\n",
       " [1, 2, 'mancha_foliar/15_1.png'],\n",
       " [1, 2, 'mancha_foliar/19_0.png'],\n",
       " [1, 0, 'mancha_foliar/42_0.png'],\n",
       " [1, 0, 'mancha_foliar/93_0.png'],\n",
       " [2, 3, 'oidio/26_1.png'],\n",
       " [2, 3, 'oidio/35_2.png'],\n",
       " [2, 3, 'oidio/4_15.png'],\n",
       " [2, 1, 'oidio/8_6.png'],\n",
       " [0, 2, 'roya/1_0_1.png'],\n",
       " [0, 1, 'roya/1_55_0.png'],\n",
       " [0, 1, 'roya/30_1.png'],\n",
       " [0, 2, 'roya/71_0.png'],\n",
       " [0, 2, 'roya/82_0.png'],\n",
       " [3, 2, 'sano/42_4.png'],\n",
       " [3, 2, 'sano/9_0.png']]"
      ]
     },
     "execution_count": 18,
     "metadata": {},
     "output_type": "execute_result"
    }
   ],
   "source": [
    "array_pred = []\n",
    "for i in range(len(predicts1)):\n",
    "    array_pred.append(np.argmax(predicts1[i]))\n",
    "\n",
    "wrong_predictions = []\n",
    "for i in range(len(array_pred)):\n",
    "    if index_class[i] !=  array_pred[i] :\n",
    "        wrong_predictions.append([index_class[i], array_pred[i], test_gen.filenames[i] ])\n",
    "wrong_predictions"
   ]
  },
  {
   "cell_type": "code",
   "execution_count": 19,
   "metadata": {},
   "outputs": [
    {
     "data": {
      "text/plain": [
       "array([[ 9,  2,  3,  0],\n",
       "       [ 2, 10,  3,  0],\n",
       "       [ 0,  1, 10,  3],\n",
       "       [ 0,  0,  2, 13]])"
      ]
     },
     "execution_count": 19,
     "metadata": {},
     "output_type": "execute_result"
    }
   ],
   "source": [
    "confusion =confusion_matrix(index_class,array_pred)\n",
    "confusion"
   ]
  },
  {
   "cell_type": "code",
   "execution_count": 20,
   "metadata": {},
   "outputs": [
    {
     "data": {
      "image/png": "[encoded data removed]",
      "text/plain": [
       "<Figure size 288x288 with 1 Axes>"
      ]
     },
     "metadata": {
      "needs_background": "light"
     },
     "output_type": "display_data"
    }
   ],
   "source": [
    "plt.matshow(confusion, cmap=plt.cm.gray)\n",
    "plt.show()"
   ]
  },
  {
   "cell_type": "code",
   "execution_count": 21,
   "metadata": {},
   "outputs": [],
   "source": [
    "with open('confusion_matrix_trigo_resnet.txt', 'w') as f:\n",
    "    f.write(np.array2string(confusion))"
   ]
  },
  {
   "cell_type": "code",
   "execution_count": null,
   "metadata": {},
   "outputs": [],
   "source": []
  }
 ],
 "metadata": {
  "kernelspec": {
   "display_name": "Python 3",
   "language": "python",
   "name": "python3"
  },
  "language_info": {
   "codemirror_mode": {
    "name": "ipython",
    "version": 3
   },
   "file_extension": ".py",
   "mimetype": "text/x-python",
   "name": "python",
   "nbconvert_exporter": "python",
   "pygments_lexer": "ipython3",
   "version": "3.6.8"
  }
 },
 "nbformat": 4,
 "nbformat_minor": 2
}
