{
 "cells": [
  {
   "cell_type": "markdown",
   "metadata": {},
   "source": [
    "## Transfer learning"
   ]
  },
  {
   "cell_type": "code",
   "execution_count": null,
   "metadata": {},
   "outputs": [],
   "source": [
    "data_dir = './dataset/trigo/enfermo/'\n",
    "data_dir = pathlib.Path(data_dir)\n",
    "\n",
    "image_count = len(list(data_dir.glob('*/*.jpg'))) + len(list(data_dir.glob('*/*.png')))\n",
    "image_count\n",
    "\n",
    "CLASS_NAMES = np.array([item.name for item in data_dir.glob('*') if item.name != \".ipynb_checkpoints\"])\n",
    "CLASS_NAMES\n",
    "\n",
    "# The 1./255 is to convert from uint8 to float32 in range [0,1].\n",
    "image_generator = tf.keras.preprocessing.image.ImageDataGenerator(rescale=1./255,\n",
    "                                                                  validation_split=0.15,                            \n",
    "                                                                  zoom_range=0.4,\n",
    "                                                                  horizontal_flip=True,\n",
    "                                                                  rotation_range=90\n",
    "                                                                 )\n",
    "\n",
    "BATCH_SIZE = 16\n",
    "# IMG_HEIGHT = 224\n",
    "# IMG_WIDTH = 224\n",
    "IMG_HEIGHT = 448\n",
    "IMG_WIDTH = 448\n",
    "STEPS_PER_EPOCH = np.ceil((image_count*0.85)/BATCH_SIZE)\n",
    "int(STEPS_PER_EPOCH)\n",
    "\n",
    "train_data_gen = image_generator.flow_from_directory(directory= str(data_dir),\n",
    "                                                     batch_size= BATCH_SIZE,\n",
    "                                                     shuffle= True,\n",
    "                                                     target_size= (IMG_HEIGHT, IMG_WIDTH),\n",
    "                                                     subset = \"training\",\n",
    "                                                     # save_to_dir = '/tf/data/Tesis/dataset/augmented',\n",
    "                                                     # save_prefix = 'trigo_',\n",
    "                                                     classes = list(CLASS_NAMES))\n",
    "\n",
    "valid_data_gen = image_generator.flow_from_directory(directory= str(data_dir),\n",
    "                                                     batch_size= BATCH_SIZE,\n",
    "                                                     shuffle= True,\n",
    "                                                     target_size= (IMG_HEIGHT, IMG_WIDTH),\n",
    "                                                     subset = \"validation\",\n",
    "                                                     classes = list(CLASS_NAMES))\n",
    "\n",
    "model = tf.keras.models.load_model('models/plant_village_trigo_resnet_448x448.11-0.65.h5')\n",
    "\n",
    "predicts = model.predict_generator(valid_data_gen)\n",
    "\n",
    "array_pred = []\n",
    "for i in range(len(predicts)):\n",
    "    array_pred.append(np.argmax(predicts[i]))\n",
    "\n",
    "tags_names = valid_data_gen.filenames\n",
    "\n",
    "def index_value(clas_file):\n",
    "    clas_file = clas_file.split('/')[0]\n",
    "    return list(CLASS_NAMES).index(clas_file)\n",
    "\n",
    "index_class = map(index_value, tags_names)\n",
    "\n",
    "index_class = list(index_class)"
   ]
  },
  {
   "cell_type": "code",
   "execution_count": null,
   "metadata": {},
   "outputs": [],
   "source": [
    "!pip install sklearn\n",
    "\n",
    "from sklearn.metrics import confusion_matrix\n",
    "\n",
    "confusion =confusion_matrix(index_class,array_pred)\n",
    "\n",
    "confusion"
   ]
  }
 ],
 "metadata": {
  "kernelspec": {
   "display_name": "Python 3",
   "language": "python",
   "name": "python3"
  },
  "language_info": {
   "codemirror_mode": {
    "name": "ipython",
    "version": 3
   },
   "file_extension": ".py",
   "mimetype": "text/x-python",
   "name": "python",
   "nbconvert_exporter": "python",
   "pygments_lexer": "ipython3",
   "version": "3.6.8"
  }
 },
 "nbformat": 4,
 "nbformat_minor": 2
}
