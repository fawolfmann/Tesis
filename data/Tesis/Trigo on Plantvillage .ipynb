{
 "cells": [
  {
   "cell_type": "markdown",
   "metadata": {},
   "source": [
    "# Transferencia de conocimiento sobre redes entrenadas con plantvillage"
   ]
  },
  {
   "cell_type": "markdown",
   "metadata": {},
   "source": [
    "Realizamos fine tune y feature extraction sobre las redes entrenadas."
   ]
  },
  {
   "cell_type": "code",
   "execution_count": 2,
   "metadata": {},
   "outputs": [
    {
     "name": "stdout",
     "output_type": "stream",
     "text": [
      "2.0.0\n"
     ]
    }
   ],
   "source": [
    "from __future__ import absolute_import, division, print_function, unicode_literals\n",
    "\n",
    "import os\n",
    "import numpy as np\n",
    "import scipy \n",
    "import pathlib\n",
    "import matplotlib.pyplot as plt\n",
    "import tensorflow as tf\n",
    "from PIL import Image\n",
    "import IPython.display as display\n",
    "import time\n",
    "\n",
    "keras = tf.keras\n",
    "print(tf.__version__)"
   ]
  },
  {
   "cell_type": "code",
   "execution_count": 3,
   "metadata": {},
   "outputs": [],
   "source": [
    "data_dir = './dataset/trigo/enfermo/'\n",
    "data_dir = pathlib.Path(data_dir)"
   ]
  },
  {
   "cell_type": "code",
   "execution_count": 5,
   "metadata": {},
   "outputs": [
    {
     "data": {
      "text/plain": [
       "420"
      ]
     },
     "execution_count": 5,
     "metadata": {},
     "output_type": "execute_result"
    }
   ],
   "source": [
    "image_count = len(list(data_dir.glob('*/*.jpg'))) + len(list(data_dir.glob('*/*.png')))\n",
    "image_count"
   ]
  },
  {
   "cell_type": "code",
   "execution_count": 16,
   "metadata": {},
   "outputs": [],
   "source": [
    "image_generator = tf.keras.preprocessing.image.ImageDataGenerator(rescale=1./255,\n",
    "                                                                  validation_split=0.15,                            \n",
    "                                                                  zoom_range=0.2,\n",
    "                                                                  horizontal_flip=True,\n",
    "                                                                  vertical_flip=True,\n",
    "                                                                  rotation_range=20\n",
    "                                                                 )"
   ]
  },
  {
   "cell_type": "code",
   "execution_count": 17,
   "metadata": {},
   "outputs": [
    {
     "data": {
      "text/plain": [
       "12"
      ]
     },
     "execution_count": 17,
     "metadata": {},
     "output_type": "execute_result"
    }
   ],
   "source": [
    "BATCH_SIZE = 32\n",
    "IMG_HEIGHT = 224\n",
    "IMG_WIDTH = 224\n",
    "STEPS_PER_EPOCH = np.ceil((image_count*0.85)/BATCH_SIZE)\n",
    "int(STEPS_PER_EPOCH)"
   ]
  },
  {
   "cell_type": "code",
   "execution_count": 18,
   "metadata": {},
   "outputs": [
    {
     "data": {
      "text/plain": [
       "array(['mancha_foliar', 'oidio', 'roya_amarilla', 'roya_anaranjada'],\n",
       "      dtype='<U15')"
      ]
     },
     "execution_count": 18,
     "metadata": {},
     "output_type": "execute_result"
    }
   ],
   "source": [
    "CLASS_NAMES = np.array([item.name for item in data_dir.glob('*') if item.name != \".ipynb_checkpoints\"])\n",
    "CLASS_NAMES"
   ]
  },
  {
   "cell_type": "code",
   "execution_count": 19,
   "metadata": {},
   "outputs": [
    {
     "name": "stdout",
     "output_type": "stream",
     "text": [
      "Found 358 images belonging to 4 classes.\n"
     ]
    }
   ],
   "source": [
    "train_data_gen = image_generator.flow_from_directory(directory= str(data_dir),\n",
    "                                                     batch_size= BATCH_SIZE,\n",
    "                                                     shuffle= True,\n",
    "                                                     target_size= (IMG_HEIGHT, IMG_WIDTH),\n",
    "                                                     subset = \"training\",\n",
    "                                                     classes = list(CLASS_NAMES))"
   ]
  },
  {
   "cell_type": "code",
   "execution_count": 20,
   "metadata": {},
   "outputs": [
    {
     "name": "stdout",
     "output_type": "stream",
     "text": [
      "Found 62 images belonging to 4 classes.\n"
     ]
    }
   ],
   "source": [
    "valid_data_gen = image_generator.flow_from_directory(directory= str(data_dir),\n",
    "                                                     batch_size= BATCH_SIZE,\n",
    "                                                     shuffle= True,\n",
    "                                                     target_size= (IMG_HEIGHT, IMG_WIDTH),\n",
    "                                                     subset = \"validation\",\n",
    "                                                     classes = list(CLASS_NAMES))"
   ]
  },
  {
   "cell_type": "markdown",
   "metadata": {},
   "source": [
    "## Xception"
   ]
  },
  {
   "cell_type": "code",
   "execution_count": 21,
   "metadata": {},
   "outputs": [],
   "source": [
    "base_model_x = tf.keras.models.load_model('models/plant_village_Xception_trained_01.h5')"
   ]
  },
  {
   "cell_type": "code",
   "execution_count": 24,
   "metadata": {},
   "outputs": [],
   "source": [
    "global_average_layer_x = tf.keras.layers.GlobalAveragePooling2D()\n",
    "prediction_layer_x = keras.layers.Dense(len(CLASS_NAMES), activation=\"softmax\")"
   ]
  },
  {
   "cell_type": "code",
   "execution_count": 25,
   "metadata": {},
   "outputs": [],
   "source": [
    "base_model_x.layers[0].trainable = False"
   ]
  },
  {
   "cell_type": "code",
   "execution_count": 26,
   "metadata": {},
   "outputs": [],
   "source": [
    "model_x = tf.keras.Sequential([\n",
    "  base_model_x.layers[0],\n",
    "  global_average_layer_x,\n",
    "  prediction_layer_x\n",
    "])"
   ]
  },
  {
   "cell_type": "code",
   "execution_count": 28,
   "metadata": {},
   "outputs": [],
   "source": [
    "base_learning_rate = 0.003\n",
    "model_x.compile(optimizer=tf.keras.optimizers.Adam(lr=base_learning_rate),\n",
    "              loss='categorical_crossentropy',\n",
    "              metrics=['accuracy'])"
   ]
  },
  {
   "cell_type": "code",
   "execution_count": 29,
   "metadata": {},
   "outputs": [
    {
     "name": "stdout",
     "output_type": "stream",
     "text": [
      "Model: \"sequential\"\n",
      "_________________________________________________________________\n",
      "Layer (type)                 Output Shape              Param #   \n",
      "=================================================================\n",
      "xception (Model)             (None, 7, 7, 2048)        20861480  \n",
      "_________________________________________________________________\n",
      "global_average_pooling2d_1 ( (None, 2048)              0         \n",
      "_________________________________________________________________\n",
      "dense_1 (Dense)              (None, 4)                 8196      \n",
      "=================================================================\n",
      "Total params: 20,869,676\n",
      "Trainable params: 8,196\n",
      "Non-trainable params: 20,861,480\n",
      "_________________________________________________________________\n"
     ]
    }
   ],
   "source": [
    "model_x.summary()"
   ]
  },
  {
   "cell_type": "markdown",
   "metadata": {},
   "source": [
    "### Feature Extraction"
   ]
  },
  {
   "cell_type": "code",
   "execution_count": 30,
   "metadata": {},
   "outputs": [
    {
     "name": "stdout",
     "output_type": "stream",
     "text": [
      "Epoch 1/50\n",
      "12/12 [==============================] - 39s 3s/step - loss: 2.0208 - accuracy: 0.2821 - val_loss: 2.0694 - val_accuracy: 0.2742\n",
      "Epoch 2/50\n",
      "12/12 [==============================] - 33s 3s/step - loss: 1.3360 - accuracy: 0.4721 - val_loss: 2.1437 - val_accuracy: 0.2097\n",
      "Epoch 3/50\n",
      "12/12 [==============================] - 33s 3s/step - loss: 1.0859 - accuracy: 0.5754 - val_loss: 2.0681 - val_accuracy: 0.1774\n",
      "Epoch 4/50\n",
      "12/12 [==============================] - 33s 3s/step - loss: 1.0434 - accuracy: 0.6006 - val_loss: 1.5869 - val_accuracy: 0.2419\n",
      "Epoch 5/50\n",
      "12/12 [==============================] - 33s 3s/step - loss: 1.0687 - accuracy: 0.5838 - val_loss: 2.2122 - val_accuracy: 0.2581\n",
      "Epoch 6/50\n",
      "12/12 [==============================] - 34s 3s/step - loss: 1.0273 - accuracy: 0.6061 - val_loss: 2.6992 - val_accuracy: 0.1935\n",
      "Epoch 7/50\n",
      "12/12 [==============================] - 33s 3s/step - loss: 1.1494 - accuracy: 0.5978 - val_loss: 1.9108 - val_accuracy: 0.2581\n",
      "Epoch 8/50\n",
      "12/12 [==============================] - 33s 3s/step - loss: 0.9800 - accuracy: 0.6006 - val_loss: 1.5673 - val_accuracy: 0.2581\n",
      "Epoch 9/50\n",
      "12/12 [==============================] - 33s 3s/step - loss: 0.9471 - accuracy: 0.6341 - val_loss: 1.6157 - val_accuracy: 0.3226\n",
      "Epoch 10/50\n",
      "12/12 [==============================] - 33s 3s/step - loss: 0.9561 - accuracy: 0.6117 - val_loss: 1.8772 - val_accuracy: 0.2742\n",
      "Epoch 11/50\n",
      "12/12 [==============================] - 33s 3s/step - loss: 0.9111 - accuracy: 0.6257 - val_loss: 2.1711 - val_accuracy: 0.2097\n",
      "Epoch 12/50\n",
      "12/12 [==============================] - 33s 3s/step - loss: 0.9518 - accuracy: 0.6285 - val_loss: 2.5107 - val_accuracy: 0.1774\n",
      "Epoch 13/50\n",
      "12/12 [==============================] - 33s 3s/step - loss: 0.9129 - accuracy: 0.6508 - val_loss: 2.6676 - val_accuracy: 0.2581\n",
      "Epoch 14/50\n",
      "12/12 [==============================] - 33s 3s/step - loss: 0.8928 - accuracy: 0.6173 - val_loss: 2.1867 - val_accuracy: 0.3226\n",
      "Epoch 15/50\n",
      "12/12 [==============================] - 33s 3s/step - loss: 0.8707 - accuracy: 0.6592 - val_loss: 1.8573 - val_accuracy: 0.3548\n",
      "Epoch 16/50\n",
      "12/12 [==============================] - 33s 3s/step - loss: 0.8471 - accuracy: 0.6480 - val_loss: 2.0878 - val_accuracy: 0.3226\n",
      "Epoch 17/50\n",
      "12/12 [==============================] - 33s 3s/step - loss: 0.8461 - accuracy: 0.6676 - val_loss: 2.0231 - val_accuracy: 0.2581\n",
      "Epoch 18/50\n",
      "12/12 [==============================] - 33s 3s/step - loss: 0.8615 - accuracy: 0.6592 - val_loss: 1.6306 - val_accuracy: 0.3387\n",
      "Epoch 19/50\n",
      "12/12 [==============================] - 33s 3s/step - loss: 0.8042 - accuracy: 0.6788 - val_loss: 1.8776 - val_accuracy: 0.3065\n",
      "Epoch 20/50\n",
      "12/12 [==============================] - 33s 3s/step - loss: 0.8661 - accuracy: 0.6788 - val_loss: 2.0574 - val_accuracy: 0.3065\n",
      "Epoch 21/50\n",
      "12/12 [==============================] - 33s 3s/step - loss: 0.8242 - accuracy: 0.6732 - val_loss: 1.9822 - val_accuracy: 0.3226\n",
      "Epoch 22/50\n",
      "12/12 [==============================] - 33s 3s/step - loss: 0.9359 - accuracy: 0.6145 - val_loss: 1.9208 - val_accuracy: 0.2581\n",
      "Epoch 23/50\n",
      "12/12 [==============================] - 33s 3s/step - loss: 0.8395 - accuracy: 0.6564 - val_loss: 1.8887 - val_accuracy: 0.2258\n",
      "Epoch 24/50\n",
      "12/12 [==============================] - 33s 3s/step - loss: 0.8839 - accuracy: 0.6648 - val_loss: 1.8942 - val_accuracy: 0.2581\n",
      "Epoch 25/50\n",
      "12/12 [==============================] - 33s 3s/step - loss: 0.7921 - accuracy: 0.6676 - val_loss: 2.0274 - val_accuracy: 0.2258\n",
      "Epoch 26/50\n",
      "12/12 [==============================] - 33s 3s/step - loss: 0.8253 - accuracy: 0.6788 - val_loss: 2.0181 - val_accuracy: 0.2903\n",
      "Epoch 27/50\n",
      "12/12 [==============================] - 33s 3s/step - loss: 0.7304 - accuracy: 0.7095 - val_loss: 2.2251 - val_accuracy: 0.2258\n",
      "Epoch 28/50\n",
      "12/12 [==============================] - 33s 3s/step - loss: 0.6939 - accuracy: 0.7318 - val_loss: 2.0637 - val_accuracy: 0.3548\n",
      "Epoch 29/50\n",
      "12/12 [==============================] - 33s 3s/step - loss: 1.0200 - accuracy: 0.5894 - val_loss: 2.3816 - val_accuracy: 0.3548\n",
      "Epoch 30/50\n",
      "12/12 [==============================] - 33s 3s/step - loss: 0.9543 - accuracy: 0.6480 - val_loss: 2.2908 - val_accuracy: 0.3065\n",
      "Epoch 31/50\n",
      "12/12 [==============================] - 33s 3s/step - loss: 0.7361 - accuracy: 0.6955 - val_loss: 2.3036 - val_accuracy: 0.2258\n",
      "Epoch 32/50\n",
      "12/12 [==============================] - 33s 3s/step - loss: 0.7528 - accuracy: 0.7095 - val_loss: 1.8450 - val_accuracy: 0.2742\n",
      "Epoch 33/50\n",
      "12/12 [==============================] - 34s 3s/step - loss: 0.7120 - accuracy: 0.7179 - val_loss: 2.1113 - val_accuracy: 0.2581\n",
      "Epoch 34/50\n",
      "12/12 [==============================] - 33s 3s/step - loss: 0.7337 - accuracy: 0.7095 - val_loss: 2.2281 - val_accuracy: 0.2581\n",
      "Epoch 35/50\n",
      "12/12 [==============================] - 34s 3s/step - loss: 0.9110 - accuracy: 0.6536 - val_loss: 2.3855 - val_accuracy: 0.3065\n",
      "Epoch 36/50\n",
      "12/12 [==============================] - 33s 3s/step - loss: 0.9340 - accuracy: 0.6369 - val_loss: 2.1756 - val_accuracy: 0.3387\n",
      "Epoch 37/50\n",
      "12/12 [==============================] - 33s 3s/step - loss: 0.9061 - accuracy: 0.6453 - val_loss: 2.2292 - val_accuracy: 0.2742\n",
      "Epoch 38/50\n",
      "12/12 [==============================] - 33s 3s/step - loss: 0.6496 - accuracy: 0.7235 - val_loss: 2.2501 - val_accuracy: 0.3387\n",
      "Epoch 39/50\n",
      "12/12 [==============================] - 33s 3s/step - loss: 0.8684 - accuracy: 0.6425 - val_loss: 2.5790 - val_accuracy: 0.3226\n",
      "Epoch 40/50\n",
      "12/12 [==============================] - 33s 3s/step - loss: 0.9429 - accuracy: 0.6983 - val_loss: 2.8667 - val_accuracy: 0.3065\n",
      "Epoch 41/50\n",
      "12/12 [==============================] - 33s 3s/step - loss: 1.0114 - accuracy: 0.6313 - val_loss: 2.6754 - val_accuracy: 0.3065\n",
      "Epoch 42/50\n",
      "12/12 [==============================] - 33s 3s/step - loss: 0.7670 - accuracy: 0.7011 - val_loss: 3.0769 - val_accuracy: 0.3226\n",
      "Epoch 43/50\n",
      "12/12 [==============================] - 33s 3s/step - loss: 0.8370 - accuracy: 0.6564 - val_loss: 2.3707 - val_accuracy: 0.3710\n",
      "Epoch 44/50\n",
      "12/12 [==============================] - 33s 3s/step - loss: 0.7192 - accuracy: 0.7067 - val_loss: 2.9178 - val_accuracy: 0.2742\n",
      "Epoch 45/50\n",
      "12/12 [==============================] - 33s 3s/step - loss: 0.7041 - accuracy: 0.7346 - val_loss: 2.6823 - val_accuracy: 0.1774\n",
      "Epoch 46/50\n",
      "12/12 [==============================] - 33s 3s/step - loss: 0.7856 - accuracy: 0.7095 - val_loss: 2.5597 - val_accuracy: 0.2419\n",
      "Epoch 47/50\n",
      "12/12 [==============================] - 33s 3s/step - loss: 0.7442 - accuracy: 0.7263 - val_loss: 2.7063 - val_accuracy: 0.2258\n",
      "Epoch 48/50\n",
      "12/12 [==============================] - 33s 3s/step - loss: 0.6987 - accuracy: 0.7235 - val_loss: 2.3403 - val_accuracy: 0.2742\n",
      "Epoch 49/50\n",
      "12/12 [==============================] - 33s 3s/step - loss: 0.7213 - accuracy: 0.7123 - val_loss: 2.1848 - val_accuracy: 0.2419\n",
      "Epoch 50/50\n",
      "12/12 [==============================] - 33s 3s/step - loss: 0.8417 - accuracy: 0.6955 - val_loss: 2.3737 - val_accuracy: 0.4032\n",
      "took: 27.695104813575746\n"
     ]
    }
   ],
   "source": [
    "total_epochs = 50\n",
    "start_time = time.time()\n",
    "history_x = model_x.fit_generator(train_data_gen,\n",
    "                         epochs=total_epochs,\n",
    "                         steps_per_epoch=train_data_gen.__len__(),\n",
    "                         validation_data=valid_data_gen,\n",
    "                         validation_steps= valid_data_gen.__len__(),\n",
    "                        )\n",
    "duration = time.time() - start_time\n",
    "print('took: ' + str(duration/60))"
   ]
  },
  {
   "cell_type": "markdown",
   "metadata": {},
   "source": [
    "### Fine Tune"
   ]
  },
  {
   "cell_type": "code",
   "execution_count": 31,
   "metadata": {},
   "outputs": [],
   "source": [
    "base_model_x = tf.keras.models.load_model('models/plant_village_Xception_trained_01.h5')"
   ]
  },
  {
   "cell_type": "code",
   "execution_count": 32,
   "metadata": {},
   "outputs": [],
   "source": [
    "for layer in base_model_x.layers[0].layers[:105]:\n",
    "    layer.traianble = False\n",
    "for layer in base_model_x.layers[0].layers[106:]:\n",
    "    layer.traianble = True"
   ]
  },
  {
   "cell_type": "code",
   "execution_count": 33,
   "metadata": {},
   "outputs": [],
   "source": [
    "global_average_layer_x = tf.keras.layers.GlobalAveragePooling2D()\n",
    "prediction_layer_x = keras.layers.Dense(len(CLASS_NAMES), activation=\"softmax\")"
   ]
  },
  {
   "cell_type": "code",
   "execution_count": 34,
   "metadata": {},
   "outputs": [],
   "source": [
    "model_x = tf.keras.Sequential([\n",
    "  base_model_x.layers[0],\n",
    "  global_average_layer_x,\n",
    "  prediction_layer_x\n",
    "])"
   ]
  },
  {
   "cell_type": "code",
   "execution_count": 35,
   "metadata": {},
   "outputs": [],
   "source": [
    "base_learning_rate = 0.003\n",
    "model_x.compile(optimizer=tf.keras.optimizers.Adam(lr=base_learning_rate),\n",
    "              loss='categorical_crossentropy',\n",
    "              metrics=['accuracy'])"
   ]
  },
  {
   "cell_type": "code",
   "execution_count": 36,
   "metadata": {},
   "outputs": [
    {
     "name": "stdout",
     "output_type": "stream",
     "text": [
      "Model: \"sequential_1\"\n",
      "_________________________________________________________________\n",
      "Layer (type)                 Output Shape              Param #   \n",
      "=================================================================\n",
      "xception (Model)             (None, 7, 7, 2048)        20861480  \n",
      "_________________________________________________________________\n",
      "global_average_pooling2d_2 ( (None, 2048)              0         \n",
      "_________________________________________________________________\n",
      "dense_2 (Dense)              (None, 4)                 8196      \n",
      "=================================================================\n",
      "Total params: 20,869,676\n",
      "Trainable params: 20,815,148\n",
      "Non-trainable params: 54,528\n",
      "_________________________________________________________________\n"
     ]
    }
   ],
   "source": [
    "model_x.summary()"
   ]
  },
  {
   "cell_type": "code",
   "execution_count": 37,
   "metadata": {},
   "outputs": [
    {
     "name": "stdout",
     "output_type": "stream",
     "text": [
      "Epoch 1/50\n",
      "12/12 [==============================] - 40s 3s/step - loss: 2.8083 - accuracy: 0.3101 - val_loss: 12.7266 - val_accuracy: 0.2097\n",
      "Epoch 2/50\n",
      "12/12 [==============================] - 34s 3s/step - loss: 1.7392 - accuracy: 0.3156 - val_loss: 11.4170 - val_accuracy: 0.2903\n",
      "Epoch 3/50\n",
      "12/12 [==============================] - 33s 3s/step - loss: 1.6447 - accuracy: 0.3492 - val_loss: 12.2565 - val_accuracy: 0.2419\n",
      "Epoch 4/50\n",
      "12/12 [==============================] - 34s 3s/step - loss: 2.0104 - accuracy: 0.3240 - val_loss: 11.9878 - val_accuracy: 0.2581\n",
      "Epoch 5/50\n",
      "12/12 [==============================] - 33s 3s/step - loss: 1.7687 - accuracy: 0.3184 - val_loss: 11.9710 - val_accuracy: 0.2581\n",
      "Epoch 6/50\n",
      "12/12 [==============================] - 34s 3s/step - loss: 1.6263 - accuracy: 0.3743 - val_loss: 12.2397 - val_accuracy: 0.2419\n",
      "Epoch 7/50\n",
      "12/12 [==============================] - 33s 3s/step - loss: 1.5302 - accuracy: 0.4078 - val_loss: 11.4338 - val_accuracy: 0.2903\n",
      "Epoch 8/50\n",
      "12/12 [==============================] - 33s 3s/step - loss: 1.5961 - accuracy: 0.3324 - val_loss: 11.4170 - val_accuracy: 0.2903\n",
      "Epoch 9/50\n",
      "12/12 [==============================] - 33s 3s/step - loss: 1.4217 - accuracy: 0.3156 - val_loss: 12.7098 - val_accuracy: 0.2097\n",
      "Epoch 10/50\n",
      "12/12 [==============================] - 34s 3s/step - loss: 1.4994 - accuracy: 0.3073 - val_loss: 12.7937 - val_accuracy: 0.2097\n",
      "Epoch 11/50\n",
      "12/12 [==============================] - 33s 3s/step - loss: 1.4412 - accuracy: 0.3547 - val_loss: 11.3444 - val_accuracy: 0.2903\n",
      "Epoch 12/50\n",
      "12/12 [==============================] - 34s 3s/step - loss: 1.5302 - accuracy: 0.3547 - val_loss: 11.8611 - val_accuracy: 0.2581\n",
      "Epoch 13/50\n",
      "12/12 [==============================] - 33s 3s/step - loss: 1.5197 - accuracy: 0.3883 - val_loss: 10.2341 - val_accuracy: 0.2097\n",
      "Epoch 14/50\n",
      "12/12 [==============================] - 34s 3s/step - loss: 1.8191 - accuracy: 0.3771 - val_loss: 11.3666 - val_accuracy: 0.2903\n",
      "Epoch 15/50\n",
      "12/12 [==============================] - 34s 3s/step - loss: 1.7815 - accuracy: 0.3212 - val_loss: 11.9207 - val_accuracy: 0.2581\n",
      "Epoch 16/50\n",
      "12/12 [==============================] - 34s 3s/step - loss: 1.5930 - accuracy: 0.4078 - val_loss: 12.6293 - val_accuracy: 0.2097\n",
      "Epoch 17/50\n",
      "12/12 [==============================] - 33s 3s/step - loss: 1.4948 - accuracy: 0.3966 - val_loss: 10.6795 - val_accuracy: 0.2581\n",
      "Epoch 18/50\n",
      "12/12 [==============================] - 34s 3s/step - loss: 1.4509 - accuracy: 0.4106 - val_loss: 8.7776 - val_accuracy: 0.2581\n",
      "Epoch 19/50\n",
      "12/12 [==============================] - 33s 3s/step - loss: 1.3506 - accuracy: 0.4358 - val_loss: 12.3115 - val_accuracy: 0.2097\n",
      "Epoch 20/50\n",
      "12/12 [==============================] - 33s 3s/step - loss: 1.2733 - accuracy: 0.4022 - val_loss: 11.9543 - val_accuracy: 0.2581\n",
      "Epoch 21/50\n",
      "12/12 [==============================] - 33s 3s/step - loss: 1.2758 - accuracy: 0.4190 - val_loss: 8.5931 - val_accuracy: 0.2097\n",
      "Epoch 22/50\n",
      "12/12 [==============================] - 34s 3s/step - loss: 1.4400 - accuracy: 0.4162 - val_loss: 5.1561 - val_accuracy: 0.1613\n",
      "Epoch 23/50\n",
      "12/12 [==============================] - 34s 3s/step - loss: 1.3517 - accuracy: 0.4218 - val_loss: 2.6649 - val_accuracy: 0.2419\n",
      "Epoch 24/50\n",
      "12/12 [==============================] - 33s 3s/step - loss: 1.3646 - accuracy: 0.4246 - val_loss: 2.3117 - val_accuracy: 0.2419\n",
      "Epoch 25/50\n",
      "12/12 [==============================] - 34s 3s/step - loss: 1.3375 - accuracy: 0.4497 - val_loss: 1.8314 - val_accuracy: 0.2903\n",
      "Epoch 26/50\n",
      "12/12 [==============================] - 34s 3s/step - loss: 1.3926 - accuracy: 0.4832 - val_loss: 1.8994 - val_accuracy: 0.2742\n",
      "Epoch 27/50\n",
      "12/12 [==============================] - 34s 3s/step - loss: 1.2386 - accuracy: 0.4749 - val_loss: 4.4020 - val_accuracy: 0.3548\n",
      "Epoch 28/50\n",
      "12/12 [==============================] - 33s 3s/step - loss: 1.1370 - accuracy: 0.4665 - val_loss: 2.6393 - val_accuracy: 0.3226\n",
      "Epoch 29/50\n",
      "12/12 [==============================] - 34s 3s/step - loss: 1.1209 - accuracy: 0.5307 - val_loss: 1.8017 - val_accuracy: 0.3387\n",
      "Epoch 30/50\n",
      "12/12 [==============================] - 34s 3s/step - loss: 1.3188 - accuracy: 0.4441 - val_loss: 1.4745 - val_accuracy: 0.4032\n",
      "Epoch 31/50\n",
      "12/12 [==============================] - 34s 3s/step - loss: 1.1759 - accuracy: 0.4804 - val_loss: 1.2581 - val_accuracy: 0.3871\n",
      "Epoch 32/50\n",
      "12/12 [==============================] - 33s 3s/step - loss: 1.1953 - accuracy: 0.4860 - val_loss: 1.2674 - val_accuracy: 0.4516\n",
      "Epoch 33/50\n",
      "12/12 [==============================] - 34s 3s/step - loss: 1.1653 - accuracy: 0.4916 - val_loss: 1.4263 - val_accuracy: 0.4355\n",
      "Epoch 34/50\n",
      "12/12 [==============================] - 33s 3s/step - loss: 1.1110 - accuracy: 0.5475 - val_loss: 1.3746 - val_accuracy: 0.4355\n",
      "Epoch 35/50\n",
      "12/12 [==============================] - 34s 3s/step - loss: 1.0586 - accuracy: 0.5307 - val_loss: 1.4954 - val_accuracy: 0.4677\n",
      "Epoch 36/50\n",
      "12/12 [==============================] - 33s 3s/step - loss: 1.1224 - accuracy: 0.5615 - val_loss: 1.2417 - val_accuracy: 0.3710\n",
      "Epoch 37/50\n",
      "12/12 [==============================] - 34s 3s/step - loss: 1.1484 - accuracy: 0.5056 - val_loss: 1.6149 - val_accuracy: 0.4355\n",
      "Epoch 38/50\n",
      "12/12 [==============================] - 33s 3s/step - loss: 1.0901 - accuracy: 0.4944 - val_loss: 1.3526 - val_accuracy: 0.3226\n",
      "Epoch 39/50\n",
      "12/12 [==============================] - 33s 3s/step - loss: 1.0741 - accuracy: 0.5279 - val_loss: 1.4252 - val_accuracy: 0.3226\n",
      "Epoch 40/50\n",
      "12/12 [==============================] - 34s 3s/step - loss: 1.0624 - accuracy: 0.5307 - val_loss: 1.4038 - val_accuracy: 0.3548\n",
      "Epoch 41/50\n",
      "12/12 [==============================] - 34s 3s/step - loss: 1.0062 - accuracy: 0.5922 - val_loss: 2.6237 - val_accuracy: 0.3226\n",
      "Epoch 42/50\n",
      "12/12 [==============================] - 34s 3s/step - loss: 0.9996 - accuracy: 0.5922 - val_loss: 2.2776 - val_accuracy: 0.3226\n",
      "Epoch 43/50\n",
      "12/12 [==============================] - 34s 3s/step - loss: 0.9290 - accuracy: 0.5726 - val_loss: 2.5803 - val_accuracy: 0.3387\n",
      "Epoch 44/50\n",
      "12/12 [==============================] - 33s 3s/step - loss: 1.1569 - accuracy: 0.5279 - val_loss: 3.0760 - val_accuracy: 0.3710\n",
      "Epoch 45/50\n",
      "12/12 [==============================] - 33s 3s/step - loss: 1.1001 - accuracy: 0.5223 - val_loss: 4.4938 - val_accuracy: 0.3226\n",
      "Epoch 46/50\n",
      "12/12 [==============================] - 33s 3s/step - loss: 1.0545 - accuracy: 0.5782 - val_loss: 2.5267 - val_accuracy: 0.2742\n",
      "Epoch 47/50\n",
      "12/12 [==============================] - 33s 3s/step - loss: 1.0321 - accuracy: 0.5922 - val_loss: 1.4883 - val_accuracy: 0.4032\n",
      "Epoch 48/50\n",
      "12/12 [==============================] - 33s 3s/step - loss: 0.9827 - accuracy: 0.6061 - val_loss: 1.5151 - val_accuracy: 0.3710\n",
      "Epoch 49/50\n",
      "12/12 [==============================] - 34s 3s/step - loss: 0.9419 - accuracy: 0.5810 - val_loss: 1.4609 - val_accuracy: 0.4516\n",
      "Epoch 50/50\n",
      "12/12 [==============================] - 34s 3s/step - loss: 1.0133 - accuracy: 0.5670 - val_loss: 1.5945 - val_accuracy: 0.3548\n",
      "took: 28.03343819777171\n"
     ]
    }
   ],
   "source": [
    "total_epochs = 50\n",
    "start_time = time.time()\n",
    "history_x_fine = model_x.fit_generator(train_data_gen,\n",
    "                         epochs=total_epochs,\n",
    "                         steps_per_epoch=train_data_gen.__len__(),\n",
    "                         validation_data=valid_data_gen,\n",
    "                         validation_steps= valid_data_gen.__len__(),\n",
    "                        )\n",
    "duration = time.time() - start_time\n",
    "print('took: ' + str(duration/60))"
   ]
  },
  {
   "cell_type": "markdown",
   "metadata": {},
   "source": [
    "## MobileNet"
   ]
  },
  {
   "cell_type": "code",
   "execution_count": 38,
   "metadata": {},
   "outputs": [],
   "source": [
    "base_model_m = tf.keras.models.load_model('models/plant_village_MobileNetV2_trained_01.h5')"
   ]
  },
  {
   "cell_type": "code",
   "execution_count": 39,
   "metadata": {},
   "outputs": [],
   "source": [
    "base_model_m.layers[0].trainable = False"
   ]
  },
  {
   "cell_type": "code",
   "execution_count": 40,
   "metadata": {},
   "outputs": [],
   "source": [
    "global_average_layer_m = tf.keras.layers.GlobalAveragePooling2D()\n",
    "prediction_layer_m = keras.layers.Dense(len(CLASS_NAMES), activation=\"softmax\")"
   ]
  },
  {
   "cell_type": "code",
   "execution_count": 41,
   "metadata": {},
   "outputs": [],
   "source": [
    "model_m = tf.keras.Sequential([\n",
    "  base_model_m.layers[0],\n",
    "  global_average_layer_m,\n",
    "  prediction_layer_m\n",
    "])"
   ]
  },
  {
   "cell_type": "code",
   "execution_count": 42,
   "metadata": {},
   "outputs": [],
   "source": [
    "base_learning_rate = 0.003\n",
    "model_m.compile(optimize r=tf.keras.optimizers.Adam(lr=base_learning_rate),\n",
    "              loss='categorical_crossentropy',\n",
    "              metrics=['accuracy'])"
   ]
  },
  {
   "cell_type": "code",
   "execution_count": 43,
   "metadata": {},
   "outputs": [
    {
     "name": "stdout",
     "output_type": "stream",
     "text": [
      "Model: \"sequential_2\"\n",
      "_________________________________________________________________\n",
      "Layer (type)                 Output Shape              Param #   \n",
      "=================================================================\n",
      "mobilenetv2_1.00_224 (Model) (None, 7, 7, 1280)        2257984   \n",
      "_________________________________________________________________\n",
      "global_average_pooling2d_3 ( (None, 1280)              0         \n",
      "_________________________________________________________________\n",
      "dense_3 (Dense)              (None, 4)                 5124      \n",
      "=================================================================\n",
      "Total params: 2,263,108\n",
      "Trainable params: 5,124\n",
      "Non-trainable params: 2,257,984\n",
      "_________________________________________________________________\n"
     ]
    }
   ],
   "source": [
    "model_m.summary()"
   ]
  },
  {
   "cell_type": "markdown",
   "metadata": {},
   "source": [
    "### Feature Extraction"
   ]
  },
  {
   "cell_type": "code",
   "execution_count": 44,
   "metadata": {},
   "outputs": [
    {
     "name": "stdout",
     "output_type": "stream",
     "text": [
      "Epoch 1/50\n",
      "12/12 [==============================] - 40s 3s/step - loss: 1.5208 - accuracy: 0.3128 - val_loss: 2.1296 - val_accuracy: 0.2258\n",
      "Epoch 2/50\n",
      "12/12 [==============================] - 34s 3s/step - loss: 1.2534 - accuracy: 0.4721 - val_loss: 2.1740 - val_accuracy: 0.2903\n",
      "Epoch 3/50\n",
      "12/12 [==============================] - 34s 3s/step - loss: 1.2003 - accuracy: 0.4581 - val_loss: 1.7956 - val_accuracy: 0.3387\n",
      "Epoch 4/50\n",
      "12/12 [==============================] - 34s 3s/step - loss: 1.1486 - accuracy: 0.5196 - val_loss: 2.2608 - val_accuracy: 0.3065\n",
      "Epoch 5/50\n",
      "12/12 [==============================] - 34s 3s/step - loss: 1.0972 - accuracy: 0.5503 - val_loss: 2.2841 - val_accuracy: 0.3065\n",
      "Epoch 6/50\n",
      "12/12 [==============================] - 34s 3s/step - loss: 1.1647 - accuracy: 0.5196 - val_loss: 2.6835 - val_accuracy: 0.3710\n",
      "Epoch 7/50\n",
      "12/12 [==============================] - 34s 3s/step - loss: 1.2617 - accuracy: 0.4693 - val_loss: 2.4573 - val_accuracy: 0.2258\n",
      "Epoch 8/50\n",
      "12/12 [==============================] - 34s 3s/step - loss: 1.1232 - accuracy: 0.5307 - val_loss: 2.3390 - val_accuracy: 0.2581\n",
      "Epoch 9/50\n",
      "12/12 [==============================] - 34s 3s/step - loss: 1.1495 - accuracy: 0.5112 - val_loss: 2.4764 - val_accuracy: 0.2903\n",
      "Epoch 10/50\n",
      "12/12 [==============================] - 34s 3s/step - loss: 1.0803 - accuracy: 0.5670 - val_loss: 2.0847 - val_accuracy: 0.2742\n",
      "Epoch 11/50\n",
      "12/12 [==============================] - 34s 3s/step - loss: 1.1223 - accuracy: 0.5503 - val_loss: 2.3911 - val_accuracy: 0.3226\n",
      "Epoch 12/50\n",
      "12/12 [==============================] - 34s 3s/step - loss: 1.0510 - accuracy: 0.5559 - val_loss: 2.1411 - val_accuracy: 0.3387\n",
      "Epoch 13/50\n",
      "12/12 [==============================] - 34s 3s/step - loss: 1.0575 - accuracy: 0.5642 - val_loss: 2.1645 - val_accuracy: 0.2419\n",
      "Epoch 14/50\n",
      "12/12 [==============================] - 34s 3s/step - loss: 0.9569 - accuracy: 0.5838 - val_loss: 1.8811 - val_accuracy: 0.2903\n",
      "Epoch 15/50\n",
      "12/12 [==============================] - 33s 3s/step - loss: 0.9798 - accuracy: 0.5698 - val_loss: 2.1680 - val_accuracy: 0.2903\n",
      "Epoch 16/50\n",
      "12/12 [==============================] - 34s 3s/step - loss: 0.9992 - accuracy: 0.5810 - val_loss: 2.3885 - val_accuracy: 0.2419\n",
      "Epoch 17/50\n",
      "12/12 [==============================] - 35s 3s/step - loss: 0.9567 - accuracy: 0.5838 - val_loss: 2.1543 - val_accuracy: 0.2581\n",
      "Epoch 18/50\n",
      "12/12 [==============================] - 34s 3s/step - loss: 0.9022 - accuracy: 0.6285 - val_loss: 2.2398 - val_accuracy: 0.3065\n",
      "Epoch 19/50\n",
      "12/12 [==============================] - 34s 3s/step - loss: 0.9341 - accuracy: 0.6089 - val_loss: 2.2072 - val_accuracy: 0.2742\n",
      "Epoch 20/50\n",
      "12/12 [==============================] - 33s 3s/step - loss: 1.0016 - accuracy: 0.5531 - val_loss: 1.8203 - val_accuracy: 0.3226\n",
      "Epoch 21/50\n",
      "12/12 [==============================] - 34s 3s/step - loss: 1.0020 - accuracy: 0.5698 - val_loss: 2.1712 - val_accuracy: 0.3226\n",
      "Epoch 22/50\n",
      "12/12 [==============================] - 34s 3s/step - loss: 0.9200 - accuracy: 0.5782 - val_loss: 2.2454 - val_accuracy: 0.2742\n",
      "Epoch 23/50\n",
      "12/12 [==============================] - 35s 3s/step - loss: 1.0110 - accuracy: 0.5642 - val_loss: 2.0423 - val_accuracy: 0.3226\n",
      "Epoch 24/50\n",
      "12/12 [==============================] - 34s 3s/step - loss: 1.0398 - accuracy: 0.5559 - val_loss: 2.6896 - val_accuracy: 0.3065\n",
      "Epoch 25/50\n",
      "12/12 [==============================] - 34s 3s/step - loss: 1.0230 - accuracy: 0.6006 - val_loss: 2.1821 - val_accuracy: 0.2742\n",
      "Epoch 26/50\n",
      "12/12 [==============================] - 34s 3s/step - loss: 1.0706 - accuracy: 0.5559 - val_loss: 2.1196 - val_accuracy: 0.3387\n",
      "Epoch 27/50\n",
      "12/12 [==============================] - 33s 3s/step - loss: 0.9959 - accuracy: 0.5726 - val_loss: 2.7728 - val_accuracy: 0.2258\n",
      "Epoch 28/50\n",
      "12/12 [==============================] - 34s 3s/step - loss: 1.0170 - accuracy: 0.5866 - val_loss: 2.1027 - val_accuracy: 0.2419\n",
      "Epoch 29/50\n",
      "12/12 [==============================] - 34s 3s/step - loss: 0.9820 - accuracy: 0.6006 - val_loss: 2.1768 - val_accuracy: 0.2903\n",
      "Epoch 30/50\n",
      "12/12 [==============================] - 34s 3s/step - loss: 0.8892 - accuracy: 0.6061 - val_loss: 2.5536 - val_accuracy: 0.2903\n",
      "Epoch 31/50\n",
      "12/12 [==============================] - 34s 3s/step - loss: 0.9627 - accuracy: 0.5978 - val_loss: 2.4351 - val_accuracy: 0.2581\n",
      "Epoch 32/50\n",
      "12/12 [==============================] - 34s 3s/step - loss: 0.9202 - accuracy: 0.6341 - val_loss: 2.3742 - val_accuracy: 0.3226\n",
      "Epoch 33/50\n",
      "12/12 [==============================] - 34s 3s/step - loss: 1.0832 - accuracy: 0.5866 - val_loss: 1.9713 - val_accuracy: 0.3226\n",
      "Epoch 34/50\n",
      "12/12 [==============================] - 34s 3s/step - loss: 1.1638 - accuracy: 0.5754 - val_loss: 2.6283 - val_accuracy: 0.2258\n",
      "Epoch 35/50\n",
      "12/12 [==============================] - 34s 3s/step - loss: 0.9737 - accuracy: 0.6061 - val_loss: 2.7799 - val_accuracy: 0.2581\n",
      "Epoch 36/50\n",
      "12/12 [==============================] - 33s 3s/step - loss: 0.9397 - accuracy: 0.6285 - val_loss: 2.2730 - val_accuracy: 0.3065\n",
      "Epoch 37/50\n",
      "12/12 [==============================] - 34s 3s/step - loss: 0.9608 - accuracy: 0.6285 - val_loss: 2.4165 - val_accuracy: 0.3710\n",
      "Epoch 38/50\n",
      "12/12 [==============================] - 34s 3s/step - loss: 0.9803 - accuracy: 0.5754 - val_loss: 2.2812 - val_accuracy: 0.3065\n",
      "Epoch 39/50\n",
      "12/12 [==============================] - 33s 3s/step - loss: 0.9420 - accuracy: 0.6089 - val_loss: 2.8686 - val_accuracy: 0.1935\n",
      "Epoch 40/50\n",
      "12/12 [==============================] - 34s 3s/step - loss: 0.8610 - accuracy: 0.6508 - val_loss: 2.4778 - val_accuracy: 0.2097\n",
      "Epoch 41/50\n",
      "12/12 [==============================] - 34s 3s/step - loss: 0.8840 - accuracy: 0.6285 - val_loss: 2.4215 - val_accuracy: 0.2903\n",
      "Epoch 42/50\n",
      "12/12 [==============================] - 34s 3s/step - loss: 0.9531 - accuracy: 0.6089 - val_loss: 2.4336 - val_accuracy: 0.2097\n",
      "Epoch 43/50\n",
      "12/12 [==============================] - 35s 3s/step - loss: 1.0217 - accuracy: 0.5894 - val_loss: 2.5446 - val_accuracy: 0.2742\n",
      "Epoch 44/50\n",
      "12/12 [==============================] - 34s 3s/step - loss: 0.9906 - accuracy: 0.5782 - val_loss: 3.0587 - val_accuracy: 0.2258\n",
      "Epoch 45/50\n",
      "12/12 [==============================] - 33s 3s/step - loss: 1.0317 - accuracy: 0.6061 - val_loss: 1.9858 - val_accuracy: 0.3065\n",
      "Epoch 46/50\n",
      "12/12 [==============================] - 34s 3s/step - loss: 0.8515 - accuracy: 0.6313 - val_loss: 2.2921 - val_accuracy: 0.3065\n",
      "Epoch 47/50\n",
      "12/12 [==============================] - 34s 3s/step - loss: 0.8181 - accuracy: 0.6369 - val_loss: 2.0110 - val_accuracy: 0.3548\n",
      "Epoch 48/50\n",
      "12/12 [==============================] - 34s 3s/step - loss: 0.9263 - accuracy: 0.6480 - val_loss: 2.4470 - val_accuracy: 0.2258\n",
      "Epoch 49/50\n",
      "12/12 [==============================] - 34s 3s/step - loss: 0.8736 - accuracy: 0.6285 - val_loss: 2.2491 - val_accuracy: 0.3065\n",
      "Epoch 50/50\n",
      "12/12 [==============================] - 34s 3s/step - loss: 0.8559 - accuracy: 0.6536 - val_loss: 2.3248 - val_accuracy: 0.2742\n",
      "took: 28.417397900422415\n"
     ]
    }
   ],
   "source": [
    "total_epochs = 50\n",
    "start_time = time.time()\n",
    "history_m = model_m.fit_generator(train_data_gen,\n",
    "                         epochs=total_epochs,\n",
    "                         steps_per_epoch=train_data_gen.__len__(),\n",
    "                         validation_data=valid_data_gen,\n",
    "                         validation_steps= valid_data_gen.__len__(),\n",
    "                        )\n",
    "duration = time.time() - start_time\n",
    "print('took: ' + str(duration/60))"
   ]
  },
  {
   "cell_type": "markdown",
   "metadata": {},
   "source": [
    "### Fine tune"
   ]
  },
  {
   "cell_type": "code",
   "execution_count": null,
   "metadata": {},
   "outputs": [],
   "source": [
    "base_model_m = tf.keras.models.load_model('models/plant_village_MobileNetV2_trained_01.h5')"
   ]
  },
  {
   "cell_type": "code",
   "execution_count": null,
   "metadata": {},
   "outputs": [],
   "source": [
    "for i, layer in enumerate(base_model_m.layers[0].layers):\n",
    "    print(i, layer.name)"
   ]
  },
  {
   "cell_type": "code",
   "execution_count": null,
   "metadata": {},
   "outputs": [],
   "source": [
    "for layer in base_model_m.layers[0].layers[:125]:\n",
    "    layer.traianble = False\n",
    "for layer in base_model_m.layers[0].layers[126:]:\n",
    "    layer.traianble = True"
   ]
  },
  {
   "cell_type": "code",
   "execution_count": null,
   "metadata": {},
   "outputs": [],
   "source": [
    "global_average_layer_m = tf.keras.layers.GlobalAveragePooling2D()\n",
    "prediction_layer_m = keras.layers.Dense(len(CLASS_NAMES), activation=\"softmax\")\n",
    "model_m = tf.keras.Sequential([\n",
    "  base_model_m.layers[0],\n",
    "  global_average_layer_m,\n",
    "  prediction_layer_m\n",
    "])\n",
    "\n",
    "base_learning_rate = 0.003\n",
    "model_m.compile(optimizer=tf.keras.optimizers.Adam(lr=base_learning_rate),\n",
    "              loss='categorical_crossentropy',\n",
    "              metrics=['accuracy'])\n",
    "\n",
    "model_m.summary()"
   ]
  },
  {
   "cell_type": "code",
   "execution_count": null,
   "metadata": {},
   "outputs": [],
   "source": [
    "total_epochs = 6 0\n",
    "start_time = time.time()\n",
    "history_m = model_m.fit_generator(train_data_gen,\n",
    "                         epochs=total_epochs,\n",
    "                         steps_per_epoch=train_data_gen.__len__(),\n",
    "                         validation_data=valid_data_gen,\n",
    "                         validation_steps= valid_data_gen.__len__(),\n",
    "                        )\n",
    "duration = time.time() - start_time\n",
    "print('took: ' + str(duration/60))"
   ]
  },
  {
   "cell_type": "markdown",
   "metadata": {},
   "source": [
    "## ResNet"
   ]
  },
  {
   "cell_type": "code",
   "execution_count": 51,
   "metadata": {},
   "outputs": [],
   "source": [
    "base_model_r = tf.keras.models.load_model('models/plant_village_ResNet50_trained_01.h5')\n",
    "base_model_r.layers[0].trainable = False"
   ]
  },
  {
   "cell_type": "code",
   "execution_count": 52,
   "metadata": {},
   "outputs": [],
   "source": [
    "global_average_layer_r = tf.keras.layers.GlobalAveragePooling2D()\n",
    "prediction_layer_r = keras.layers.Dense(len(CLASS_NAMES), activation=\"softmax\")\n",
    "model_r = tf.keras.Sequential([\n",
    "  base_model_r.layers[0],\n",
    "  global_average_layer_r,\n",
    "  prediction_layer_r\n",
    "])\n"
   ]
  },
  {
   "cell_type": "code",
   "execution_count": 54,
   "metadata": {},
   "outputs": [],
   "source": [
    "base_learning_rate = 0.003\n",
    "model_r.compile(optimizer=tf.keras.optimizers.Adam(lr=base_learning_rate),\n",
    "              loss='categorical_crossentropy',\n",
    "              metrics=['accuracy'])"
   ]
  },
  {
   "cell_type": "code",
   "execution_count": 55,
   "metadata": {},
   "outputs": [
    {
     "name": "stdout",
     "output_type": "stream",
     "text": [
      "Model: \"sequential_4\"\n",
      "_________________________________________________________________\n",
      "Layer (type)                 Output Shape              Param #   \n",
      "=================================================================\n",
      "resnet50v2 (Model)           (None, 7, 7, 2048)        23564800  \n",
      "_________________________________________________________________\n",
      "global_average_pooling2d_5 ( (None, 2048)              0         \n",
      "_________________________________________________________________\n",
      "dense_5 (Dense)              (None, 4)                 8196      \n",
      "=================================================================\n",
      "Total params: 23,572,996\n",
      "Trainable params: 8,196\n",
      "Non-trainable params: 23,564,800\n",
      "_________________________________________________________________\n"
     ]
    }
   ],
   "source": [
    "model_r.summary()"
   ]
  },
  {
   "cell_type": "markdown",
   "metadata": {},
   "source": [
    "### Feature Extraction"
   ]
  },
  {
   "cell_type": "code",
   "execution_count": 56,
   "metadata": {},
   "outputs": [
    {
     "name": "stdout",
     "output_type": "stream",
     "text": [
      "Epoch 1/50\n",
      "12/12 [==============================] - 44s 4s/step - loss: 1.6979 - accuracy: 0.3017 - val_loss: 2.0315 - val_accuracy: 0.3387\n",
      "Epoch 2/50\n",
      "12/12 [==============================] - 36s 3s/step - loss: 1.2376 - accuracy: 0.4469 - val_loss: 1.8354 - val_accuracy: 0.3548\n",
      "Epoch 3/50\n",
      "12/12 [==============================] - 36s 3s/step - loss: 1.1601 - accuracy: 0.5363 - val_loss: 1.8970 - val_accuracy: 0.4194\n",
      "Epoch 4/50\n",
      "12/12 [==============================] - 35s 3s/step - loss: 1.1536 - accuracy: 0.5307 - val_loss: 1.7359 - val_accuracy: 0.3871\n",
      "Epoch 5/50\n",
      "12/12 [==============================] - 36s 3s/step - loss: 1.0350 - accuracy: 0.5978 - val_loss: 1.6387 - val_accuracy: 0.4194\n",
      "Epoch 6/50\n",
      "12/12 [==============================] - 36s 3s/step - loss: 1.0959 - accuracy: 0.5419 - val_loss: 1.8519 - val_accuracy: 0.4516\n",
      "Epoch 7/50\n",
      "12/12 [==============================] - 36s 3s/step - loss: 1.1152 - accuracy: 0.5670 - val_loss: 1.5666 - val_accuracy: 0.5161\n",
      "Epoch 8/50\n",
      "12/12 [==============================] - 36s 3s/step - loss: 0.9664 - accuracy: 0.6341 - val_loss: 1.8281 - val_accuracy: 0.4194\n",
      "Epoch 9/50\n",
      "12/12 [==============================] - 36s 3s/step - loss: 1.1231 - accuracy: 0.5503 - val_loss: 2.2078 - val_accuracy: 0.3710\n",
      "Epoch 10/50\n",
      "12/12 [==============================] - 36s 3s/step - loss: 0.9779 - accuracy: 0.6117 - val_loss: 2.1845 - val_accuracy: 0.4677\n",
      "Epoch 11/50\n",
      "12/12 [==============================] - 35s 3s/step - loss: 1.0053 - accuracy: 0.5866 - val_loss: 1.7593 - val_accuracy: 0.4839\n",
      "Epoch 12/50\n",
      "12/12 [==============================] - 36s 3s/step - loss: 0.9223 - accuracy: 0.6257 - val_loss: 1.5024 - val_accuracy: 0.4516\n",
      "Epoch 13/50\n",
      "12/12 [==============================] - 36s 3s/step - loss: 1.0459 - accuracy: 0.6061 - val_loss: 1.5691 - val_accuracy: 0.4032\n",
      "Epoch 14/50\n",
      "12/12 [==============================] - 35s 3s/step - loss: 0.9662 - accuracy: 0.6006 - val_loss: 1.8312 - val_accuracy: 0.5000\n",
      "Epoch 15/50\n",
      "12/12 [==============================] - 34s 3s/step - loss: 0.8645 - accuracy: 0.6313 - val_loss: 1.6435 - val_accuracy: 0.4677\n",
      "Epoch 16/50\n",
      "12/12 [==============================] - 35s 3s/step - loss: 0.9421 - accuracy: 0.6229 - val_loss: 2.0443 - val_accuracy: 0.4194\n",
      "Epoch 17/50\n",
      "12/12 [==============================] - 35s 3s/step - loss: 0.9074 - accuracy: 0.6704 - val_loss: 1.8954 - val_accuracy: 0.4355\n",
      "Epoch 18/50\n",
      "12/12 [==============================] - 36s 3s/step - loss: 0.9565 - accuracy: 0.6061 - val_loss: 1.6697 - val_accuracy: 0.4032\n",
      "Epoch 19/50\n",
      "12/12 [==============================] - 36s 3s/step - loss: 0.9327 - accuracy: 0.6397 - val_loss: 1.7062 - val_accuracy: 0.3871\n",
      "Epoch 20/50\n",
      "12/12 [==============================] - 36s 3s/step - loss: 0.9816 - accuracy: 0.6145 - val_loss: 1.8427 - val_accuracy: 0.4355\n",
      "Epoch 21/50\n",
      "12/12 [==============================] - 36s 3s/step - loss: 0.9398 - accuracy: 0.6564 - val_loss: 2.2502 - val_accuracy: 0.4839\n",
      "Epoch 22/50\n",
      "12/12 [==============================] - 36s 3s/step - loss: 1.0223 - accuracy: 0.6173 - val_loss: 1.7989 - val_accuracy: 0.4194\n",
      "Epoch 23/50\n",
      "12/12 [==============================] - 36s 3s/step - loss: 1.0093 - accuracy: 0.6313 - val_loss: 2.0684 - val_accuracy: 0.4032\n",
      "Epoch 24/50\n",
      "12/12 [==============================] - 35s 3s/step - loss: 0.9673 - accuracy: 0.6257 - val_loss: 2.5129 - val_accuracy: 0.3710\n",
      "Epoch 25/50\n",
      "12/12 [==============================] - 36s 3s/step - loss: 0.8635 - accuracy: 0.6592 - val_loss: 2.6771 - val_accuracy: 0.3548\n",
      "Epoch 26/50\n",
      "12/12 [==============================] - 36s 3s/step - loss: 0.8865 - accuracy: 0.6620 - val_loss: 1.9420 - val_accuracy: 0.4677\n",
      "Epoch 27/50\n",
      "12/12 [==============================] - 36s 3s/step - loss: 0.8972 - accuracy: 0.6508 - val_loss: 1.6000 - val_accuracy: 0.4677\n",
      "Epoch 28/50\n",
      "12/12 [==============================] - 36s 3s/step - loss: 0.8265 - accuracy: 0.6508 - val_loss: 1.9834 - val_accuracy: 0.4355\n",
      "Epoch 29/50\n",
      "12/12 [==============================] - 35s 3s/step - loss: 1.1414 - accuracy: 0.5754 - val_loss: 1.9185 - val_accuracy: 0.3710\n",
      "Epoch 30/50\n",
      "12/12 [==============================] - 36s 3s/step - loss: 1.0195 - accuracy: 0.5782 - val_loss: 2.3718 - val_accuracy: 0.4194\n",
      "Epoch 31/50\n",
      "12/12 [==============================] - 36s 3s/step - loss: 1.0437 - accuracy: 0.6201 - val_loss: 2.4031 - val_accuracy: 0.4677\n",
      "Epoch 32/50\n",
      "12/12 [==============================] - 36s 3s/step - loss: 0.8899 - accuracy: 0.6620 - val_loss: 2.3021 - val_accuracy: 0.4194\n",
      "Epoch 33/50\n",
      "12/12 [==============================] - 36s 3s/step - loss: 0.9189 - accuracy: 0.6341 - val_loss: 2.1569 - val_accuracy: 0.3710\n",
      "Epoch 34/50\n",
      "12/12 [==============================] - 36s 3s/step - loss: 0.8386 - accuracy: 0.6425 - val_loss: 2.6148 - val_accuracy: 0.3387\n",
      "Epoch 35/50\n",
      "12/12 [==============================] - 36s 3s/step - loss: 0.9072 - accuracy: 0.6676 - val_loss: 1.9695 - val_accuracy: 0.4516\n",
      "Epoch 36/50\n",
      "12/12 [==============================] - 36s 3s/step - loss: 0.9333 - accuracy: 0.6564 - val_loss: 1.8937 - val_accuracy: 0.3871\n",
      "Epoch 37/50\n",
      "12/12 [==============================] - 36s 3s/step - loss: 0.9741 - accuracy: 0.6648 - val_loss: 2.1524 - val_accuracy: 0.4032\n",
      "Epoch 38/50\n",
      "12/12 [==============================] - 36s 3s/step - loss: 0.8128 - accuracy: 0.6899 - val_loss: 2.4341 - val_accuracy: 0.4355\n",
      "Epoch 39/50\n",
      "12/12 [==============================] - 36s 3s/step - loss: 0.8717 - accuracy: 0.6788 - val_loss: 1.9993 - val_accuracy: 0.4194\n",
      "Epoch 40/50\n",
      "12/12 [==============================] - 36s 3s/step - loss: 0.7642 - accuracy: 0.7095 - val_loss: 2.1956 - val_accuracy: 0.4516\n",
      "Epoch 41/50\n",
      "12/12 [==============================] - 36s 3s/step - loss: 0.8016 - accuracy: 0.6927 - val_loss: 2.1241 - val_accuracy: 0.4677\n",
      "Epoch 42/50\n",
      "12/12 [==============================] - 35s 3s/step - loss: 0.7650 - accuracy: 0.6844 - val_loss: 1.9580 - val_accuracy: 0.3871\n",
      "Epoch 43/50\n",
      "12/12 [==============================] - 35s 3s/step - loss: 0.9389 - accuracy: 0.6648 - val_loss: 1.9881 - val_accuracy: 0.4032\n",
      "Epoch 44/50\n",
      "12/12 [==============================] - 36s 3s/step - loss: 0.7397 - accuracy: 0.6983 - val_loss: 1.8683 - val_accuracy: 0.3710\n",
      "Epoch 45/50\n",
      "12/12 [==============================] - 35s 3s/step - loss: 0.8336 - accuracy: 0.6983 - val_loss: 2.0301 - val_accuracy: 0.4032\n",
      "Epoch 46/50\n",
      "12/12 [==============================] - 35s 3s/step - loss: 0.7346 - accuracy: 0.7095 - val_loss: 2.1549 - val_accuracy: 0.3387\n",
      "Epoch 47/50\n",
      "12/12 [==============================] - 36s 3s/step - loss: 0.7411 - accuracy: 0.7179 - val_loss: 1.9748 - val_accuracy: 0.4032\n",
      "Epoch 48/50\n",
      "12/12 [==============================] - 36s 3s/step - loss: 0.7415 - accuracy: 0.7207 - val_loss: 2.3233 - val_accuracy: 0.4032\n",
      "Epoch 49/50\n",
      "12/12 [==============================] - 35s 3s/step - loss: 0.7892 - accuracy: 0.6983 - val_loss: 1.9170 - val_accuracy: 0.4516\n",
      "Epoch 50/50\n",
      "12/12 [==============================] - 36s 3s/step - loss: 0.7702 - accuracy: 0.6927 - val_loss: 1.7792 - val_accuracy: 0.4032\n",
      "took: 29.927619071801505\n"
     ]
    }
   ],
   "source": [
    "total_epochs = 50\n",
    "start_time = time.time()\n",
    "history_r = model_r.fit_generator(train_data_gen,\n",
    "                         epochs=total_epochs,\n",
    "                         steps_per_epoch=train_data_gen.__len__(),\n",
    "                         validation_data=valid_data_gen,\n",
    "                         validation_steps= valid_data_gen.__len__(),\n",
    "                        )\n",
    "duration = time.time() - start_time\n",
    "print('took: ' + str(duration/60))"
   ]
  },
  {
   "cell_type": "markdown",
   "metadata": {},
   "source": [
    "### Fine tune "
   ]
  },
  {
   "cell_type": "code",
   "execution_count": 57,
   "metadata": {},
   "outputs": [],
   "source": [
    "base_model_r = tf.keras.models.load_model('models/plant_village_ResNet50_trained_01.h5')\n",
    "for layer in base_model_r.layers[0].layers[:151]:\n",
    "    layer.traianble = False\n",
    "for layer in base_model_r.layers[0].layers[152:]:\n",
    "    layer.traianble = True"
   ]
  },
  {
   "cell_type": "code",
   "execution_count": 58,
   "metadata": {},
   "outputs": [],
   "source": [
    "global_average_layer_r = tf.keras.layers.GlobalAveragePooling2D()\n",
    "prediction_layer_r = keras.layers.Dense(len(CLASS_NAMES), activation=\"softmax\")\n",
    "model_r = tf.keras.Sequential([\n",
    "  base_model_r.layers[0],\n",
    "  global_average_layer_r,\n",
    "  prediction_layer_r\n",
    "])"
   ]
  },
  {
   "cell_type": "code",
   "execution_count": 59,
   "metadata": {},
   "outputs": [],
   "source": [
    "base_learning_rate = 0.003\n",
    "model_r.compile(optimizer=tf.keras.optimizers.Adam(lr=base_learning_rate),\n",
    "              loss='categorical_crossentropy',\n",
    "              metrics=['accuracy'])"
   ]
  },
  {
   "cell_type": "code",
   "execution_count": 60,
   "metadata": {},
   "outputs": [
    {
     "name": "stdout",
     "output_type": "stream",
     "text": [
      "Model: \"sequential_5\"\n",
      "_________________________________________________________________\n",
      "Layer (type)                 Output Shape              Param #   \n",
      "=================================================================\n",
      "resnet50v2 (Model)           (None, 7, 7, 2048)        23564800  \n",
      "_________________________________________________________________\n",
      "global_average_pooling2d_6 ( (None, 2048)              0         \n",
      "_________________________________________________________________\n",
      "dense_6 (Dense)              (None, 4)                 8196      \n",
      "=================================================================\n",
      "Total params: 23,572,996\n",
      "Trainable params: 23,527,556\n",
      "Non-trainable params: 45,440\n",
      "_________________________________________________________________\n"
     ]
    }
   ],
   "source": [
    "model_r.summary()"
   ]
  },
  {
   "cell_type": "code",
   "execution_count": 61,
   "metadata": {},
   "outputs": [
    {
     "name": "stdout",
     "output_type": "stream",
     "text": [
      "Epoch 1/50\n",
      "12/12 [==============================] - 49s 4s/step - loss: 2.3721 - accuracy: 0.2821 - val_loss: 11.9543 - val_accuracy: 0.2581\n",
      "Epoch 2/50\n",
      "12/12 [==============================] - 37s 3s/step - loss: 1.6598 - accuracy: 0.3603 - val_loss: 11.9710 - val_accuracy: 0.2581\n",
      "Epoch 3/50\n",
      "12/12 [==============================] - 39s 3s/step - loss: 1.4321 - accuracy: 0.3743 - val_loss: 11.9375 - val_accuracy: 0.2581\n",
      "Epoch 4/50\n",
      "12/12 [==============================] - 39s 3s/step - loss: 1.3195 - accuracy: 0.4078 - val_loss: 12.7266 - val_accuracy: 0.2097\n",
      "Epoch 5/50\n",
      "12/12 [==============================] - 41s 3s/step - loss: 1.2645 - accuracy: 0.4218 - val_loss: 12.7434 - val_accuracy: 0.2097\n",
      "Epoch 6/50\n",
      "12/12 [==============================] - 34s 3s/step - loss: 1.3293 - accuracy: 0.4106 - val_loss: 12.3326 - val_accuracy: 0.1935\n",
      "Epoch 7/50\n",
      "12/12 [==============================] - 35s 3s/step - loss: 1.4060 - accuracy: 0.4581 - val_loss: 12.0046 - val_accuracy: 0.2581\n",
      "Epoch 8/50\n",
      "12/12 [==============================] - 36s 3s/step - loss: 1.2865 - accuracy: 0.4749 - val_loss: 11.9375 - val_accuracy: 0.2581\n",
      "Epoch 9/50\n",
      "12/12 [==============================] - 37s 3s/step - loss: 1.1947 - accuracy: 0.5112 - val_loss: 12.2158 - val_accuracy: 0.2258\n",
      "Epoch 10/50\n",
      "12/12 [==============================] - 36s 3s/step - loss: 1.2413 - accuracy: 0.4944 - val_loss: 11.9039 - val_accuracy: 0.2581\n",
      "Epoch 11/50\n",
      "12/12 [==============================] - 36s 3s/step - loss: 1.3484 - accuracy: 0.4804 - val_loss: 12.7602 - val_accuracy: 0.2097\n",
      "Epoch 12/50\n",
      "12/12 [==============================] - 38s 3s/step - loss: 1.6769 - accuracy: 0.3687 - val_loss: 12.7769 - val_accuracy: 0.2097\n",
      "Epoch 13/50\n",
      "12/12 [==============================] - 36s 3s/step - loss: 1.4421 - accuracy: 0.4358 - val_loss: 11.4002 - val_accuracy: 0.2903\n",
      "Epoch 14/50\n",
      "12/12 [==============================] - 36s 3s/step - loss: 1.3073 - accuracy: 0.4469 - val_loss: 12.7602 - val_accuracy: 0.2097\n",
      "Epoch 15/50\n",
      "12/12 [==============================] - 36s 3s/step - loss: 1.2154 - accuracy: 0.4581 - val_loss: 11.8348 - val_accuracy: 0.2581\n",
      "Epoch 16/50\n",
      "12/12 [==============================] - 37s 3s/step - loss: 1.2058 - accuracy: 0.4804 - val_loss: 10.3222 - val_accuracy: 0.2581\n",
      "Epoch 17/50\n",
      "12/12 [==============================] - 35s 3s/step - loss: 1.0806 - accuracy: 0.5112 - val_loss: 8.2773 - val_accuracy: 0.2581\n",
      "Epoch 18/50\n",
      "12/12 [==============================] - 35s 3s/step - loss: 1.0477 - accuracy: 0.5726 - val_loss: 5.5269 - val_accuracy: 0.3387\n",
      "Epoch 19/50\n",
      "12/12 [==============================] - 36s 3s/step - loss: 1.1358 - accuracy: 0.5279 - val_loss: 2.0435 - val_accuracy: 0.3548\n",
      "Epoch 20/50\n",
      "12/12 [==============================] - 36s 3s/step - loss: 1.1088 - accuracy: 0.5084 - val_loss: 2.2713 - val_accuracy: 0.3226\n",
      "Epoch 21/50\n",
      "12/12 [==============================] - 37s 3s/step - loss: 1.0911 - accuracy: 0.5447 - val_loss: 1.7926 - val_accuracy: 0.3226\n",
      "Epoch 22/50\n",
      "12/12 [==============================] - 36s 3s/step - loss: 1.1056 - accuracy: 0.5196 - val_loss: 1.8653 - val_accuracy: 0.3226\n",
      "Epoch 23/50\n",
      "12/12 [==============================] - 34s 3s/step - loss: 1.2333 - accuracy: 0.5475 - val_loss: 1.5877 - val_accuracy: 0.4516\n",
      "Epoch 24/50\n",
      "12/12 [==============================] - 35s 3s/step - loss: 1.0209 - accuracy: 0.5531 - val_loss: 1.6479 - val_accuracy: 0.2903\n",
      "Epoch 25/50\n",
      "12/12 [==============================] - 35s 3s/step - loss: 1.0456 - accuracy: 0.5140 - val_loss: 2.3327 - val_accuracy: 0.3065\n",
      "Epoch 26/50\n",
      "12/12 [==============================] - 36s 3s/step - loss: 0.9248 - accuracy: 0.5838 - val_loss: 4.2098 - val_accuracy: 0.4355\n",
      "Epoch 27/50\n",
      "12/12 [==============================] - 36s 3s/step - loss: 0.8842 - accuracy: 0.6061 - val_loss: 5.4945 - val_accuracy: 0.4194\n",
      "Epoch 28/50\n",
      "12/12 [==============================] - 36s 3s/step - loss: 0.9347 - accuracy: 0.5782 - val_loss: 1.7042 - val_accuracy: 0.2742\n",
      "Epoch 29/50\n",
      "12/12 [==============================] - 37s 3s/step - loss: 0.8554 - accuracy: 0.6341 - val_loss: 1.8499 - val_accuracy: 0.3065\n",
      "Epoch 30/50\n",
      "12/12 [==============================] - 35s 3s/step - loss: 0.9705 - accuracy: 0.6034 - val_loss: 2.0035 - val_accuracy: 0.2258\n",
      "Epoch 31/50\n",
      "12/12 [==============================] - 36s 3s/step - loss: 1.1202 - accuracy: 0.5531 - val_loss: 10.3440 - val_accuracy: 0.2581\n",
      "Epoch 32/50\n",
      "12/12 [==============================] - 35s 3s/step - loss: 0.9204 - accuracy: 0.6173 - val_loss: 1.8963 - val_accuracy: 0.3065\n",
      "Epoch 33/50\n",
      "12/12 [==============================] - 35s 3s/step - loss: 0.9835 - accuracy: 0.5419 - val_loss: 1.7397 - val_accuracy: 0.2419\n",
      "Epoch 34/50\n",
      "12/12 [==============================] - 36s 3s/step - loss: 1.0291 - accuracy: 0.5475 - val_loss: 5.9658 - val_accuracy: 0.2742\n",
      "Epoch 35/50\n",
      "12/12 [==============================] - 35s 3s/step - loss: 1.1559 - accuracy: 0.4525 - val_loss: 5.1448 - val_accuracy: 0.2742\n",
      "Epoch 36/50\n",
      "12/12 [==============================] - 36s 3s/step - loss: 0.9778 - accuracy: 0.5782 - val_loss: 4.4974 - val_accuracy: 0.3387\n",
      "Epoch 37/50\n",
      "12/12 [==============================] - 36s 3s/step - loss: 0.9676 - accuracy: 0.5726 - val_loss: 2.2484 - val_accuracy: 0.2581\n",
      "Epoch 38/50\n",
      "12/12 [==============================] - 36s 3s/step - loss: 1.0019 - accuracy: 0.5615 - val_loss: 1.8350 - val_accuracy: 0.3871\n",
      "Epoch 39/50\n",
      "12/12 [==============================] - 36s 3s/step - loss: 0.9086 - accuracy: 0.6229 - val_loss: 2.0426 - val_accuracy: 0.3226\n",
      "Epoch 40/50\n",
      "12/12 [==============================] - 36s 3s/step - loss: 0.8612 - accuracy: 0.6508 - val_loss: 3.1341 - val_accuracy: 0.3226\n",
      "Epoch 41/50\n",
      "12/12 [==============================] - 36s 3s/step - loss: 0.8795 - accuracy: 0.6369 - val_loss: 4.3716 - val_accuracy: 0.3226\n",
      "Epoch 42/50\n",
      "12/12 [==============================] - 36s 3s/step - loss: 0.9197 - accuracy: 0.6341 - val_loss: 2.4830 - val_accuracy: 0.3065\n",
      "Epoch 43/50\n",
      "12/12 [==============================] - 35s 3s/step - loss: 0.9822 - accuracy: 0.6089 - val_loss: 2.5593 - val_accuracy: 0.2903\n",
      "Epoch 44/50\n",
      "12/12 [==============================] - 36s 3s/step - loss: 1.0612 - accuracy: 0.5810 - val_loss: 2.4128 - val_accuracy: 0.2742\n",
      "Epoch 45/50\n",
      "12/12 [==============================] - 36s 3s/step - loss: 0.9614 - accuracy: 0.6285 - val_loss: 2.2300 - val_accuracy: 0.2097\n",
      "Epoch 46/50\n",
      "12/12 [==============================] - 36s 3s/step - loss: 1.0155 - accuracy: 0.5782 - val_loss: 2.1194 - val_accuracy: 0.2419\n",
      "Epoch 47/50\n",
      "12/12 [==============================] - 35s 3s/step - loss: 1.0007 - accuracy: 0.5978 - val_loss: 2.1822 - val_accuracy: 0.2419\n",
      "Epoch 48/50\n",
      "12/12 [==============================] - 36s 3s/step - loss: 0.9146 - accuracy: 0.6173 - val_loss: 5.8082 - val_accuracy: 0.3710\n",
      "Epoch 49/50\n",
      "12/12 [==============================] - 36s 3s/step - loss: 0.8592 - accuracy: 0.6257 - val_loss: 7.4389 - val_accuracy: 0.3065\n",
      "Epoch 50/50\n",
      "12/12 [==============================] - 36s 3s/step - loss: 0.9236 - accuracy: 0.6006 - val_loss: 1.6041 - val_accuracy: 0.3871\n",
      "took: 30.28025143146515\n"
     ]
    }
   ],
   "source": [
    "total_epochs = 50\n",
    "start_time = time.time()\n",
    "history_r = model_r.fit_generator(train_data_gen,\n",
    "                         epochs=total_epochs,\n",
    "                         steps_per_epoch=train_data_gen.__len__(),\n",
    "                         validation_data=valid_data_gen,\n",
    "                         validation_steps= valid_data_gen.__len__(),\n",
    "                        )\n",
    "duration = time.time() - start_time\n",
    "print('took: ' + str(duration/60))"
   ]
  },
  {
   "cell_type": "markdown",
   "metadata": {},
   "source": [
    "## VGG19"
   ]
  },
  {
   "cell_type": "code",
   "execution_count": 62,
   "metadata": {},
   "outputs": [],
   "source": [
    "base_model_v = tf.keras.models.load_model('models/plant_village_VGG19_trained_01.h5')\n",
    "base_model_v.traianble = False"
   ]
  },
  {
   "cell_type": "code",
   "execution_count": 63,
   "metadata": {},
   "outputs": [],
   "source": [
    "global_average_layer_v = tf.keras.layers.GlobalAveragePooling2D()\n",
    "prediction_layer_v = keras.layers.Dense(len(CLASS_NAMES), activation=\"softmax\")\n",
    "model_v = tf.keras.Sequential([\n",
    "  base_model_v.layers[0],\n",
    "  global_average_layer_v,\n",
    "  prediction_layer_v\n",
    "])"
   ]
  },
  {
   "cell_type": "code",
   "execution_count": 64,
   "metadata": {},
   "outputs": [],
   "source": [
    "base_learning_rate = 0.003\n",
    "model_v.compile(optimizer=tf.keras.optimizers.Adam(lr=base_learning_rate),\n",
    "              loss='categorical_crossentropy',\n",
    "              metrics=['accuracy'])"
   ]
  },
  {
   "cell_type": "code",
   "execution_count": 65,
   "metadata": {},
   "outputs": [
    {
     "name": "stdout",
     "output_type": "stream",
     "text": [
      "Model: \"sequential_5\"\n",
      "_________________________________________________________________\n",
      "Layer (type)                 Output Shape              Param #   \n",
      "=================================================================\n",
      "resnet50v2 (Model)           (None, 7, 7, 2048)        23564800  \n",
      "_________________________________________________________________\n",
      "global_average_pooling2d_6 ( (None, 2048)              0         \n",
      "_________________________________________________________________\n",
      "dense_6 (Dense)              (None, 4)                 8196      \n",
      "=================================================================\n",
      "Total params: 23,572,996\n",
      "Trainable params: 23,527,556\n",
      "Non-trainable params: 45,440\n",
      "_________________________________________________________________\n"
     ]
    }
   ],
   "source": [
    "model_r.summary()"
   ]
  },
  {
   "cell_type": "markdown",
   "metadata": {},
   "source": [
    "### Feature Extraction"
   ]
  },
  {
   "cell_type": "code",
   "execution_count": 66,
   "metadata": {},
   "outputs": [
    {
     "name": "stdout",
     "output_type": "stream",
     "text": [
      "Epoch 1/60\n",
      "12/12 [==============================] - 41s 3s/step - loss: 0.9644 - accuracy: 0.5894 - val_loss: 10.4447 - val_accuracy: 0.2258\n",
      "Epoch 2/60\n",
      "12/12 [==============================] - 36s 3s/step - loss: 0.8539 - accuracy: 0.6508 - val_loss: 8.7259 - val_accuracy: 0.1935\n",
      "Epoch 3/60\n",
      "12/12 [==============================] - 35s 3s/step - loss: 0.7430 - accuracy: 0.6927 - val_loss: 6.7838 - val_accuracy: 0.3710\n",
      "Epoch 4/60\n",
      "12/12 [==============================] - 36s 3s/step - loss: 0.7372 - accuracy: 0.6927 - val_loss: 5.5633 - val_accuracy: 0.2903\n",
      "Epoch 5/60\n",
      "12/12 [==============================] - 36s 3s/step - loss: 0.9697 - accuracy: 0.6257 - val_loss: 2.1376 - val_accuracy: 0.2742\n",
      "Epoch 6/60\n",
      "12/12 [==============================] - 37s 3s/step - loss: 0.9807 - accuracy: 0.6927 - val_loss: 1.9592 - val_accuracy: 0.3387\n",
      "Epoch 7/60\n",
      "12/12 [==============================] - 36s 3s/step - loss: 0.8196 - accuracy: 0.6732 - val_loss: 3.8492 - val_accuracy: 0.2419\n",
      "Epoch 8/60\n",
      "12/12 [==============================] - 36s 3s/step - loss: 0.9069 - accuracy: 0.6341 - val_loss: 2.2097 - val_accuracy: 0.4355\n",
      "Epoch 9/60\n",
      "12/12 [==============================] - 36s 3s/step - loss: 0.7705 - accuracy: 0.6620 - val_loss: 2.8230 - val_accuracy: 0.3871\n",
      "Epoch 10/60\n",
      "12/12 [==============================] - 36s 3s/step - loss: 0.8822 - accuracy: 0.6480 - val_loss: 2.6419 - val_accuracy: 0.2581\n",
      "Epoch 11/60\n",
      "12/12 [==============================] - 36s 3s/step - loss: 0.8555 - accuracy: 0.6536 - val_loss: 1.8313 - val_accuracy: 0.4032\n",
      "Epoch 12/60\n",
      "12/12 [==============================] - 36s 3s/step - loss: 0.8599 - accuracy: 0.6536 - val_loss: 2.1500 - val_accuracy: 0.4194\n",
      "Epoch 13/60\n",
      "12/12 [==============================] - 35s 3s/step - loss: 0.7645 - accuracy: 0.6844 - val_loss: 2.1747 - val_accuracy: 0.2903\n",
      "Epoch 14/60\n",
      "12/12 [==============================] - 36s 3s/step - loss: 0.7943 - accuracy: 0.7123 - val_loss: 1.3478 - val_accuracy: 0.4839\n",
      "Epoch 15/60\n",
      "12/12 [==============================] - 36s 3s/step - loss: 0.8154 - accuracy: 0.6480 - val_loss: 2.3832 - val_accuracy: 0.3065\n",
      "Epoch 16/60\n",
      "12/12 [==============================] - 36s 3s/step - loss: 0.7299 - accuracy: 0.6844 - val_loss: 3.6026 - val_accuracy: 0.2742\n",
      "Epoch 17/60\n",
      "12/12 [==============================] - 35s 3s/step - loss: 0.7092 - accuracy: 0.7346 - val_loss: 2.3538 - val_accuracy: 0.3871\n",
      "Epoch 18/60\n",
      "12/12 [==============================] - 36s 3s/step - loss: 0.6976 - accuracy: 0.6899 - val_loss: 3.0528 - val_accuracy: 0.4032\n",
      "Epoch 19/60\n",
      "12/12 [==============================] - 36s 3s/step - loss: 0.6481 - accuracy: 0.7346 - val_loss: 2.1717 - val_accuracy: 0.2903\n",
      "Epoch 20/60\n",
      "12/12 [==============================] - 36s 3s/step - loss: 0.7604 - accuracy: 0.7430 - val_loss: 2.0410 - val_accuracy: 0.3387\n",
      "Epoch 21/60\n",
      "12/12 [==============================] - 36s 3s/step - loss: 0.5790 - accuracy: 0.7402 - val_loss: 2.1843 - val_accuracy: 0.2742\n",
      "Epoch 22/60\n",
      "12/12 [==============================] - 36s 3s/step - loss: 0.6004 - accuracy: 0.7737 - val_loss: 4.3371 - val_accuracy: 0.2419\n",
      "Epoch 23/60\n",
      "12/12 [==============================] - 36s 3s/step - loss: 0.6105 - accuracy: 0.7542 - val_loss: 2.7987 - val_accuracy: 0.3548\n",
      "Epoch 24/60\n",
      "12/12 [==============================] - 36s 3s/step - loss: 0.9536 - accuracy: 0.6648 - val_loss: 2.1784 - val_accuracy: 0.3548\n",
      "Epoch 25/60\n",
      "12/12 [==============================] - 35s 3s/step - loss: 0.7409 - accuracy: 0.7123 - val_loss: 1.2585 - val_accuracy: 0.4839\n",
      "Epoch 26/60\n",
      "12/12 [==============================] - 36s 3s/step - loss: 0.6594 - accuracy: 0.7682 - val_loss: 1.7115 - val_accuracy: 0.5161\n",
      "Epoch 27/60\n",
      "12/12 [==============================] - 36s 3s/step - loss: 0.6151 - accuracy: 0.7514 - val_loss: 2.1654 - val_accuracy: 0.3871\n",
      "Epoch 28/60\n",
      "12/12 [==============================] - 36s 3s/step - loss: 0.6692 - accuracy: 0.7430 - val_loss: 2.0121 - val_accuracy: 0.4516\n",
      "Epoch 29/60\n",
      "12/12 [==============================] - 36s 3s/step - loss: 0.6145 - accuracy: 0.7682 - val_loss: 1.3947 - val_accuracy: 0.5161\n",
      "Epoch 30/60\n",
      "12/12 [==============================] - 36s 3s/step - loss: 0.9523 - accuracy: 0.6453 - val_loss: 1.8944 - val_accuracy: 0.4032\n",
      "Epoch 31/60\n",
      "12/12 [==============================] - 36s 3s/step - loss: 0.8268 - accuracy: 0.6508 - val_loss: 1.3681 - val_accuracy: 0.4355\n",
      "Epoch 32/60\n",
      "12/12 [==============================] - 36s 3s/step - loss: 0.7656 - accuracy: 0.6872 - val_loss: 1.4968 - val_accuracy: 0.4677\n",
      "Epoch 33/60\n",
      "12/12 [==============================] - 36s 3s/step - loss: 0.6517 - accuracy: 0.7598 - val_loss: 1.1124 - val_accuracy: 0.5323\n",
      "Epoch 34/60\n",
      "12/12 [==============================] - 36s 3s/step - loss: 0.6015 - accuracy: 0.7793 - val_loss: 1.6623 - val_accuracy: 0.5161\n",
      "Epoch 35/60\n",
      "12/12 [==============================] - 36s 3s/step - loss: 0.7176 - accuracy: 0.7151 - val_loss: 1.6654 - val_accuracy: 0.5161\n",
      "Epoch 36/60\n",
      "12/12 [==============================] - 36s 3s/step - loss: 0.6446 - accuracy: 0.7374 - val_loss: 5.0522 - val_accuracy: 0.3548\n",
      "Epoch 37/60\n",
      "12/12 [==============================] - 36s 3s/step - loss: 0.7388 - accuracy: 0.8017 - val_loss: 2.8364 - val_accuracy: 0.3226\n",
      "Epoch 38/60\n",
      "12/12 [==============================] - 35s 3s/step - loss: 0.7510 - accuracy: 0.7151 - val_loss: 3.8857 - val_accuracy: 0.5161\n",
      "Epoch 39/60\n",
      "12/12 [==============================] - 36s 3s/step - loss: 0.7278 - accuracy: 0.7430 - val_loss: 1.4694 - val_accuracy: 0.5806\n",
      "Epoch 40/60\n",
      "12/12 [==============================] - 36s 3s/step - loss: 0.6339 - accuracy: 0.7598 - val_loss: 2.4877 - val_accuracy: 0.3871\n",
      "Epoch 41/60\n",
      "12/12 [==============================] - 36s 3s/step - loss: 0.5282 - accuracy: 0.7989 - val_loss: 1.1024 - val_accuracy: 0.6290\n",
      "Epoch 42/60\n",
      "12/12 [==============================] - 36s 3s/step - loss: 0.5700 - accuracy: 0.7793 - val_loss: 1.9502 - val_accuracy: 0.4839\n",
      "Epoch 43/60\n",
      "12/12 [==============================] - 37s 3s/step - loss: 0.5047 - accuracy: 0.7961 - val_loss: 2.6412 - val_accuracy: 0.4839\n",
      "Epoch 44/60\n",
      "12/12 [==============================] - 36s 3s/step - loss: 0.6988 - accuracy: 0.7207 - val_loss: 3.3552 - val_accuracy: 0.5484\n",
      "Epoch 45/60\n",
      "12/12 [==============================] - 36s 3s/step - loss: 0.6023 - accuracy: 0.7682 - val_loss: 3.6606 - val_accuracy: 0.4516\n",
      "Epoch 46/60\n",
      "12/12 [==============================] - 35s 3s/step - loss: 0.6291 - accuracy: 0.7709 - val_loss: 6.2790 - val_accuracy: 0.4194\n",
      "Epoch 47/60\n",
      "12/12 [==============================] - 36s 3s/step - loss: 0.5121 - accuracy: 0.8128 - val_loss: 4.9037 - val_accuracy: 0.3548\n",
      "Epoch 48/60\n",
      "12/12 [==============================] - 35s 3s/step - loss: 0.5563 - accuracy: 0.7877 - val_loss: 2.0378 - val_accuracy: 0.5968\n",
      "Epoch 49/60\n",
      "12/12 [==============================] - 37s 3s/step - loss: 0.7038 - accuracy: 0.7374 - val_loss: 1.7934 - val_accuracy: 0.4839\n",
      "Epoch 50/60\n",
      "12/12 [==============================] - 36s 3s/step - loss: 0.7884 - accuracy: 0.6732 - val_loss: 8.8288 - val_accuracy: 0.1935\n",
      "Epoch 51/60\n",
      "12/12 [==============================] - 35s 3s/step - loss: 0.7096 - accuracy: 0.7346 - val_loss: 6.8365 - val_accuracy: 0.2903\n",
      "Epoch 52/60\n",
      "12/12 [==============================] - 36s 3s/step - loss: 0.8048 - accuracy: 0.7039 - val_loss: 8.7055 - val_accuracy: 0.2258\n",
      "Epoch 53/60\n",
      "12/12 [==============================] - 35s 3s/step - loss: 0.6650 - accuracy: 0.7430 - val_loss: 8.3817 - val_accuracy: 0.2581\n",
      "Epoch 54/60\n",
      "12/12 [==============================] - 35s 3s/step - loss: 0.6481 - accuracy: 0.7318 - val_loss: 5.1102 - val_accuracy: 0.3710\n",
      "Epoch 55/60\n",
      "12/12 [==============================] - 35s 3s/step - loss: 0.5617 - accuracy: 0.7821 - val_loss: 1.9769 - val_accuracy: 0.4516\n",
      "Epoch 56/60\n",
      "12/12 [==============================] - 36s 3s/step - loss: 0.5715 - accuracy: 0.7849 - val_loss: 6.1820 - val_accuracy: 0.2742\n",
      "Epoch 57/60\n",
      "12/12 [==============================] - 36s 3s/step - loss: 0.5433 - accuracy: 0.8184 - val_loss: 1.4925 - val_accuracy: 0.5000\n",
      "Epoch 58/60\n",
      "12/12 [==============================] - 36s 3s/step - loss: 0.5811 - accuracy: 0.8045 - val_loss: 5.4543 - val_accuracy: 0.2419\n",
      "Epoch 59/60\n"
     ]
    },
    {
     "name": "stdout",
     "output_type": "stream",
     "text": [
      "12/12 [==============================] - 36s 3s/step - loss: 0.5527 - accuracy: 0.7933 - val_loss: 1.2650 - val_accuracy: 0.5968\n",
      "Epoch 60/60\n",
      "12/12 [==============================] - 36s 3s/step - loss: 0.5192 - accuracy: 0.7989 - val_loss: 1.8053 - val_accuracy: 0.5484\n",
      "took: 35.99931418498357\n"
     ]
    }
   ],
   "source": [
    "total_epochs = 60\n",
    "start_time = time.time()\n",
    "history_r = model_r.fit_generator(train_data_gen,\n",
    "                         epochs=total_epochs,\n",
    "                         steps_per_epoch=train_data_gen.__len__(),\n",
    "                         validation_data=valid_data_gen,\n",
    "                         validation_steps= valid_data_gen.__len__(),\n",
    "                        )\n",
    "duration = time.time() - start_time\n",
    "print('took: ' + str(duration/60))"
   ]
  },
  {
   "cell_type": "markdown",
   "metadata": {},
   "source": [
    "### Fine tune"
   ]
  },
  {
   "cell_type": "code",
   "execution_count": 67,
   "metadata": {},
   "outputs": [],
   "source": [
    "base_model_v = tf.keras.models.load_model('models/plant_village_VGG19_trained_01.h5')\n",
    "for layer in base_model_v.layers[0].layers[:153]:\n",
    "    layer.traianble = False\n",
    "for layer in base_model_v.layers[0].layers[154:]:\n",
    "    layer.traianble = True"
   ]
  },
  {
   "cell_type": "code",
   "execution_count": 68,
   "metadata": {},
   "outputs": [],
   "source": [
    "global_average_layer_v = tf.keras.layers.GlobalAveragePooling2D()\n",
    "prediction_layer_v = keras.layers.Dense(len(CLASS_NAMES), activation=\"softmax\")\n",
    "model_v = tf.keras.Sequential([\n",
    "  base_model_v.layers[0],\n",
    "  global_average_layer_v,\n",
    "  prediction_layer_v\n",
    "])"
   ]
  },
  {
   "cell_type": "code",
   "execution_count": 69,
   "metadata": {},
   "outputs": [],
   "source": [
    "base_learning_rate = 0.003\n",
    "model_v.compile(optimizer=tf.keras.optimizers.Adam(lr=base_learning_rate),\n",
    "              loss='categorical_crossentropy',\n",
    "              metrics=['accuracy'])"
   ]
  },
  {
   "cell_type": "code",
   "execution_count": 70,
   "metadata": {},
   "outputs": [
    {
     "name": "stdout",
     "output_type": "stream",
     "text": [
      "Model: \"sequential_5\"\n",
      "_________________________________________________________________\n",
      "Layer (type)                 Output Shape              Param #   \n",
      "=================================================================\n",
      "resnet50v2 (Model)           (None, 7, 7, 2048)        23564800  \n",
      "_________________________________________________________________\n",
      "global_average_pooling2d_6 ( (None, 2048)              0         \n",
      "_________________________________________________________________\n",
      "dense_6 (Dense)              (None, 4)                 8196      \n",
      "=================================================================\n",
      "Total params: 23,572,996\n",
      "Trainable params: 23,527,556\n",
      "Non-trainable params: 45,440\n",
      "_________________________________________________________________\n"
     ]
    }
   ],
   "source": [
    "model_r.summary()"
   ]
  },
  {
   "cell_type": "code",
   "execution_count": 71,
   "metadata": {},
   "outputs": [
    {
     "name": "stdout",
     "output_type": "stream",
     "text": [
      "Epoch 1/60\n",
      "12/12 [==============================] - 40s 3s/step - loss: 0.6025 - accuracy: 0.7793 - val_loss: 3.6595 - val_accuracy: 0.3548\n",
      "Epoch 2/60\n",
      "12/12 [==============================] - 36s 3s/step - loss: 0.6479 - accuracy: 0.7849 - val_loss: 2.4003 - val_accuracy: 0.3871\n",
      "Epoch 3/60\n",
      "12/12 [==============================] - 37s 3s/step - loss: 0.5889 - accuracy: 0.7821 - val_loss: 4.2935 - val_accuracy: 0.3387\n",
      "Epoch 4/60\n",
      "12/12 [==============================] - 37s 3s/step - loss: 0.9088 - accuracy: 0.7598 - val_loss: 5.3115 - val_accuracy: 0.3548\n",
      "Epoch 5/60\n",
      "12/12 [==============================] - 35s 3s/step - loss: 0.5893 - accuracy: 0.7626 - val_loss: 2.0213 - val_accuracy: 0.4355\n",
      "Epoch 6/60\n",
      "12/12 [==============================] - 35s 3s/step - loss: 0.5488 - accuracy: 0.7933 - val_loss: 4.6207 - val_accuracy: 0.3226\n",
      "Epoch 7/60\n",
      "12/12 [==============================] - 36s 3s/step - loss: 0.7510 - accuracy: 0.7374 - val_loss: 1.0977 - val_accuracy: 0.5161\n",
      "Epoch 8/60\n",
      "12/12 [==============================] - 36s 3s/step - loss: 0.4934 - accuracy: 0.8017 - val_loss: 2.7360 - val_accuracy: 0.3387\n",
      "Epoch 9/60\n",
      "12/12 [==============================] - 36s 3s/step - loss: 0.4950 - accuracy: 0.8128 - val_loss: 1.5056 - val_accuracy: 0.5484\n",
      "Epoch 10/60\n",
      "12/12 [==============================] - 36s 3s/step - loss: 0.5056 - accuracy: 0.7821 - val_loss: 1.6322 - val_accuracy: 0.5000\n",
      "Epoch 11/60\n",
      "12/12 [==============================] - 37s 3s/step - loss: 0.4172 - accuracy: 0.8296 - val_loss: 3.4636 - val_accuracy: 0.3871\n",
      "Epoch 12/60\n",
      "12/12 [==============================] - 36s 3s/step - loss: 0.5060 - accuracy: 0.7933 - val_loss: 1.8620 - val_accuracy: 0.5000\n",
      "Epoch 13/60\n",
      "12/12 [==============================] - 36s 3s/step - loss: 1.0372 - accuracy: 0.6369 - val_loss: 10.1807 - val_accuracy: 0.1774\n",
      "Epoch 14/60\n",
      "12/12 [==============================] - 36s 3s/step - loss: 0.8354 - accuracy: 0.6872 - val_loss: 9.5467 - val_accuracy: 0.2258\n",
      "Epoch 15/60\n",
      "12/12 [==============================] - 36s 3s/step - loss: 0.8837 - accuracy: 0.6453 - val_loss: 10.4779 - val_accuracy: 0.2742\n",
      "Epoch 16/60\n",
      "12/12 [==============================] - 37s 3s/step - loss: 0.7041 - accuracy: 0.7486 - val_loss: 2.0538 - val_accuracy: 0.4032\n",
      "Epoch 17/60\n",
      "12/12 [==============================] - 36s 3s/step - loss: 0.7243 - accuracy: 0.7486 - val_loss: 3.4946 - val_accuracy: 0.2903\n",
      "Epoch 18/60\n",
      "12/12 [==============================] - 36s 3s/step - loss: 0.6539 - accuracy: 0.7598 - val_loss: 2.3838 - val_accuracy: 0.4194\n",
      "Epoch 19/60\n",
      "12/12 [==============================] - 36s 3s/step - loss: 0.6949 - accuracy: 0.7430 - val_loss: 5.9122 - val_accuracy: 0.2581\n",
      "Epoch 20/60\n",
      "12/12 [==============================] - 36s 3s/step - loss: 0.6667 - accuracy: 0.7737 - val_loss: 2.1669 - val_accuracy: 0.4355\n",
      "Epoch 21/60\n",
      "12/12 [==============================] - 36s 3s/step - loss: 0.5555 - accuracy: 0.7849 - val_loss: 3.8970 - val_accuracy: 0.4194\n",
      "Epoch 22/60\n",
      "12/12 [==============================] - 36s 3s/step - loss: 0.4890 - accuracy: 0.8101 - val_loss: 2.1849 - val_accuracy: 0.4516\n",
      "Epoch 23/60\n",
      "12/12 [==============================] - 36s 3s/step - loss: 0.5061 - accuracy: 0.8128 - val_loss: 2.0260 - val_accuracy: 0.4839\n",
      "Epoch 24/60\n",
      "12/12 [==============================] - 35s 3s/step - loss: 0.5149 - accuracy: 0.8128 - val_loss: 2.8673 - val_accuracy: 0.3871\n",
      "Epoch 25/60\n",
      "12/12 [==============================] - 36s 3s/step - loss: 0.7666 - accuracy: 0.7458 - val_loss: 2.0545 - val_accuracy: 0.3548\n",
      "Epoch 26/60\n",
      "12/12 [==============================] - 35s 3s/step - loss: 0.4893 - accuracy: 0.8101 - val_loss: 2.2359 - val_accuracy: 0.3871\n",
      "Epoch 27/60\n",
      "12/12 [==============================] - 36s 3s/step - loss: 0.6195 - accuracy: 0.7905 - val_loss: 2.3574 - val_accuracy: 0.4677\n",
      "Epoch 28/60\n",
      "12/12 [==============================] - 36s 3s/step - loss: 0.5920 - accuracy: 0.7877 - val_loss: 2.0296 - val_accuracy: 0.5000\n",
      "Epoch 29/60\n",
      "12/12 [==============================] - 36s 3s/step - loss: 0.5637 - accuracy: 0.7933 - val_loss: 1.2784 - val_accuracy: 0.5806\n",
      "Epoch 30/60\n",
      "12/12 [==============================] - 36s 3s/step - loss: 0.5167 - accuracy: 0.8352 - val_loss: 1.5795 - val_accuracy: 0.5323\n",
      "Epoch 31/60\n",
      "12/12 [==============================] - 36s 3s/step - loss: 0.5193 - accuracy: 0.8156 - val_loss: 2.5889 - val_accuracy: 0.4677\n",
      "Epoch 32/60\n",
      "12/12 [==============================] - 36s 3s/step - loss: 0.4683 - accuracy: 0.8212 - val_loss: 2.4030 - val_accuracy: 0.4194\n",
      "Epoch 33/60\n",
      "12/12 [==============================] - 36s 3s/step - loss: 0.5905 - accuracy: 0.8156 - val_loss: 1.5481 - val_accuracy: 0.5484\n",
      "Epoch 34/60\n",
      "12/12 [==============================] - 36s 3s/step - loss: 0.5331 - accuracy: 0.8212 - val_loss: 3.1939 - val_accuracy: 0.3710\n",
      "Epoch 35/60\n",
      "12/12 [==============================] - 36s 3s/step - loss: 0.5091 - accuracy: 0.8045 - val_loss: 2.3763 - val_accuracy: 0.5000\n",
      "Epoch 36/60\n",
      "12/12 [==============================] - 36s 3s/step - loss: 0.6208 - accuracy: 0.7709 - val_loss: 2.1404 - val_accuracy: 0.4516\n",
      "Epoch 37/60\n",
      "12/12 [==============================] - 36s 3s/step - loss: 0.4288 - accuracy: 0.8324 - val_loss: 1.5372 - val_accuracy: 0.5323\n",
      "Epoch 38/60\n",
      "12/12 [==============================] - 36s 3s/step - loss: 0.4962 - accuracy: 0.8073 - val_loss: 4.3555 - val_accuracy: 0.3065\n",
      "Epoch 39/60\n",
      "12/12 [==============================] - 36s 3s/step - loss: 0.5160 - accuracy: 0.7877 - val_loss: 2.2257 - val_accuracy: 0.4677\n",
      "Epoch 40/60\n",
      "12/12 [==============================] - 35s 3s/step - loss: 0.5222 - accuracy: 0.7877 - val_loss: 3.1360 - val_accuracy: 0.4032\n",
      "Epoch 41/60\n",
      "12/12 [==============================] - 36s 3s/step - loss: 0.5197 - accuracy: 0.8240 - val_loss: 1.6840 - val_accuracy: 0.5000\n",
      "Epoch 42/60\n",
      "12/12 [==============================] - 36s 3s/step - loss: 0.5680 - accuracy: 0.7961 - val_loss: 1.7345 - val_accuracy: 0.5161\n",
      "Epoch 43/60\n",
      "12/12 [==============================] - 36s 3s/step - loss: 0.4221 - accuracy: 0.8324 - val_loss: 1.4041 - val_accuracy: 0.6935\n",
      "Epoch 44/60\n",
      "12/12 [==============================] - 35s 3s/step - loss: 0.3207 - accuracy: 0.8715 - val_loss: 1.6506 - val_accuracy: 0.6452\n",
      "Epoch 45/60\n",
      "12/12 [==============================] - 36s 3s/step - loss: 0.4495 - accuracy: 0.8408 - val_loss: 1.1695 - val_accuracy: 0.6935\n",
      "Epoch 46/60\n",
      "12/12 [==============================] - 36s 3s/step - loss: 0.5632 - accuracy: 0.7849 - val_loss: 1.6102 - val_accuracy: 0.5484\n",
      "Epoch 47/60\n",
      "12/12 [==============================] - 36s 3s/step - loss: 0.4633 - accuracy: 0.8492 - val_loss: 1.2894 - val_accuracy: 0.6290\n",
      "Epoch 48/60\n",
      "12/12 [==============================] - 35s 3s/step - loss: 0.4549 - accuracy: 0.8380 - val_loss: 1.9616 - val_accuracy: 0.4516\n",
      "Epoch 49/60\n",
      "12/12 [==============================] - 36s 3s/step - loss: 0.3520 - accuracy: 0.8827 - val_loss: 3.1009 - val_accuracy: 0.3710\n",
      "Epoch 50/60\n",
      "12/12 [==============================] - 36s 3s/step - loss: 0.3546 - accuracy: 0.8771 - val_loss: 1.4708 - val_accuracy: 0.6452\n",
      "Epoch 51/60\n",
      "12/12 [==============================] - 36s 3s/step - loss: 0.2890 - accuracy: 0.8939 - val_loss: 4.0451 - val_accuracy: 0.2581\n",
      "Epoch 52/60\n",
      "12/12 [==============================] - 35s 3s/step - loss: 0.3483 - accuracy: 0.8687 - val_loss: 4.8571 - val_accuracy: 0.2903\n",
      "Epoch 53/60\n",
      "12/12 [==============================] - 36s 3s/step - loss: 0.2917 - accuracy: 0.8771 - val_loss: 3.1537 - val_accuracy: 0.4194\n",
      "Epoch 54/60\n",
      "12/12 [==============================] - 36s 3s/step - loss: 0.5016 - accuracy: 0.8324 - val_loss: 4.8759 - val_accuracy: 0.2903\n",
      "Epoch 55/60\n",
      "12/12 [==============================] - 36s 3s/step - loss: 0.5802 - accuracy: 0.8101 - val_loss: 3.8126 - val_accuracy: 0.3387\n",
      "Epoch 56/60\n",
      "12/12 [==============================] - 36s 3s/step - loss: 0.4256 - accuracy: 0.8380 - val_loss: 2.1421 - val_accuracy: 0.4516\n",
      "Epoch 57/60\n",
      "12/12 [==============================] - 36s 3s/step - loss: 0.6096 - accuracy: 0.8017 - val_loss: 3.7002 - val_accuracy: 0.3226\n",
      "Epoch 58/60\n",
      "12/12 [==============================] - 35s 3s/step - loss: 0.4299 - accuracy: 0.8603 - val_loss: 2.0031 - val_accuracy: 0.4677\n",
      "Epoch 59/60\n"
     ]
    },
    {
     "name": "stdout",
     "output_type": "stream",
     "text": [
      "12/12 [==============================] - 37s 3s/step - loss: 0.4413 - accuracy: 0.8575 - val_loss: 1.7120 - val_accuracy: 0.5645\n",
      "Epoch 60/60\n",
      "12/12 [==============================] - 36s 3s/step - loss: 0.4021 - accuracy: 0.8408 - val_loss: 1.9667 - val_accuracy: 0.4839\n",
      "took: 35.934785441557565\n"
     ]
    }
   ],
   "source": [
    "total_epochs = 60\n",
    "start_time = time.time()\n",
    "history_r = model_r.fit_generator(train_data_gen,\n",
    "                         epochs=total_epochs,\n",
    "                         steps_per_epoch=train_data_gen.__len__(),\n",
    "                         validation_data=valid_data_gen,\n",
    "                         validation_steps= valid_data_gen.__len__(),\n",
    "                        )\n",
    "duration = time.time() - start_time\n",
    "print('took: ' + str(duration/60))"
   ]
  },
  {
   "cell_type": "code",
   "execution_count": null,
   "metadata": {},
   "outputs": [],
   "source": []
  }
 ],
 "metadata": {
  "kernelspec": {
   "display_name": "Python 3",
   "language": "python",
   "name": "python3"
  },
  "language_info": {
   "codemirror_mode": {
    "name": "ipython",
    "version": 3
   },
   "file_extension": ".py",
   "mimetype": "text/x-python",
   "name": "python",
   "nbconvert_exporter": "python",
   "pygments_lexer": "ipython3",
   "version": "3.6.8"
  }
 },
 "nbformat": 4,
 "nbformat_minor": 2
}
