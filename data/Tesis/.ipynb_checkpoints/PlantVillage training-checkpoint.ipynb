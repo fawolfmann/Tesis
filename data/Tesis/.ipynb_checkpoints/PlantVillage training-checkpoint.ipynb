{
 "cells": [
  {
   "cell_type": "markdown",
   "metadata": {},
   "source": [
    "# Train full CNNs with PlantVillage Dataset"
   ]
  },
  {
   "cell_type": "markdown",
   "metadata": {},
   "source": [
    "https://github.com/spMohanty/PlantVillage-Dataset\n",
    "\n",
    "\n",
    "Agregar CAM\n",
    "https://edebrouwer.github.io/deeplearning/carvision/visualization/neural/networks/learning/2017/08/09/Deep_Visualization.html"
   ]
  },
  {
   "cell_type": "markdown",
   "metadata": {},
   "source": [
    "Will train full network MobileNetV2, Xception, Resnet50 and VGG19"
   ]
  },
  {
   "cell_type": "code",
   "execution_count": 1,
   "metadata": {},
   "outputs": [],
   "source": [
    "%matplotlib inline"
   ]
  },
  {
   "cell_type": "code",
   "execution_count": 2,
   "metadata": {
    "scrolled": true
   },
   "outputs": [
    {
     "name": "stdout",
     "output_type": "stream",
     "text": [
      "Requirement already satisfied: Pillow in /usr/local/lib/python3.6/dist-packages (6.2.1)\n",
      "\u001b[33mWARNING: You are using pip version 19.2.3, however version 19.3.1 is available.\n",
      "You should consider upgrading via the 'pip install --upgrade pip' command.\u001b[0m\n",
      "Requirement already satisfied: scipy in /usr/local/lib/python3.6/dist-packages (1.3.1)\n",
      "Requirement already satisfied: numpy>=1.13.3 in /usr/local/lib/python3.6/dist-packages (from scipy) (1.17.2)\n",
      "\u001b[33mWARNING: You are using pip version 19.2.3, however version 19.3.1 is available.\n",
      "You should consider upgrading via the 'pip install --upgrade pip' command.\u001b[0m\n"
     ]
    }
   ],
   "source": [
    "!pip install Pillow\n",
    "!pip install scipy"
   ]
  },
  {
   "cell_type": "code",
   "execution_count": 3,
   "metadata": {},
   "outputs": [
    {
     "name": "stdout",
     "output_type": "stream",
     "text": [
      "2.0.0\n"
     ]
    }
   ],
   "source": [
    "from __future__ import absolute_import, division, print_function, unicode_literals\n",
    "\n",
    "import os\n",
    "import numpy as np\n",
    "import scipy \n",
    "import pathlib\n",
    "import matplotlib.pyplot as plt\n",
    "import tensorflow as tf\n",
    "from PIL import Image\n",
    "import time\n",
    "import IPython.display as display\n",
    "\n",
    "keras = tf.keras\n",
    "print(tf.__version__)\n",
    "\n"
   ]
  },
  {
   "cell_type": "code",
   "execution_count": 4,
   "metadata": {},
   "outputs": [
    {
     "name": "stdout",
     "output_type": "stream",
     "text": [
      "Num GPUs Available:  [PhysicalDevice(name='/physical_device:GPU:0', device_type='GPU')]\n"
     ]
    }
   ],
   "source": [
    "print(\"Num GPUs Available: \", tf.config.experimental.list_physical_devices('GPU'))"
   ]
  },
  {
   "cell_type": "code",
   "execution_count": 5,
   "metadata": {},
   "outputs": [
    {
     "ename": "NameError",
     "evalue": "name 'files' is not defined",
     "output_type": "error",
     "traceback": [
      "\u001b[0;31m\u001b[0m",
      "\u001b[0;31mNameError\u001b[0mTraceback (most recent call last)",
      "\u001b[0;32m<ipython-input-5-611161084a99>\u001b[0m in \u001b[0;36m<module>\u001b[0;34m\u001b[0m\n\u001b[0;32m----> 1\u001b[0;31m \u001b[0mfiles\u001b[0m\u001b[0;34m\u001b[0m\u001b[0;34m\u001b[0m\u001b[0m\n\u001b[0m\u001b[1;32m      2\u001b[0m \u001b[0;32mfor\u001b[0m \u001b[0mw\u001b[0m \u001b[0;32min\u001b[0m \u001b[0msorted\u001b[0m\u001b[0;34m(\u001b[0m\u001b[0mfiles\u001b[0m\u001b[0;34m,\u001b[0m \u001b[0mkey\u001b[0m\u001b[0;34m=\u001b[0m\u001b[0mfiles\u001b[0m\u001b[0;34m.\u001b[0m\u001b[0mget\u001b[0m\u001b[0;34m,\u001b[0m \u001b[0mreverse\u001b[0m\u001b[0;34m=\u001b[0m\u001b[0;32mTrue\u001b[0m\u001b[0;34m)\u001b[0m\u001b[0;34m:\u001b[0m\u001b[0;34m\u001b[0m\u001b[0;34m\u001b[0m\u001b[0m\n\u001b[1;32m      3\u001b[0m     \u001b[0mprint\u001b[0m\u001b[0;34m(\u001b[0m \u001b[0mw\u001b[0m\u001b[0;34m,\u001b[0m \u001b[0mfiles\u001b[0m\u001b[0;34m[\u001b[0m\u001b[0mw\u001b[0m\u001b[0;34m]\u001b[0m \u001b[0;34m)\u001b[0m\u001b[0;34m\u001b[0m\u001b[0;34m\u001b[0m\u001b[0m\n",
      "\u001b[0;31mNameError\u001b[0m: name 'files' is not defined"
     ]
    }
   ],
   "source": [
    "files\n",
    "for w in sorted(files, key=files.get, reverse=True):\n",
    "    print( w, files[w] )"
   ]
  },
  {
   "cell_type": "markdown",
   "metadata": {},
   "source": [
    "Remove the folders with less than 1000 files, this generate unbalanced dataset, excepet for the Corn ones that will be usufull for this project"
   ]
  },
  {
   "cell_type": "markdown",
   "metadata": {},
   "source": [
    "Remove : \n",
    "- Pepper,_bell___Bacterial_spot 997\n",
    "- Tomato___Leaf_Mold 952\n",
    "- Cherry_(including_sour)___healthy 854\n",
    "- Apple___Apple_scab 630\n",
    "- Apple___Black_rot 621\n",
    "- Strawberry___healthy 456\n",
    "- Grape___healthy 423\n",
    "- Tomato___Tomato_mosaic_virus 373\n",
    "- Raspberry___healthy 371\n",
    "- Peach___healthy 360\n",
    "- Apple___Cedar_apple_rust 275\n",
    "- Potato___healthy 152"
   ]
  },
  {
   "cell_type": "markdown",
   "metadata": {},
   "source": [
    "## Data preparation"
   ]
  },
  {
   "cell_type": "code",
   "execution_count": 5,
   "metadata": {},
   "outputs": [],
   "source": [
    "data_dir = './dataset/PlantVillage/PlantVillage-Dataset/raw/color/'\n",
    "data_dir = pathlib.Path(data_dir)"
   ]
  },
  {
   "cell_type": "code",
   "execution_count": 6,
   "metadata": {},
   "outputs": [
    {
     "name": "stdout",
     "output_type": "stream",
     "text": [
      "color: -> 0\n",
      "Grape___Black_rot: -> 1180\n",
      "Tomato___Tomato_Yellow_Leaf_Curl_Virus: -> 5357\n",
      "Potato___Early_blight: -> 1000\n",
      "Tomato___Spider_mites Two-spotted_spider_mite: -> 1676\n",
      "Tomato___Target_Spot: -> 1404\n",
      "Apple___healthy: -> 1645\n",
      "Tomato___Septoria_leaf_spot: -> 1771\n",
      "Cherry_(including_sour)___Powdery_mildew: -> 1052\n",
      "Strawberry___Leaf_scorch: -> 1109\n",
      "Peach___Bacterial_spot: -> 2297\n",
      "Blueberry___healthy: -> 1502\n",
      "Corn_(maize)___Northern_Leaf_Blight: -> 985\n",
      "Grape___Leaf_blight_(Isariopsis_Leaf_Spot): -> 1076\n",
      "Tomato___Late_blight: -> 1909\n",
      "Orange___Haunglongbing_(Citrus_greening): -> 5507\n",
      "Cherry_(including_sour)___healthy: -> 854\n",
      "Tomato___Bacterial_spot: -> 2127\n",
      "Squash___Powdery_mildew: -> 1835\n",
      "Pepper,_bell___healthy: -> 1478\n",
      "Corn_(maize)___Cercospora_leaf_spot Gray_leaf_spot: -> 513\n",
      "Corn_(maize)___healthy: -> 1162\n",
      "Potato___Late_blight: -> 1000\n",
      "Tomato___healthy: -> 1591\n",
      "Soybean___healthy: -> 5090\n",
      "Tomato___Early_blight: -> 1000\n",
      "Grape___Esca_(Black_Measles): -> 1383\n",
      "Corn_(maize)___Common_rust_: -> 1192\n",
      "Total Files 48695\n"
     ]
    }
   ],
   "source": [
    "files = {}\n",
    "N = 0  # total files\n",
    "for dirpath, dirnames, filenames in os.walk(data_dir):\n",
    "    dirpath = dirpath.split(\"/\")[-1]\n",
    "    N_c = len(filenames)\n",
    "    N += N_c\n",
    "    files[dirpath] = N_c\n",
    "    print( dirpath+ \": -> \" + str(N_c))\n",
    "print( \"Total Files \" + str(N) )"
   ]
  },
  {
   "cell_type": "code",
   "execution_count": 7,
   "metadata": {},
   "outputs": [
    {
     "data": {
      "text/plain": [
       "27"
      ]
     },
     "execution_count": 7,
     "metadata": {},
     "output_type": "execute_result"
    }
   ],
   "source": [
    "CLASS_NAMES = np.array([item.name for item in data_dir.glob('*') if item.name != \"LICENSE.txt\"])\n",
    "len(CLASS_NAMES)"
   ]
  },
  {
   "cell_type": "code",
   "execution_count": 8,
   "metadata": {},
   "outputs": [],
   "source": [
    "# The 1./255 is to convert from uint8 to float32 in range [0,1].\n",
    "image_generator = tf.keras.preprocessing.image.ImageDataGenerator(rescale=1./255,\n",
    "                                                                  validation_split=0.2,\n",
    "                                                                  zoom_range=0.2,\n",
    "                                                                  horizontal_flip = True,\n",
    "                                                                  rotation_range = 20\n",
    "                                                                 )"
   ]
  },
  {
   "cell_type": "code",
   "execution_count": 9,
   "metadata": {},
   "outputs": [],
   "source": [
    "BATCH_SIZE = 16\n",
    "IMG_HEIGHT = 448\n",
    "IMG_WIDTH = 448"
   ]
  },
  {
   "cell_type": "code",
   "execution_count": 10,
   "metadata": {},
   "outputs": [
    {
     "name": "stdout",
     "output_type": "stream",
     "text": [
      "Found 38965 images belonging to 27 classes.\n"
     ]
    }
   ],
   "source": [
    "train_data_gen = image_generator.flow_from_directory(directory= str(data_dir),\n",
    "                                                     batch_size= BATCH_SIZE,\n",
    "                                                     shuffle= True,\n",
    "                                                     target_size= (IMG_HEIGHT, IMG_WIDTH),\n",
    "                                                     subset = \"training\",\n",
    "                                                     classes = list(CLASS_NAMES))"
   ]
  },
  {
   "cell_type": "code",
   "execution_count": 11,
   "metadata": {},
   "outputs": [],
   "source": [
    "image_count = train_data_gen.__len__()\n",
    "STEPS_PER_EPOCH = np.ceil((image_count*0.9)/BATCH_SIZE)\n",
    "int(STEPS_PER_EPOCH)\n",
    "IMG_SHAPE = (IMG_HEIGHT, IMG_WIDTH, 3)"
   ]
  },
  {
   "cell_type": "code",
   "execution_count": 12,
   "metadata": {},
   "outputs": [
    {
     "name": "stdout",
     "output_type": "stream",
     "text": [
      "Found 9730 images belonging to 27 classes.\n"
     ]
    }
   ],
   "source": [
    "valid_data_gen = image_generator.flow_from_directory(directory= str(data_dir),\n",
    "                                                     batch_size= BATCH_SIZE,\n",
    "                                                     shuffle= True,\n",
    "                                                     target_size= (IMG_HEIGHT, IMG_WIDTH),\n",
    "                                                     subset = \"validation\",\n",
    "                                                     classes = list(CLASS_NAMES))"
   ]
  },
  {
   "cell_type": "code",
   "execution_count": 13,
   "metadata": {},
   "outputs": [
    {
     "data": {
      "text/plain": [
       "2436"
      ]
     },
     "execution_count": 13,
     "metadata": {},
     "output_type": "execute_result"
    }
   ],
   "source": [
    "valid_data_gen.__len__()\n",
    "train_data_gen.__len__()"
   ]
  },
  {
   "cell_type": "code",
   "execution_count": 14,
   "metadata": {},
   "outputs": [],
   "source": [
    "sample_training_images, _ = next(train_data_gen)"
   ]
  },
  {
   "cell_type": "code",
   "execution_count": null,
   "metadata": {},
   "outputs": [],
   "source": [
    "def plotImages(images_arr):\n",
    "    fig, axes = plt.subplots(1, 5, figsize=(20,20))\n",
    "    axes = axes.flatten()\n",
    "    for img, ax in zip( images_arr, axes):\n",
    "        ax.imshow(img)\n",
    "        ax.axis('off')\n",
    "    plt.tight_layout()\n",
    "    plt.show()"
   ]
  },
  {
   "cell_type": "code",
   "execution_count": null,
   "metadata": {},
   "outputs": [],
   "source": [
    "plotImages(sample_training_images[:5])"
   ]
  },
  {
   "cell_type": "markdown",
   "metadata": {},
   "source": [
    "## Callbacks"
   ]
  },
  {
   "cell_type": "code",
   "execution_count": 41,
   "metadata": {},
   "outputs": [],
   "source": [
    "reduce_lr = tf.keras.callbacks.ReduceLROnPlateau(monitor='val_loss', factor=0.2,\n",
    "                              patience=2, min_lr=0.0001)\n",
    "early = tf.keras.callbacks.EarlyStopping(monitor='val_loss', patience=3, min_delta=0.05)\n",
    "\n",
    "filepathM = \"models/plant_village_MobileNetV2.{epoch:02d}-{val_accuracy:.2f}.h5\"\n",
    "checkpoint = tf.keras.callbacks.ModelCheckpoint(filepath = filepathM, \n",
    "                                                          save_best_only=True , monitor='val_accuracy', mode='max')"
   ]
  },
  {
   "cell_type": "markdown",
   "metadata": {},
   "source": [
    "## Train full CNNs "
   ]
  },
  {
   "cell_type": "markdown",
   "metadata": {},
   "source": [
    "### MobileNetV2 "
   ]
  },
  {
   "cell_type": "code",
   "execution_count": 45,
   "metadata": {},
   "outputs": [],
   "source": [
    "IMG_SHAPE = (IMG_HEIGHT, IMG_WIDTH, 3)\n",
    "base_model_1 = tf.keras.applications.mobilenet_v2.MobileNetV2(input_shape=IMG_SHAPE,\n",
    "                                                            include_top=False,\n",
    "                                                            weights=None)"
   ]
  },
  {
   "cell_type": "code",
   "execution_count": 46,
   "metadata": {},
   "outputs": [],
   "source": [
    "global_average_layer_1 = tf.keras.layers.GlobalAveragePooling2D()\n",
    "prediction_layer_1 = keras.layers.Dense(len(CLASS_NAMES), activation=\"softmax\")"
   ]
  },
  {
   "cell_type": "code",
   "execution_count": 47,
   "metadata": {},
   "outputs": [],
   "source": [
    "model_1 = tf.keras.Sequential([\n",
    "  base_model_1,\n",
    "  global_average_layer_1,\n",
    "  prediction_layer_1\n",
    "])"
   ]
  },
  {
   "cell_type": "code",
   "execution_count": 48,
   "metadata": {},
   "outputs": [],
   "source": [
    "base_learning_rate = 0.001\n",
    "model_1.compile(optimizer=tf.keras.optimizers.RMSprop(lr=base_learning_rate),\n",
    "              loss='categorical_crossentropy',\n",
    "              metrics=['accuracy'])"
   ]
  },
  {
   "cell_type": "code",
   "execution_count": 49,
   "metadata": {},
   "outputs": [],
   "source": [
    "model_1.save_weights('models/plant_village_MobileNetV2_initial_02.h5')"
   ]
  },
  {
   "cell_type": "code",
   "execution_count": 20,
   "metadata": {},
   "outputs": [],
   "source": [
    "model.load_weights('models/plant_village_MobileNetV2_initial.h5')"
   ]
  },
  {
   "cell_type": "code",
   "execution_count": null,
   "metadata": {},
   "outputs": [
    {
     "name": "stdout",
     "output_type": "stream",
     "text": [
      "Epoch 1/30\n",
      "WARNING:tensorflow:From /usr/local/lib/python3.6/dist-packages/tensorflow_core/python/ops/math_grad.py:1394: where (from tensorflow.python.ops.array_ops) is deprecated and will be removed in a future version.\n",
      "Instructions for updating:\n",
      "Use tf.where in 2.0, which has the same broadcast rule as np.where\n",
      "1218/1218 [==============================] - 1046s 859ms/step - loss: 1.1675 - accuracy: 0.6418 - val_loss: 12.5753 - val_accuracy: 0.0238\n",
      "Epoch 2/30\n",
      "1218/1218 [==============================] - 1040s 854ms/step - loss: 0.4531 - accuracy: 0.8492 - val_loss: 14.4646 - val_accuracy: 0.0238\n",
      "Epoch 3/30\n",
      "1218/1218 [==============================] - 1036s 850ms/step - loss: 0.3017 - accuracy: 0.9007 - val_loss: 15.2897 - val_accuracy: 0.0238\n",
      "Epoch 4/30\n",
      "1218/1218 [==============================] - 1029s 845ms/step - loss: 0.2371 - accuracy: 0.9210 - val_loss: 5.2030 - val_accuracy: 0.4263\n",
      "Epoch 5/30\n",
      "1218/1218 [==============================] - 1031s 846ms/step - loss: 0.1930 - accuracy: 0.9374 - val_loss: 3.9537 - val_accuracy: 0.5704\n",
      "Epoch 6/30\n",
      "1218/1218 [==============================] - 1039s 853ms/step - loss: 0.1669 - accuracy: 0.9447 - val_loss: 6.8025 - val_accuracy: 0.4083\n",
      "Epoch 7/30\n",
      "1218/1218 [==============================] - 1033s 848ms/step - loss: 0.1459 - accuracy: 0.9522 - val_loss: 3.3667 - val_accuracy: 0.6514\n",
      "Epoch 8/30\n",
      "1218/1218 [==============================] - 1029s 845ms/step - loss: 0.1292 - accuracy: 0.9576 - val_loss: 6.4930 - val_accuracy: 0.4250\n",
      "Epoch 9/30\n",
      "1218/1218 [==============================] - 1041s 854ms/step - loss: 0.1183 - accuracy: 0.9611 - val_loss: 4.8365 - val_accuracy: 0.5004\n",
      "Epoch 10/30\n",
      "1066/1218 [=========================>....] - ETA: 1:46 - loss: 0.1081 - accuracy: 0.9648"
     ]
    }
   ],
   "source": [
    "total_epochs = 30\n",
    "start_time = time.time()\n",
    "history = model.fit_generator(train_data_gen,\n",
    "                         epochs=total_epochs,\n",
    "                         steps_per_epoch=train_data_gen.__len__(),\n",
    "                         validation_data=valid_data_gen,\n",
    "                         validation_steps= valid_data_gen.__len__(),\n",
    "                         callbacks = [early, reduce_lr, checkpoint]\n",
    "                        )\n",
    "duration = time.time() - start_time\n",
    "print('took: ' + str(duration/60))"
   ]
  },
  {
   "cell_type": "markdown",
   "metadata": {},
   "source": [
    "### Key points"
   ]
  },
  {
   "cell_type": "markdown",
   "metadata": {},
   "source": [
    "- With lr= 0.001 produce validation accuracy fluctuating https://stats.stackexchange.com/questions/255105/why-is-the-validation-accuracy-fluctuating\n",
    "\n",
    " Will use lr = 0.0003\n"
   ]
  },
  {
   "cell_type": "code",
   "execution_count": 52,
   "metadata": {},
   "outputs": [],
   "source": [
    "base_learning_rate = 0.0003\n",
    "model.compile(optimizer=tf.keras.optimizers.RMSprop(lr=base_learning_rate),\n",
    "              loss='categorical_crossentropy',\n",
    "              metrics=['accuracy'])"
   ]
  },
  {
   "cell_type": "code",
   "execution_count": 53,
   "metadata": {},
   "outputs": [],
   "source": [
    "model.load_weights('models/plant_village_MobileNetV2_initial_02.h5')"
   ]
  },
  {
   "cell_type": "code",
   "execution_count": null,
   "metadata": {},
   "outputs": [
    {
     "name": "stdout",
     "output_type": "stream",
     "text": [
      "Epoch 1/30\n",
      "1218/1218 [==============================] - 1045s 858ms/step - loss: 1.0636 - accuracy: 0.6705 - val_loss: 4.3963 - val_accuracy: 0.0472\n",
      "Epoch 2/30\n",
      "1218/1218 [==============================] - 1034s 849ms/step - loss: 0.4413 - accuracy: 0.8542 - val_loss: 5.8376 - val_accuracy: 0.0472\n",
      "Epoch 3/30\n",
      "1218/1218 [==============================] - 1030s 846ms/step - loss: 0.2803 - accuracy: 0.9062 - val_loss: 5.5560 - val_accuracy: 0.0238\n",
      "Epoch 4/30\n",
      " 702/1218 [================>.............] - ETA: 5:56 - loss: 0.1369 - accuracy: 0.9541"
     ]
    }
   ],
   "source": [
    "total_epochs = 30\n",
    "start_time = time.time()\n",
    "history = model.fit_generator(train_data_gen,\n",
    "                         epochs=total_epochs,\n",
    "                         steps_per_epoch=train_data_gen.__len__(),\n",
    "                         validation_data=valid_data_gen,\n",
    "                         validation_steps= valid_data_gen.__len__(),\n",
    "                         callbacks = [early, reduce_lr, checkpoint]\n",
    "                        )\n",
    "duration = time.time() - start_time\n",
    "print('took: ' + str(duration/60))"
   ]
  },
  {
   "cell_type": "code",
   "execution_count": 38,
   "metadata": {},
   "outputs": [],
   "source": [
    "model.save('models/plant_village_MobileNetV2_trained_02.h5')"
   ]
  },
  {
   "cell_type": "code",
   "execution_count": 39,
   "metadata": {},
   "outputs": [],
   "source": [
    "model.save_weights('models/plant_village_MobileNetV2_trained_weigths_01.h5')"
   ]
  },
  {
   "cell_type": "code",
   "execution_count": null,
   "metadata": {},
   "outputs": [],
   "source": [
    "model.evaluate(valid_data_gen , steps = valid_data_gen.__len__()-1)"
   ]
  },
  {
   "cell_type": "code",
   "execution_count": 36,
   "metadata": {},
   "outputs": [
    {
     "data": {
      "image/png": "[encoded data removed]",
      "text/plain": [
       "<Figure size 576x576 with 2 Axes>"
      ]
     },
     "metadata": {
      "needs_background": "light"
     },
     "output_type": "display_data"
    }
   ],
   "source": [
    "acc = history.history['accuracy']\n",
    "val_acc = history.history['val_accuracy']\n",
    "\n",
    "loss = history.history['loss']\n",
    "val_loss = history.history['val_loss']\n",
    "\n",
    "plt.figure(figsize=(8, 8))\n",
    "plt.subplot(2, 1, 1)\n",
    "plt.plot(acc, label='Precisión de entrenamiento')\n",
    "plt.plot(val_acc, label='Precisión de validación')\n",
    "plt.legend(loc='lower right')\n",
    "plt.ylabel('Precisión')\n",
    "plt.ylim([min(plt.ylim()),1])\n",
    "plt.title('Precisión de entrenamiento y validación')\n",
    "\n",
    "plt.subplot(2, 1, 2)\n",
    "plt.plot(loss, label='Pérdida de entrenamiento')\n",
    "plt.plot(val_loss, label='Pérdida de validación')\n",
    "plt.legend(loc='upper right')\n",
    "plt.ylabel('Entropia cruzada')\n",
    "plt.ylim([0,3])\n",
    "plt.title('Precisión de entrenamiento y validación')\n",
    "plt.xlabel('epoch')\n",
    "plt.show()"
   ]
  },
  {
   "cell_type": "markdown",
   "metadata": {},
   "source": [
    "### VGG19"
   ]
  },
  {
   "cell_type": "code",
   "execution_count": 13,
   "metadata": {},
   "outputs": [],
   "source": [
    "base_model_v = tf.keras.applications.vgg19.VGG19(input_shape=IMG_SHAPE,\n",
    "                                               include_top=False,\n",
    "                                               weights=None)\n",
    "global_average_layer_v = tf.keras.layers.GlobalAveragePooling2D()\n",
    "prediction_layer_v = keras.layers.Dense(len(CLASS_NAMES), activation=\"softmax\")"
   ]
  },
  {
   "cell_type": "code",
   "execution_count": 14,
   "metadata": {},
   "outputs": [],
   "source": [
    "model_v = tf.keras.Sequential([\n",
    "  base_model_v,\n",
    "  global_average_layer_v,\n",
    "  prediction_layer_v\n",
    "])"
   ]
  },
  {
   "cell_type": "code",
   "execution_count": 15,
   "metadata": {},
   "outputs": [],
   "source": [
    "base_learning_rate = 0.0003\n",
    "model_v.compile(optimizer=tf.keras.optimizers.RMSprop(lr=base_learning_rate),\n",
    "              loss='categorical_crossentropy',\n",
    "              metrics=['accuracy'])"
   ]
  },
  {
   "cell_type": "code",
   "execution_count": 18,
   "metadata": {},
   "outputs": [
    {
     "name": "stdout",
     "output_type": "stream",
     "text": [
      "Epoch 1/30\n",
      "WARNING:tensorflow:From /usr/local/lib/python3.6/dist-packages/tensorflow_core/python/ops/math_grad.py:1394: where (from tensorflow.python.ops.array_ops) is deprecated and will be removed in a future version.\n",
      "Instructions for updating:\n",
      "Use tf.where in 2.0, which has the same broadcast rule as np.where\n",
      "1218/1218 [==============================] - 1357s 1s/step - loss: 2.7714 - accuracy: 0.2253 - val_loss: 2.1351 - val_accuracy: 0.3765\n",
      "Epoch 2/30\n",
      "1218/1218 [==============================] - 1000s 821ms/step - loss: 1.5595 - accuracy: 0.5350 - val_loss: 0.9735 - val_accuracy: 0.6912\n",
      "Epoch 3/30\n",
      "1218/1218 [==============================] - 998s 820ms/step - loss: 0.8163 - accuracy: 0.7448 - val_loss: 1.0151 - val_accuracy: 0.7120\n",
      "Epoch 4/30\n",
      "1218/1218 [==============================] - 993s 815ms/step - loss: 0.5730 - accuracy: 0.8206 - val_loss: 0.5190 - val_accuracy: 0.8385\n",
      "Epoch 5/30\n",
      "1218/1218 [==============================] - 997s 818ms/step - loss: 0.4511 - accuracy: 0.8596 - val_loss: 0.2460 - val_accuracy: 0.9195\n",
      "Epoch 6/30\n",
      "1218/1218 [==============================] - 997s 819ms/step - loss: 0.3883 - accuracy: 0.8807 - val_loss: 0.3099 - val_accuracy: 0.9001\n",
      "Epoch 7/30\n",
      "1218/1218 [==============================] - 994s 816ms/step - loss: 0.3713 - accuracy: 0.8894 - val_loss: 0.3045 - val_accuracy: 0.9059\n",
      "Epoch 8/30\n",
      "1218/1218 [==============================] - 990s 813ms/step - loss: 0.1399 - accuracy: 0.9562 - val_loss: 0.1362 - val_accuracy: 0.9587\n",
      "Epoch 9/30\n",
      "1218/1218 [==============================] - 998s 819ms/step - loss: 0.1273 - accuracy: 0.9605 - val_loss: 0.1251 - val_accuracy: 0.9593\n",
      "Epoch 10/30\n",
      "1218/1218 [==============================] - 994s 816ms/step - loss: 0.1228 - accuracy: 0.9640 - val_loss: 0.1268 - val_accuracy: 0.9593\n",
      "Epoch 11/30\n",
      "1218/1218 [==============================] - 994s 816ms/step - loss: 0.1228 - accuracy: 0.9635 - val_loss: 0.1532 - val_accuracy: 0.9625\n",
      "Epoch 12/30\n",
      "1218/1218 [==============================] - 995s 817ms/step - loss: 0.1269 - accuracy: 0.9639 - val_loss: 0.1241 - val_accuracy: 0.9629\n",
      "Epoch 13/30\n",
      "1218/1218 [==============================] - 992s 815ms/step - loss: 0.1291 - accuracy: 0.9637 - val_loss: 0.1983 - val_accuracy: 0.9510\n",
      "Epoch 14/30\n",
      "1218/1218 [==============================] - 991s 814ms/step - loss: 0.1324 - accuracy: 0.9631 - val_loss: 0.1378 - val_accuracy: 0.9588\n",
      "Epoch 15/30\n",
      "1218/1218 [==============================] - 989s 812ms/step - loss: 0.1420 - accuracy: 0.9617 - val_loss: 0.1198 - val_accuracy: 0.9654\n",
      "Epoch 16/30\n",
      "1218/1218 [==============================] - 992s 815ms/step - loss: 0.1544 - accuracy: 0.9590 - val_loss: 0.2344 - val_accuracy: 0.9390\n",
      "Epoch 17/30\n",
      "1218/1218 [==============================] - 995s 817ms/step - loss: 0.1473 - accuracy: 0.9602 - val_loss: 0.2343 - val_accuracy: 0.9323\n",
      "Epoch 18/30\n",
      "1218/1218 [==============================] - 982s 807ms/step - loss: 0.1613 - accuracy: 0.9569 - val_loss: 0.3267 - val_accuracy: 0.9155\n",
      "Epoch 19/30\n",
      "1218/1218 [==============================] - 989s 812ms/step - loss: 0.1848 - accuracy: 0.9529 - val_loss: 0.3285 - val_accuracy: 0.9226\n",
      "Epoch 20/30\n",
      "1218/1218 [==============================] - 992s 814ms/step - loss: 0.1847 - accuracy: 0.9551 - val_loss: 0.1353 - val_accuracy: 0.9617\n",
      "Epoch 21/30\n",
      "1218/1218 [==============================] - 990s 813ms/step - loss: 0.1846 - accuracy: 0.9529 - val_loss: 0.2493 - val_accuracy: 0.9388\n",
      "took: 353.65362586975095\n"
     ]
    }
   ],
   "source": [
    "total_epochs = 30\n",
    "start_time = time.time()\n",
    "history = model_v.fit_generator(train_data_gen,\n",
    "                         epochs=total_epochs,\n",
    "                         steps_per_epoch=train_data_gen.__len__(),\n",
    "                         validation_data=valid_data_gen,\n",
    "                         validation_steps= valid_data_gen.__len__(),\n",
    "                         callbacks = [early, reduce_lr]\n",
    "                        )\n",
    "duration = time.time() - start_time\n",
    "print('took: ' + str(duration/60))"
   ]
  },
  {
   "cell_type": "code",
   "execution_count": 19,
   "metadata": {},
   "outputs": [],
   "source": [
    "model_v.save('models/plant_village_VGG19_trained_01.h5')"
   ]
  },
  {
   "cell_type": "code",
   "execution_count": 20,
   "metadata": {},
   "outputs": [
    {
     "data": {
      "image/png": "[encoded data removed]",
      "text/plain": [
       "<Figure size 576x576 with 2 Axes>"
      ]
     },
     "metadata": {
      "needs_background": "light"
     },
     "output_type": "display_data"
    }
   ],
   "source": [
    "acc = history.history['accuracy']\n",
    "val_acc = history.history['val_accuracy']\n",
    "\n",
    "loss = history.history['loss']\n",
    "val_loss = history.history['val_loss']\n",
    "\n",
    "plt.figure(figsize=(8, 8))\n",
    "plt.subplot(2, 1, 1)\n",
    "plt.plot(acc, label='Precisión de entrenamiento')\n",
    "plt.plot(val_acc, label='Precisión de validación')\n",
    "plt.legend(loc='lower right')\n",
    "plt.ylabel('Precisión')\n",
    "plt.ylim([min(plt.ylim()),1])\n",
    "plt.title('Precisión de entrenamiento y validación')\n",
    "\n",
    "plt.subplot(2, 1, 2)\n",
    "plt.plot(loss, label='Pérdida de entrenamiento')\n",
    "plt.plot(val_loss, label='Pérdida de validación')\n",
    "plt.legend(loc='upper right')\n",
    "plt.ylabel('Entropia cruzada')\n",
    "plt.ylim([0,3])\n",
    "plt.title('Precisión de entrenamiento y validación')\n",
    "plt.xlabel('epoch')\n",
    "plt.show()"
   ]
  },
  {
   "cell_type": "markdown",
   "metadata": {},
   "source": [
    "## Xception"
   ]
  },
  {
   "cell_type": "code",
   "execution_count": 22,
   "metadata": {},
   "outputs": [],
   "source": [
    "base_model_x = tf.keras.applications.xception.Xception(input_shape=IMG_SHAPE,\n",
    "                                               include_top=False,\n",
    "                                               weights=None)\n",
    "global_average_layer_x = tf.keras.layers.GlobalAveragePooling2D()\n",
    "prediction_layer_x = keras.layers.Dense(len(CLASS_NAMES), activation=\"softmax\")\n",
    "model_x = tf.keras.Sequential([\n",
    "  base_model_x,\n",
    "  global_average_layer_x,\n",
    "  prediction_layer_x\n",
    "])\n",
    "base_learning_rate = 0.0003\n",
    "model_x.compile(optimizer=tf.keras.optimizers. b(lr=base_learning_rate),\n",
    "              loss='categorical_crossentropy',\n",
    "              metrics=['accuracy'])"
   ]
  },
  {
   "cell_type": "code",
   "execution_count": 23,
   "metadata": {},
   "outputs": [
    {
     "name": "stdout",
     "output_type": "stream",
     "text": [
      "Epoch 1/30\n",
      "1218/1218 [==============================] - 1420s 1s/step - loss: 0.5964 - accuracy: 0.8102 - val_loss: 0.3875 - val_accuracy: 0.8825\n",
      "Epoch 2/30\n",
      "1218/1218 [==============================] - 1417s 1s/step - loss: 0.2163 - accuracy: 0.9292 - val_loss: 0.7472 - val_accuracy: 0.8289\n",
      "Epoch 3/30\n",
      "1218/1218 [==============================] - 1424s 1s/step - loss: 0.1481 - accuracy: 0.9506 - val_loss: 0.3921 - val_accuracy: 0.8996\n",
      "Epoch 4/30\n",
      "1218/1218 [==============================] - 1460s 1s/step - loss: 0.0577 - accuracy: 0.9815 - val_loss: 0.0492 - val_accuracy: 0.9843\n",
      "Epoch 5/30\n",
      "1218/1218 [==============================] - 1477s 1s/step - loss: 0.0419 - accuracy: 0.9862 - val_loss: 0.0809 - val_accuracy: 0.9713\n",
      "Epoch 6/30\n",
      "1218/1218 [==============================] - 1424s 1s/step - loss: 0.0381 - accuracy: 0.9876 - val_loss: 0.0447 - val_accuracy: 0.9869\n",
      "Epoch 7/30\n",
      "1218/1218 [==============================] - 1422s 1s/step - loss: 0.0349 - accuracy: 0.9885 - val_loss: 0.0422 - val_accuracy: 0.9859\n",
      "Epoch 8/30\n",
      "1218/1218 [==============================] - 1418s 1s/step - loss: 0.0280 - accuracy: 0.9906 - val_loss: 0.0600 - val_accuracy: 0.9808\n",
      "Epoch 9/30\n",
      "1218/1218 [==============================] - 1418s 1s/step - loss: 0.0269 - accuracy: 0.9913 - val_loss: 0.0433 - val_accuracy: 0.9861\n",
      "Epoch 10/30\n",
      "1218/1218 [==============================] - 1420s 1s/step - loss: 0.0255 - accuracy: 0.9916 - val_loss: 0.0422 - val_accuracy: 0.9866\n",
      "took: 238.3447382847468\n"
     ]
    }
   ],
   "source": [
    "total_epochs = 30\n",
    "start_time = time.time()\n",
    "history_x = model_x.fit_generator(train_data_gen,\n",
    "                         epochs=total_epochs,\n",
    "                         steps_per_epoch=train_data_gen.__len__(),\n",
    "                         validation_data=valid_data_gen,\n",
    "                         validation_steps= valid_data_gen.__len__(),\n",
    "                         callbacks = [early, reduce_lr]\n",
    "                        )\n",
    "duration = time.time() - start_time\n",
    "print('took: ' + str(duration/60))"
   ]
  },
  {
   "cell_type": "code",
   "execution_count": 24,
   "metadata": {},
   "outputs": [],
   "source": [
    "model_x.save('models/plant_village_Xception_trained_01.h5')"
   ]
  },
  {
   "cell_type": "code",
   "execution_count": 25,
   "metadata": {},
   "outputs": [
    {
     "data": {
      "image/png": "[encoded data removed]",
      "text/plain": [
       "<Figure size 576x576 with 2 Axes>"
      ]
     },
     "metadata": {
      "needs_background": "light"
     },
     "output_type": "display_data"
    }
   ],
   "source": [
    "acc = history_x.history['accuracy']\n",
    "val_acc = history_x.history['val_accuracy']\n",
    "\n",
    "loss = history_x.history['loss']\n",
    "val_loss = history_x.history['val_loss']\n",
    "\n",
    "plt.figure(figsize=(8, 8))\n",
    "plt.subplot(2, 1, 1)\n",
    "plt.plot(acc, label='Precisión de entrenamiento')\n",
    "plt.plot(val_acc, label='Precisión de validación')\n",
    "plt.legend(loc='lower right')\n",
    "plt.ylabel('Precisión')\n",
    "plt.ylim([min(plt.ylim()),1])\n",
    "plt.title('Precisión de entrenamiento y validación')\n",
    "\n",
    "plt.subplot(2, 1, 2)\n",
    "plt.plot(loss, label='Pérdida de entrenamiento')\n",
    "plt.plot(val_loss, label='Pérdida de validación')\n",
    "plt.legend(loc='upper right')\n",
    "plt.ylabel('Entropia cruzada')\n",
    "plt.ylim([0,3])\n",
    "plt.title('Precisión de entrenamiento y validación')\n",
    "plt.xlabel('epoch')\n",
    "plt.show()"
   ]
  },
  {
   "cell_type": "markdown",
   "metadata": {},
   "source": [
    "## ResNet50"
   ]
  },
  {
   "cell_type": "code",
   "execution_count": 32,
   "metadata": {},
   "outputs": [],
   "source": [
    "IMG_SHAPE = (IMG_HEIGHT, IMG_WIDTH, 3)\n",
    "base_model_rn = tf.keras.applications.resnet_v2.ResNet50V2(input_shape=IMG_SHAPE,\n",
    "                                               include_top=False,\n",
    "                                               weights=None)\n",
    "global_average_layer_rn = tf.keras.layers.GlobalAveragePooling2D()\n",
    "prediction_layer_rn = keras.layers.Dense(len(CLASS_NAMES), activation=\"softmax\")\n",
    "model_rn = tf.keras.Sequential([\n",
    "  base_model_rn,\n",
    "  global_average_layer_rn,\n",
    "  prediction_layer_rn\n",
    "])\n",
    "base_learning_rate = 0.0003\n",
    "model_rn.compile(optimizer=tf.keras.optimizers.RMSprop(lr=base_learning_rate),\n",
    "              loss='categorical_crossentropy',\n",
    "              metrics=['accuracy'])"
   ]
  },
  {
   "cell_type": "code",
   "execution_count": null,
   "metadata": {},
   "outputs": [
    {
     "name": "stdout",
     "output_type": "stream",
     "text": [
      "Epoch 1/30\n"
     ]
    }
   ],
   "source": [
    "total_epochs = 30\n",
    "start_time = time.time()\n",
    "history_rn = model_rn.fit_generator(train_data_gen,\n",
    "                         epochs=total_epochs,\n",
    "                         steps_per_epoch=train_data_gen.__len__(),\n",
    "                         validation_data=valid_data_gen,\n",
    "                         validation_steps= valid_data_gen.__len__(),\n",
    "                         callbacks = [early, reduce_lr]\n",
    "                        )\n",
    "duration = time.time() - start_time\n",
    "print('took: ' + str(duration/60))"
   ]
  },
  {
   "cell_type": "code",
   "execution_count": 38,
   "metadata": {},
   "outputs": [],
   "source": [
    "model_rn.save('models/plant_village_ResNet50_trained_01.h5')"
   ]
  },
  {
   "cell_type": "code",
   "execution_count": 39,
   "metadata": {},
   "outputs": [
    {
     "data": {
      "image/png": "[encoded data removed]",
      "text/plain": [
       "<Figure size 576x576 with 2 Axes>"
      ]
     },
     "metadata": {
      "needs_background": "light"
     },
     "output_type": "display_data"
    }
   ],
   "source": [
    "acc = history_rn.history['accuracy']\n",
    "val_acc = history_rn.history['val_accuracy']\n",
    "\n",
    "loss = history_rn.history['loss']\n",
    "val_loss = history_rn.history['val_loss']\n",
    "\n",
    "plt.figure(figsize=(8, 8))\n",
    "plt.subplot(2, 1, 1)\n",
    "plt.plot(acc, label='Precisión de entrenamiento')\n",
    "plt.plot(val_acc, label='Precisión de validación')\n",
    "plt.legend(loc='lower right')\n",
    "plt.ylabel('Precisión')\n",
    "plt.ylim([min(plt.ylim()),1])\n",
    "plt.title('Precisión de entrenamiento y validación')\n",
    "\n",
    "plt.subplot(2, 1, 2)\n",
    "plt.plot(loss, label='Pérdida de entrenamiento')\n",
    "plt.plot(val_loss, label='Pérdida de validación')\n",
    "plt.legend(loc='upper right')\n",
    "plt.ylabel('Entropia cruzada')\n",
    "plt.ylim([0,3])\n",
    "plt.title('Precisión de entrenamiento y validación')\n",
    "plt.xlabel('epoch')\n",
    "plt.show()"
   ]
  },
  {
   "cell_type": "code",
   "execution_count": 15,
   "metadata": {},
   "outputs": [],
   "source": [
    "reduce_lr = tf.keras.callbacks.ReduceLROnPlateau(monitor='val_loss', factor=0.2,\n",
    "                              patience=2, min_lr=0.0001)\n",
    "early = tf.keras.callbacks.EarlyStopping(monitor='val_loss', patience=3, min_delta=0.05)\n",
    "\n",
    "filepathM = \"models/plant_village_resnet_448x448.{epoch:02d}-{val_accuracy:.2f}.h5\"\n",
    "checkpoint = tf.keras.callbacks.ModelCheckpoint(filepath = filepathM, \n",
    "                                                          save_best_only=True , monitor='val_accuracy', mode='max')"
   ]
  },
  {
   "cell_type": "code",
   "execution_count": 17,
   "metadata": {},
   "outputs": [],
   "source": [
    "IMG_SHAPE = (IMG_HEIGHT, IMG_WIDTH, 3)\n",
    "base_model_rn2 = tf.keras.applications.resnet_v2.ResNet50V2(input_shape=IMG_SHAPE,\n",
    "                                               include_top=False,\n",
    "                                               weights=None)\n",
    "global_average_layer_rn2 = tf.keras.layers.GlobalAveragePooling2D()\n",
    "prediction_layer_rn2 = keras.layers.Dense(len(CLASS_NAMES), activation=\"softmax\")\n",
    "model_rn2 = tf.keras.Sequential([\n",
    "  base_model_rn2,\n",
    "  global_average_layer_rn2,\n",
    "  prediction_layer_rn2\n",
    "])\n",
    "base_learning_rate = 0.003\n",
    "model_rn2.compile(optimizer=tf.keras.optimizers.Adam(lr=base_learning_rate),\n",
    "              loss='categorical_crossentropy',\n",
    "              metrics=['accuracy'])"
   ]
  },
  {
   "cell_type": "code",
   "execution_count": null,
   "metadata": {},
   "outputs": [
    {
     "name": "stdout",
     "output_type": "stream",
     "text": [
      "Epoch 1/30\n",
      "2436/2436 [==============================] - 3489s 1s/step - loss: 1.4189 - accuracy: 0.5765 - val_loss: 2.2809 - val_accuracy: 0.5434\n",
      "Epoch 2/30\n",
      "2436/2436 [==============================] - 3342s 1s/step - loss: 0.5061 - accuracy: 0.8364 - val_loss: 1.4757 - val_accuracy: 0.6319\n",
      "Epoch 3/30\n",
      "2436/2436 [==============================] - 3355s 1s/step - loss: 0.3121 - accuracy: 0.8971 - val_loss: 0.5054 - val_accuracy: 0.8343\n",
      "Epoch 4/30\n",
      "2435/2436 [============================>.] - ETA: 1s - loss: 0.2240 - accuracy: 0.9263"
     ]
    }
   ],
   "source": [
    "total_epochs = 30\n",
    "start_time = time.time()\n",
    "history_rn2 = model_rn2.fit_generator(train_data_gen,\n",
    "                         epochs=total_epochs,\n",
    "                         steps_per_epoch=train_data_gen.__len__(),\n",
    "                         validation_data=valid_data_gen,\n",
    "                         validation_steps= valid_data_gen.__len__(),\n",
    "                         callbacks = [early, reduce_lr, checkpoint]\n",
    "                        )\n",
    "duration = time.time() - start_time\n",
    "print('took: ' + str(duration/60))"
   ]
  },
  {
   "cell_type": "markdown",
   "metadata": {},
   "source": [
    "# Train from Imagenet"
   ]
  },
  {
   "cell_type": "code",
   "execution_count": 13,
   "metadata": {},
   "outputs": [
    {
     "name": "stdout",
     "output_type": "stream",
     "text": [
      "Downloading data from https://github.com/fchollet/deep-learning-models/releases/download/v0.4/xception_weights_tf_dim_ordering_tf_kernels_notop.h5\n",
      "83689472/83683744 [==============================] - 22s 0us/step\n"
     ]
    }
   ],
   "source": [
    "base_model_x = tf.keras.applications.xception.Xception(input_shape=IMG_SHAPE,\n",
    "                                               include_top=False,\n",
    "                                               weights=\"imagenet\")\n",
    "global_average_layer_x = tf.keras.layers.GlobalAveragePooling2D()\n",
    "prediction_layer_x = keras.layers.Dense(len(CLASS_NAMES), activation=\"softmax\")\n",
    "model_x = tf.keras.Sequential([\n",
    "  base_model_x,\n",
    "  global_average_layer_x,\n",
    "  prediction_layer_x\n",
    "])\n",
    "\n",
    "for layer in base_model_x.layers:\n",
    "    layer.trainable = False\n",
    "    \n"
   ]
  },
  {
   "cell_type": "code",
   "execution_count": 18,
   "metadata": {},
   "outputs": [],
   "source": [
    "fine_tune_at = 80\n",
    "base_model_x.trainable = True\n",
    "# Freeze all the layers before the `fine_tune_at` layer\n",
    "for layer in base_model_x.layers[:fine_tune_at]:\n",
    "    layer.trainable =  False"
   ]
  },
  {
   "cell_type": "code",
   "execution_count": 20,
   "metadata": {},
   "outputs": [],
   "source": [
    "base_learning_rate = 0.003\n",
    "optimizer = tf.keras.optimizers.Adam(lr=base_learning_rate)\n",
    "optimizer1 = tf.keras.optimizers.SGD(lr=0.2, momentum=0.9, decay=0.01)\n",
    "model_x.compile(optimizer= optimizer,\n",
    "              loss='categorical_crossentropy',\n",
    "              metrics=['accuracy'])"
   ]
  },
  {
   "cell_type": "code",
   "execution_count": 21,
   "metadata": {},
   "outputs": [
    {
     "name": "stdout",
     "output_type": "stream",
     "text": [
      "Model: \"sequential\"\n",
      "_________________________________________________________________\n",
      "Layer (type)                 Output Shape              Param #   \n",
      "=================================================================\n",
      "xception (Model)             (None, 7, 7, 2048)        20861480  \n",
      "_________________________________________________________________\n",
      "global_average_pooling2d (Gl (None, 2048)              0         \n",
      "_________________________________________________________________\n",
      "dense (Dense)                (None, 27)                55323     \n",
      "=================================================================\n",
      "Total params: 20,916,803\n",
      "Trainable params: 12,761,619\n",
      "Non-trainable params: 8,155,184\n",
      "_________________________________________________________________\n"
     ]
    }
   ],
   "source": [
    "model_x.summary()"
   ]
  },
  {
   "cell_type": "code",
   "execution_count": 14,
   "metadata": {},
   "outputs": [],
   "source": [
    "reduce_lr = tf.keras.callbacks.ReduceLROnPlateau(monitor='val_loss', factor=0.4,\n",
    "                              patience=2, min_lr=0.0001, verbose = 1, min_delta = 0.005)\n",
    "early = tf.keras.callbacks.EarlyStopping(monitor='val_loss', patience=4)\n",
    "filepath_x = \"models/imagenet_plant_village_Xception.{epoch:02d}-{val_accuracy:.2f}.h5\"\n",
    "checkpoint = tf.keras.callbacks.ModelCheckpoint(filepath = filepath_x, \n",
    "                                                          save_best_only=True , monitor='val_accuracy', mode='max')"
   ]
  },
  {
   "cell_type": "code",
   "execution_count": 22,
   "metadata": {},
   "outputs": [
    {
     "name": "stdout",
     "output_type": "stream",
     "text": [
      "Epoch 1/30\n",
      "1218/1218 [==============================] - 1159s 952ms/step - loss: 2.5203 - accuracy: 0.3428 - val_loss: 12.0881 - val_accuracy: 0.1230\n",
      "Epoch 2/30\n",
      "1218/1218 [==============================] - 1159s 952ms/step - loss: 1.1291 - accuracy: 0.6804 - val_loss: 3.6763 - val_accuracy: 0.4418\n",
      "Epoch 3/30\n",
      "1218/1218 [==============================] - 1154s 947ms/step - loss: 0.2801 - accuracy: 0.9191 - val_loss: 1.1243 - val_accuracy: 0.7159\n",
      "Epoch 4/30\n",
      "1218/1218 [==============================] - 1159s 952ms/step - loss: 0.1427 - accuracy: 0.9543 - val_loss: 0.8079 - val_accuracy: 0.7859\n",
      "Epoch 5/30\n",
      "1218/1218 [==============================] - 1156s 949ms/step - loss: 0.1377 - accuracy: 0.9616 - val_loss: 0.9376 - val_accuracy: 0.7339\n",
      "Epoch 6/30\n",
      "1217/1218 [============================>.] - ETA: 0s - loss: 0.0805 - accuracy: 0.9740\n",
      "Epoch 00006: ReduceLROnPlateau reducing learning rate to 0.001200000010430813.\n",
      "1218/1218 [==============================] - 1151s 945ms/step - loss: 0.0805 - accuracy: 0.9741 - val_loss: 1.2953 - val_accuracy: 0.7324\n",
      "Epoch 7/30\n",
      "1218/1218 [==============================] - 1156s 949ms/step - loss: 0.0429 - accuracy: 0.9861 - val_loss: 0.4359 - val_accuracy: 0.8779\n",
      "Epoch 8/30\n",
      "1218/1218 [==============================] - 1153s 947ms/step - loss: 0.0428 - accuracy: 0.9870 - val_loss: 0.5010 - val_accuracy: 0.8613\n",
      "Epoch 9/30\n",
      "1217/1218 [============================>.] - ETA: 0s - loss: 0.0361 - accuracy: 0.9886\n",
      "Epoch 00009: ReduceLROnPlateau reducing learning rate to 0.00048000002279877666.\n",
      "1218/1218 [==============================] - 1153s 947ms/step - loss: 0.0361 - accuracy: 0.9886 - val_loss: 0.6576 - val_accuracy: 0.8361\n",
      "Epoch 10/30\n",
      "1218/1218 [==============================] - 1150s 944ms/step - loss: 0.0233 - accuracy: 0.9926 - val_loss: 0.4505 - val_accuracy: 0.8788\n",
      "Epoch 11/30\n",
      "1217/1218 [============================>.] - ETA: 0s - loss: 0.0178 - accuracy: 0.9941\n",
      "Epoch 00011: ReduceLROnPlateau reducing learning rate to 0.00019200000679120421.\n",
      "1218/1218 [==============================] - 1151s 945ms/step - loss: 0.0178 - accuracy: 0.9941 - val_loss: 0.4366 - val_accuracy: 0.8798\n"
     ]
    }
   ],
   "source": [
    "total_epochs = 30\n",
    "history_x = model_x.fit_generator(train_data_gen,\n",
    "                         epochs=total_epochs,\n",
    "                         steps_per_epoch=train_data_gen.__len__(),\n",
    "                         validation_data=valid_data_gen,\n",
    "                         validation_steps= valid_data_gen.__len__(),\n",
    "                         callbacks = [reduce_lr , checkpoint, early]\n",
    "                        )"
   ]
  },
  {
   "cell_type": "code",
   "execution_count": null,
   "metadata": {},
   "outputs": [],
   "source": []
  }
 ],
 "metadata": {
  "kernelspec": {
   "display_name": "Python 3",
   "language": "python",
   "name": "python3"
  },
  "language_info": {
   "codemirror_mode": {
    "name": "ipython",
    "version": 3
   },
   "file_extension": ".py",
   "mimetype": "text/x-python",
   "name": "python",
   "nbconvert_exporter": "python",
   "pygments_lexer": "ipython3",
   "version": "3.6.8"
  }
 },
 "nbformat": 4,
 "nbformat_minor": 2
}
