{
 "cells": [
  {
   "cell_type": "markdown",
   "metadata": {},
   "source": [
    "# Fine tune a la red de PlantVillage \n",
    "Para el dataset de arroz\n",
    "https://www.kaggle.com/minhhuy2810/rice-diseases-image-dataset"
   ]
  },
  {
   "cell_type": "code",
   "execution_count": 1,
   "metadata": {},
   "outputs": [],
   "source": [
    "%matplotlib inline"
   ]
  },
  {
   "cell_type": "code",
   "execution_count": 2,
   "metadata": {},
   "outputs": [
    {
     "name": "stdout",
     "output_type": "stream",
     "text": [
      "Requirement already satisfied: scipy in /usr/local/lib/python3.6/dist-packages/scipy-1.3.1-py3.6-linux-x86_64.egg (1.3.1)\n",
      "Requirement already satisfied: pillow in /usr/local/lib/python3.6/dist-packages (6.2.0)\n",
      "Requirement already satisfied: numpy>=1.13.3 in /usr/local/lib/python3.6/dist-packages (from scipy) (1.17.2)\n",
      "\u001b[33mWARNING: You are using pip version 19.2.3, however version 19.3 is available.\n",
      "You should consider upgrading via the 'pip install --upgrade pip' command.\u001b[0m\n"
     ]
    }
   ],
   "source": [
    "!pip install scipy pillow"
   ]
  },
  {
   "cell_type": "code",
   "execution_count": 3,
   "metadata": {},
   "outputs": [
    {
     "name": "stdout",
     "output_type": "stream",
     "text": [
      "2.0.0\n"
     ]
    }
   ],
   "source": [
    "from __future__ import absolute_import, division, print_function, unicode_literals\n",
    "\n",
    "import os\n",
    "import numpy as np\n",
    "import scipy \n",
    "import pathlib\n",
    "import matplotlib.pyplot as plt\n",
    "import tensorflow as tf\n",
    "from PIL import Image\n",
    "import IPython.display as display\n",
    "import time\n",
    "\n",
    "keras = tf.keras\n",
    "print(tf.__version__)"
   ]
  },
  {
   "cell_type": "code",
   "execution_count": 4,
   "metadata": {},
   "outputs": [],
   "source": [
    "data_dir = './dataset/rice/Labelled/Disease'\n",
    "data_dir = pathlib.Path(data_dir)"
   ]
  },
  {
   "cell_type": "code",
   "execution_count": 5,
   "metadata": {},
   "outputs": [
    {
     "name": "stdout",
     "output_type": "stream",
     "text": [
      "Disease: -> 0\n",
      "LeafBlast: -> 779\n",
      "Hispa: -> 565\n",
      "BrownSpot: -> 523\n",
      "Total Files 1867\n"
     ]
    }
   ],
   "source": [
    "N = 0  # total files\n",
    "for dirpath, dirnames, filenames in os.walk(data_dir):    \n",
    "    dirpath = dirpath.split(\"/\")[-1]\n",
    "    if dirpath != \".ipynb_checkpoints\":\n",
    "        N_c = len(filenames)\n",
    "        N += N_c\n",
    "        print( dirpath+ \": -> \" + str(N_c))\n",
    "print( \"Total Files \" + str(N) )"
   ]
  },
  {
   "cell_type": "code",
   "execution_count": 6,
   "metadata": {},
   "outputs": [],
   "source": [
    "image_generator = tf.keras.preprocessing.image.ImageDataGenerator(rescale=1./255,\n",
    "                                                                  validation_split=0.2,                            \n",
    "                                                                  shear_range=0.2,\n",
    "                                                                  zoom_range=0.4,\n",
    "                                                                  horizontal_flip=True,\n",
    "                                                                  rotation_range=20\n",
    "                                                                 )"
   ]
  },
  {
   "cell_type": "code",
   "execution_count": 7,
   "metadata": {},
   "outputs": [
    {
     "data": {
      "text/plain": [
       "25"
      ]
     },
     "execution_count": 7,
     "metadata": {},
     "output_type": "execute_result"
    }
   ],
   "source": [
    "image_count = len(list(data_dir.glob('*/*.jpg'))) + len(list(data_dir.glob('*/*.png')))\n",
    "BATCH_SIZE = 64\n",
    "IMG_HEIGHT = 224\n",
    "IMG_WIDTH = 224\n",
    "STEPS_PER_EPOCH = np.ceil((image_count*0.8)/BATCH_SIZE)\n",
    "int(STEPS_PER_EPOCH)"
   ]
  },
  {
   "cell_type": "code",
   "execution_count": 8,
   "metadata": {},
   "outputs": [
    {
     "data": {
      "text/plain": [
       "array(['LeafBlast', 'Hispa', 'BrownSpot'], dtype='<U9')"
      ]
     },
     "execution_count": 8,
     "metadata": {},
     "output_type": "execute_result"
    }
   ],
   "source": [
    "CLASS_NAMES = np.array([item.name for item in data_dir.glob('*') if item.name != \".ipynb_checkpoints\"])\n",
    "CLASS_NAMES"
   ]
  },
  {
   "cell_type": "code",
   "execution_count": 9,
   "metadata": {},
   "outputs": [],
   "source": [
    "seed = 5"
   ]
  },
  {
   "cell_type": "code",
   "execution_count": 10,
   "metadata": {},
   "outputs": [
    {
     "name": "stdout",
     "output_type": "stream",
     "text": [
      "Found 1495 images belonging to 3 classes.\n"
     ]
    }
   ],
   "source": [
    "train_data_gen = image_generator.flow_from_directory(directory = str(data_dir),\n",
    "                                                     batch_size = BATCH_SIZE,\n",
    "                                                     shuffle = True,\n",
    "                                                     seed = seed,\n",
    "                                                     target_size = (IMG_HEIGHT, IMG_WIDTH),\n",
    "                                                     subset = \"training\",\n",
    "                                                     classes = list(CLASS_NAMES))"
   ]
  },
  {
   "cell_type": "code",
   "execution_count": 11,
   "metadata": {},
   "outputs": [
    {
     "name": "stdout",
     "output_type": "stream",
     "text": [
      "Found 372 images belonging to 3 classes.\n"
     ]
    }
   ],
   "source": [
    "valid_data_gen = image_generator.flow_from_directory(directory = str(data_dir),\n",
    "                                                     batch_size = BATCH_SIZE,\n",
    "                                                     shuffle = True,\n",
    "                                                     seed = seed,\n",
    "                                                     target_size = (IMG_HEIGHT, IMG_WIDTH),\n",
    "                                                     subset = \"validation\",\n",
    "                                                     classes = list(CLASS_NAMES))"
   ]
  },
  {
   "cell_type": "markdown",
   "metadata": {},
   "source": [
    "## Xception"
   ]
  },
  {
   "cell_type": "code",
   "execution_count": 12,
   "metadata": {},
   "outputs": [],
   "source": [
    "model_x = tf.keras.models.load_model('models/plant_village_Xception_trained_01.h5')"
   ]
  },
  {
   "cell_type": "code",
   "execution_count": 13,
   "metadata": {},
   "outputs": [],
   "source": [
    "prediction_layer_x = keras.layers.Dense(len(CLASS_NAMES), activation=\"softmax\", \n",
    "                                      kernel_initializer=keras.initializers.he_normal(seed=seed))\n",
    "model_x.pop()\n",
    "model_x.add(prediction_layer_x)\n",
    "reduce_lr = tf.keras.callbacks.ReduceLROnPlateau(monitor='val_loss', factor=0.4,\n",
    "                              patience=2, min_lr=0.0001, verbose = 1, min_delta = 0.005)\n",
    "early = tf.keras.callbacks.EarlyStopping(monitor='val_loss', patience=4)\n",
    "filepath_x = \"models/plant_village_rice_Xception.{epoch:02d}-{val_accuracy:.2f}.h5\"\n",
    "checkpoint = tf.keras.callbacks.ModelCheckpoint(filepath = filepath_x, \n",
    "                                                          save_best_only=True , monitor='val_accuracy', mode='max')"
   ]
  },
  {
   "cell_type": "code",
   "execution_count": 14,
   "metadata": {},
   "outputs": [],
   "source": [
    "base_learning_rate = 0.003\n",
    "#base_learning_rate = 0.0003\n",
    "model_x.compile(optimizer=tf.keras.optimizers.Adam(lr=base_learning_rate),\n",
    "              loss='categorical_crossentropy',\n",
    "              # loss = 'cosine_proximity'\n",
    "              metrics=['accuracy'])"
   ]
  },
  {
   "cell_type": "code",
   "execution_count": 15,
   "metadata": {},
   "outputs": [
    {
     "name": "stdout",
     "output_type": "stream",
     "text": [
      "Epoch 1/30\n",
      "24/24 [==============================] - 324s 14s/step - loss: 1.1942 - accuracy: 0.5258 - val_loss: 9.3699 - val_accuracy: 0.4167\n",
      "Epoch 2/30\n",
      "24/24 [==============================] - 244s 10s/step - loss: 0.8203 - accuracy: 0.6201 - val_loss: 9.4281 - val_accuracy: 0.4167\n",
      "Epoch 3/30\n",
      "23/24 [===========================>..] - ETA: 6s - loss: 0.7958 - accuracy: 0.6366 \n",
      "Epoch 00003: ReduceLROnPlateau reducing learning rate to 0.0006000000052154065.\n",
      "24/24 [==============================] - 242s 10s/step - loss: 0.7905 - accuracy: 0.6361 - val_loss: 9.3699 - val_accuracy: 0.4167\n",
      "Epoch 4/30\n",
      "24/24 [==============================] - 243s 10s/step - loss: 0.7619 - accuracy: 0.6555 - val_loss: 6.1986 - val_accuracy: 0.6022\n",
      "Epoch 5/30\n",
      "24/24 [==============================] - 241s 10s/step - loss: 0.7329 - accuracy: 0.6682 - val_loss: 6.0142 - val_accuracy: 0.5296\n",
      "Epoch 6/30\n",
      "24/24 [==============================] - 244s 10s/step - loss: 0.7842 - accuracy: 0.6682 - val_loss: 4.9741 - val_accuracy: 0.5565\n",
      "Epoch 7/30\n",
      "24/24 [==============================] - 243s 10s/step - loss: 0.7193 - accuracy: 0.6896 - val_loss: 3.8484 - val_accuracy: 0.4328\n",
      "Epoch 8/30\n",
      "24/24 [==============================] - 243s 10s/step - loss: 0.7086 - accuracy: 0.6950 - val_loss: 2.9897 - val_accuracy: 0.4731\n",
      "Epoch 9/30\n",
      "24/24 [==============================] - 242s 10s/step - loss: 0.6979 - accuracy: 0.6977 - val_loss: 1.7813 - val_accuracy: 0.5161\n",
      "Epoch 10/30\n",
      "24/24 [==============================] - 245s 10s/step - loss: 0.7099 - accuracy: 0.6896 - val_loss: 1.4872 - val_accuracy: 0.4489\n",
      "Epoch 11/30\n",
      "24/24 [==============================] - 244s 10s/step - loss: 0.6535 - accuracy: 0.7151 - val_loss: 1.5839 - val_accuracy: 0.5081\n",
      "Epoch 12/30\n",
      "23/24 [===========================>..] - ETA: 6s - loss: 0.6739 - accuracy: 0.7198 \n",
      "Epoch 00012: ReduceLROnPlateau reducing learning rate to 0.00012000000569969416.\n",
      "24/24 [==============================] - 244s 10s/step - loss: 0.6732 - accuracy: 0.7217 - val_loss: 1.5610 - val_accuracy: 0.4758\n",
      "Epoch 13/30\n",
      "24/24 [==============================] - 244s 10s/step - loss: 0.6227 - accuracy: 0.7425 - val_loss: 1.6447 - val_accuracy: 0.4973\n",
      "Epoch 14/30\n",
      "23/24 [===========================>..] - ETA: 6s - loss: 0.6235 - accuracy: 0.7694 \n",
      "Epoch 00014: ReduceLROnPlateau reducing learning rate to 0.0001.\n",
      "24/24 [==============================] - 243s 10s/step - loss: 0.6164 - accuracy: 0.7726 - val_loss: 1.9062 - val_accuracy: 0.5215\n",
      "Epoch 15/30\n",
      "24/24 [==============================] - 246s 10s/step - loss: 0.6272 - accuracy: 0.7565 - val_loss: 1.8635 - val_accuracy: 0.5108\n",
      "Epoch 16/30\n",
      "24/24 [==============================] - 246s 10s/step - loss: 0.5990 - accuracy: 0.7619 - val_loss: 1.8109 - val_accuracy: 0.5242\n",
      "Epoch 17/30\n",
      "24/24 [==============================] - 242s 10s/step - loss: 0.5869 - accuracy: 0.7779 - val_loss: 1.8509 - val_accuracy: 0.5376\n",
      "Epoch 18/30\n",
      "24/24 [==============================] - 244s 10s/step - loss: 0.5538 - accuracy: 0.7873 - val_loss: 1.6993 - val_accuracy: 0.5376\n",
      "Epoch 19/30\n",
      "24/24 [==============================] - 245s 10s/step - loss: 0.5639 - accuracy: 0.7833 - val_loss: 1.4601 - val_accuracy: 0.5511\n",
      "Epoch 20/30\n",
      "24/24 [==============================] - 243s 10s/step - loss: 0.5560 - accuracy: 0.8000 - val_loss: 1.3937 - val_accuracy: 0.5215\n",
      "Epoch 21/30\n",
      "24/24 [==============================] - 243s 10s/step - loss: 0.5676 - accuracy: 0.7759 - val_loss: 3.4380 - val_accuracy: 0.4919\n",
      "Epoch 22/30\n",
      "24/24 [==============================] - 243s 10s/step - loss: 0.5071 - accuracy: 0.8033 - val_loss: 1.9311 - val_accuracy: 0.5215\n",
      "Epoch 23/30\n",
      "24/24 [==============================] - 244s 10s/step - loss: 0.5226 - accuracy: 0.7946 - val_loss: 1.7076 - val_accuracy: 0.5242\n",
      "Epoch 24/30\n",
      "24/24 [==============================] - 244s 10s/step - loss: 0.4809 - accuracy: 0.8067 - val_loss: 1.7797 - val_accuracy: 0.5672\n",
      "Epoch 25/30\n",
      "24/24 [==============================] - 244s 10s/step - loss: 0.4650 - accuracy: 0.8167 - val_loss: 1.9186 - val_accuracy: 0.5484\n",
      "Epoch 26/30\n",
      "24/24 [==============================] - 243s 10s/step - loss: 0.4794 - accuracy: 0.8080 - val_loss: 2.3799 - val_accuracy: 0.5430\n",
      "Epoch 27/30\n",
      "24/24 [==============================] - 244s 10s/step - loss: 0.4575 - accuracy: 0.8214 - val_loss: 2.2995 - val_accuracy: 0.5484\n",
      "Epoch 28/30\n",
      "24/24 [==============================] - 244s 10s/step - loss: 0.4377 - accuracy: 0.8328 - val_loss: 1.6651 - val_accuracy: 0.5806\n",
      "Epoch 29/30\n",
      "24/24 [==============================] - 244s 10s/step - loss: 0.4456 - accuracy: 0.8214 - val_loss: 1.8182 - val_accuracy: 0.5565\n",
      "Epoch 30/30\n",
      "24/24 [==============================] - 244s 10s/step - loss: 0.4322 - accuracy: 0.8241 - val_loss: 1.5249 - val_accuracy: 0.5914\n",
      "took: 123.18927751779556\n"
     ]
    }
   ],
   "source": [
    "total_epochs = 30\n",
    "start_time = time.time()\n",
    "history_x = model_x.fit_generator(train_data_gen,\n",
    "                         epochs=total_epochs,\n",
    "                         steps_per_epoch=train_data_gen.__len__(),\n",
    "                         validation_data=valid_data_gen,\n",
    "                         validation_steps= valid_data_gen.__len__(),\n",
    "                         callbacks = [reduce_lr , checkpoint]\n",
    "                        )\n",
    "duration = time.time() - start_time\n",
    "print('took: ' + str(duration/60))"
   ]
  },
  {
   "cell_type": "markdown",
   "metadata": {},
   "source": [
    "## Re-Train Last Layers"
   ]
  },
  {
   "cell_type": "code",
   "execution_count": 16,
   "metadata": {},
   "outputs": [],
   "source": [
    "model_x.layers[0].trainable = False"
   ]
  },
  {
   "cell_type": "code",
   "execution_count": 21,
   "metadata": {},
   "outputs": [],
   "source": [
    "base_learning_rate = 0.001\n",
    "#base_learning_rate = 0.0003\n",
    "model_x.compile(optimizer=tf.keras.optimizers.Adam(lr=base_learning_rate),\n",
    "              loss='categorical_crossentropy',\n",
    "              # loss = 'cosine_proximity'\n",
    "              metrics=['accuracy'])"
   ]
  },
  {
   "cell_type": "code",
   "execution_count": 22,
   "metadata": {},
   "outputs": [
    {
     "name": "stdout",
     "output_type": "stream",
     "text": [
      "Model: \"sequential_1\"\n",
      "_________________________________________________________________\n",
      "Layer (type)                 Output Shape              Param #   \n",
      "=================================================================\n",
      "xception (Model)             (None, 7, 7, 2048)        20861480  \n",
      "_________________________________________________________________\n",
      "global_average_pooling2d_1 ( (None, 2048)              0         \n",
      "_________________________________________________________________\n",
      "dense (Dense)                (None, 3)                 6147      \n",
      "=================================================================\n",
      "Total params: 20,867,627\n",
      "Trainable params: 6,147\n",
      "Non-trainable params: 20,861,480\n",
      "_________________________________________________________________\n"
     ]
    }
   ],
   "source": [
    "model_x.summary()"
   ]
  },
  {
   "cell_type": "code",
   "execution_count": 23,
   "metadata": {},
   "outputs": [
    {
     "name": "stdout",
     "output_type": "stream",
     "text": [
      "Epoch 1/30\n",
      "24/24 [==============================] - 315s 13s/step - loss: 0.4376 - accuracy: 0.8221 - val_loss: 1.8090 - val_accuracy: 0.5618\n",
      "Epoch 2/30\n",
      "24/24 [==============================] - 245s 10s/step - loss: 0.4792 - accuracy: 0.8207 - val_loss: 2.9297 - val_accuracy: 0.5726\n",
      "Epoch 3/30\n",
      "23/24 [===========================>..] - ETA: 6s - loss: 0.4806 - accuracy: 0.8239 \n",
      "Epoch 00003: ReduceLROnPlateau reducing learning rate to 0.00020000000949949026.\n",
      "24/24 [==============================] - 243s 10s/step - loss: 0.4750 - accuracy: 0.8254 - val_loss: 2.8567 - val_accuracy: 0.5591\n",
      "Epoch 4/30\n",
      "24/24 [==============================] - 244s 10s/step - loss: 0.4439 - accuracy: 0.8328 - val_loss: 2.7883 - val_accuracy: 0.5672\n",
      "Epoch 5/30\n",
      "23/24 [===========================>..] - ETA: 7s - loss: 0.4457 - accuracy: 0.8239 \n",
      "Epoch 00005: ReduceLROnPlateau reducing learning rate to 0.0001.\n",
      "24/24 [==============================] - 248s 10s/step - loss: 0.4463 - accuracy: 0.8221 - val_loss: 2.0918 - val_accuracy: 0.5618\n"
     ]
    }
   ],
   "source": [
    "history_fine =  model_x.fit_generator(train_data_gen,\n",
    "                         epochs=total_epochs,\n",
    "                         steps_per_epoch=train_data_gen.__len__(),\n",
    "                         validation_data=valid_data_gen,\n",
    "                         validation_steps= valid_data_gen.__len__(),\n",
    "                         callbacks = [reduce_lr , checkpoint, early]\n",
    "                        )"
   ]
  },
  {
   "cell_type": "code",
   "execution_count": null,
   "metadata": {},
   "outputs": [],
   "source": []
  }
 ],
 "metadata": {
  "kernelspec": {
   "display_name": "Python 3",
   "language": "python",
   "name": "python3"
  },
  "language_info": {
   "codemirror_mode": {
    "name": "ipython",
    "version": 3
   },
   "file_extension": ".py",
   "mimetype": "text/x-python",
   "name": "python",
   "nbconvert_exporter": "python",
   "pygments_lexer": "ipython3",
   "version": "3.6.8"
  }
 },
 "nbformat": 4,
 "nbformat_minor": 2
}
